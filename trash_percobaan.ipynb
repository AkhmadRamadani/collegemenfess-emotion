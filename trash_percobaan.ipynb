{
 "cells": [
  {
   "attachments": {},
   "cell_type": "markdown",
   "metadata": {},
   "source": [
    "## Scrapping the tweets between 5th of December - 11st of December\n",
    "\n",
    "Uncoment below line to re-scrap"
   ]
  },
  {
   "cell_type": "code",
   "execution_count": 206,
   "metadata": {},
   "outputs": [],
   "source": [
    "# import twint\n",
    "# import nest_asyncio\n",
    "\n",
    "# nest_asyncio.apply()\n",
    "\n",
    "# c = twint.Config()\n",
    "# c.Username = \"collegemenfess\"\n",
    "# c.Since = \"2022-12-05\"\n",
    "# c.Until = \"2022-12-11\"\n",
    "# c.Store_csv = True\n",
    "# c.Output = \"collegemenfess.csv\"\n",
    "# c.Limit = 5000\n",
    "# c.Pandas = True\n",
    "\n",
    "# twint.run.Search(c)"
   ]
  },
  {
   "cell_type": "code",
   "execution_count": 207,
   "metadata": {},
   "outputs": [
    {
     "data": {
      "text/html": [
       "<div>\n",
       "<style scoped>\n",
       "    .dataframe tbody tr th:only-of-type {\n",
       "        vertical-align: middle;\n",
       "    }\n",
       "\n",
       "    .dataframe tbody tr th {\n",
       "        vertical-align: top;\n",
       "    }\n",
       "\n",
       "    .dataframe thead th {\n",
       "        text-align: right;\n",
       "    }\n",
       "</style>\n",
       "<table border=\"1\" class=\"dataframe\">\n",
       "  <thead>\n",
       "    <tr style=\"text-align: right;\">\n",
       "      <th></th>\n",
       "      <th>id</th>\n",
       "      <th>conversation_id</th>\n",
       "      <th>created_at</th>\n",
       "      <th>date</th>\n",
       "      <th>time</th>\n",
       "      <th>timezone</th>\n",
       "      <th>user_id</th>\n",
       "      <th>username</th>\n",
       "      <th>name</th>\n",
       "      <th>place</th>\n",
       "      <th>...</th>\n",
       "      <th>geo</th>\n",
       "      <th>source</th>\n",
       "      <th>user_rt_id</th>\n",
       "      <th>user_rt</th>\n",
       "      <th>retweet_id</th>\n",
       "      <th>reply_to</th>\n",
       "      <th>retweet_date</th>\n",
       "      <th>translate</th>\n",
       "      <th>trans_src</th>\n",
       "      <th>trans_dest</th>\n",
       "    </tr>\n",
       "  </thead>\n",
       "  <tbody>\n",
       "    <tr>\n",
       "      <th>0</th>\n",
       "      <td>1603569991151804417</td>\n",
       "      <td>1603569991151804417</td>\n",
       "      <td>2022-12-16 08:57:33 WIB</td>\n",
       "      <td>2022-12-16</td>\n",
       "      <td>08:57:33</td>\n",
       "      <td>700</td>\n",
       "      <td>1046084008742801408</td>\n",
       "      <td>collegemenfess</td>\n",
       "      <td>COLLE | CEK PINNED😎</td>\n",
       "      <td>NaN</td>\n",
       "      <td>...</td>\n",
       "      <td>NaN</td>\n",
       "      <td>NaN</td>\n",
       "      <td>NaN</td>\n",
       "      <td>NaN</td>\n",
       "      <td>NaN</td>\n",
       "      <td>[]</td>\n",
       "      <td>NaN</td>\n",
       "      <td>NaN</td>\n",
       "      <td>NaN</td>\n",
       "      <td>NaN</td>\n",
       "    </tr>\n",
       "    <tr>\n",
       "      <th>1</th>\n",
       "      <td>1603569910097285120</td>\n",
       "      <td>1603569910097285120</td>\n",
       "      <td>2022-12-16 08:57:14 WIB</td>\n",
       "      <td>2022-12-16</td>\n",
       "      <td>08:57:14</td>\n",
       "      <td>700</td>\n",
       "      <td>1046084008742801408</td>\n",
       "      <td>collegemenfess</td>\n",
       "      <td>COLLE | CEK PINNED😎</td>\n",
       "      <td>NaN</td>\n",
       "      <td>...</td>\n",
       "      <td>NaN</td>\n",
       "      <td>NaN</td>\n",
       "      <td>NaN</td>\n",
       "      <td>NaN</td>\n",
       "      <td>NaN</td>\n",
       "      <td>[]</td>\n",
       "      <td>NaN</td>\n",
       "      <td>NaN</td>\n",
       "      <td>NaN</td>\n",
       "      <td>NaN</td>\n",
       "    </tr>\n",
       "    <tr>\n",
       "      <th>2</th>\n",
       "      <td>1603569275658448896</td>\n",
       "      <td>1603569275658448896</td>\n",
       "      <td>2022-12-16 08:54:42 WIB</td>\n",
       "      <td>2022-12-16</td>\n",
       "      <td>08:54:42</td>\n",
       "      <td>700</td>\n",
       "      <td>1046084008742801408</td>\n",
       "      <td>collegemenfess</td>\n",
       "      <td>COLLE | CEK PINNED😎</td>\n",
       "      <td>NaN</td>\n",
       "      <td>...</td>\n",
       "      <td>NaN</td>\n",
       "      <td>NaN</td>\n",
       "      <td>NaN</td>\n",
       "      <td>NaN</td>\n",
       "      <td>NaN</td>\n",
       "      <td>[]</td>\n",
       "      <td>NaN</td>\n",
       "      <td>NaN</td>\n",
       "      <td>NaN</td>\n",
       "      <td>NaN</td>\n",
       "    </tr>\n",
       "    <tr>\n",
       "      <th>3</th>\n",
       "      <td>1603569076390924289</td>\n",
       "      <td>1603569076390924289</td>\n",
       "      <td>2022-12-16 08:53:55 WIB</td>\n",
       "      <td>2022-12-16</td>\n",
       "      <td>08:53:55</td>\n",
       "      <td>700</td>\n",
       "      <td>1046084008742801408</td>\n",
       "      <td>collegemenfess</td>\n",
       "      <td>COLLE | CEK PINNED😎</td>\n",
       "      <td>NaN</td>\n",
       "      <td>...</td>\n",
       "      <td>NaN</td>\n",
       "      <td>NaN</td>\n",
       "      <td>NaN</td>\n",
       "      <td>NaN</td>\n",
       "      <td>NaN</td>\n",
       "      <td>[]</td>\n",
       "      <td>NaN</td>\n",
       "      <td>NaN</td>\n",
       "      <td>NaN</td>\n",
       "      <td>NaN</td>\n",
       "    </tr>\n",
       "    <tr>\n",
       "      <th>4</th>\n",
       "      <td>1603568860145528832</td>\n",
       "      <td>1603568860145528832</td>\n",
       "      <td>2022-12-16 08:53:03 WIB</td>\n",
       "      <td>2022-12-16</td>\n",
       "      <td>08:53:03</td>\n",
       "      <td>700</td>\n",
       "      <td>1046084008742801408</td>\n",
       "      <td>collegemenfess</td>\n",
       "      <td>COLLE | CEK PINNED😎</td>\n",
       "      <td>NaN</td>\n",
       "      <td>...</td>\n",
       "      <td>NaN</td>\n",
       "      <td>NaN</td>\n",
       "      <td>NaN</td>\n",
       "      <td>NaN</td>\n",
       "      <td>NaN</td>\n",
       "      <td>[]</td>\n",
       "      <td>NaN</td>\n",
       "      <td>NaN</td>\n",
       "      <td>NaN</td>\n",
       "      <td>NaN</td>\n",
       "    </tr>\n",
       "  </tbody>\n",
       "</table>\n",
       "<p>5 rows × 36 columns</p>\n",
       "</div>"
      ],
      "text/plain": [
       "                    id      conversation_id               created_at  \\\n",
       "0  1603569991151804417  1603569991151804417  2022-12-16 08:57:33 WIB   \n",
       "1  1603569910097285120  1603569910097285120  2022-12-16 08:57:14 WIB   \n",
       "2  1603569275658448896  1603569275658448896  2022-12-16 08:54:42 WIB   \n",
       "3  1603569076390924289  1603569076390924289  2022-12-16 08:53:55 WIB   \n",
       "4  1603568860145528832  1603568860145528832  2022-12-16 08:53:03 WIB   \n",
       "\n",
       "         date      time  timezone              user_id        username  \\\n",
       "0  2022-12-16  08:57:33       700  1046084008742801408  collegemenfess   \n",
       "1  2022-12-16  08:57:14       700  1046084008742801408  collegemenfess   \n",
       "2  2022-12-16  08:54:42       700  1046084008742801408  collegemenfess   \n",
       "3  2022-12-16  08:53:55       700  1046084008742801408  collegemenfess   \n",
       "4  2022-12-16  08:53:03       700  1046084008742801408  collegemenfess   \n",
       "\n",
       "                  name  place  ... geo source user_rt_id user_rt retweet_id  \\\n",
       "0  COLLE | CEK PINNED😎    NaN  ... NaN    NaN        NaN     NaN        NaN   \n",
       "1  COLLE | CEK PINNED😎    NaN  ... NaN    NaN        NaN     NaN        NaN   \n",
       "2  COLLE | CEK PINNED😎    NaN  ... NaN    NaN        NaN     NaN        NaN   \n",
       "3  COLLE | CEK PINNED😎    NaN  ... NaN    NaN        NaN     NaN        NaN   \n",
       "4  COLLE | CEK PINNED😎    NaN  ... NaN    NaN        NaN     NaN        NaN   \n",
       "\n",
       "   reply_to  retweet_date  translate trans_src trans_dest  \n",
       "0        []           NaN        NaN       NaN        NaN  \n",
       "1        []           NaN        NaN       NaN        NaN  \n",
       "2        []           NaN        NaN       NaN        NaN  \n",
       "3        []           NaN        NaN       NaN        NaN  \n",
       "4        []           NaN        NaN       NaN        NaN  \n",
       "\n",
       "[5 rows x 36 columns]"
      ]
     },
     "execution_count": 207,
     "metadata": {},
     "output_type": "execute_result"
    }
   ],
   "source": [
    "import pandas as pd\n",
    "import numpy as np\n",
    "\n",
    "df = pd.read_csv(\"collegemenfess.csv\")\n",
    "\n",
    "df.head()"
   ]
  },
  {
   "cell_type": "code",
   "execution_count": 208,
   "metadata": {},
   "outputs": [
    {
     "data": {
      "text/html": [
       "<div>\n",
       "<style scoped>\n",
       "    .dataframe tbody tr th:only-of-type {\n",
       "        vertical-align: middle;\n",
       "    }\n",
       "\n",
       "    .dataframe tbody tr th {\n",
       "        vertical-align: top;\n",
       "    }\n",
       "\n",
       "    .dataframe thead th {\n",
       "        text-align: right;\n",
       "    }\n",
       "</style>\n",
       "<table border=\"1\" class=\"dataframe\">\n",
       "  <thead>\n",
       "    <tr style=\"text-align: right;\">\n",
       "      <th></th>\n",
       "      <th>tweet</th>\n",
       "      <th>real_tweet</th>\n",
       "    </tr>\n",
       "  </thead>\n",
       "  <tbody>\n",
       "    <tr>\n",
       "      <th>0</th>\n",
       "      <td>[cm] smt 5 mending ikut studi independen dulu ...</td>\n",
       "      <td>[cm] smt 5 mending ikut studi independen dulu ...</td>\n",
       "    </tr>\n",
       "    <tr>\n",
       "      <th>1</th>\n",
       "      <td>[cm] di kampus kalian mahasiswa s1 wajib publi...</td>\n",
       "      <td>[cm] di kampus kalian mahasiswa s1 wajib publi...</td>\n",
       "    </tr>\n",
       "    <tr>\n",
       "      <th>2</th>\n",
       "      <td>[cm] Bisa gk yh tugas UAS ini ngerjain dirinya...</td>\n",
       "      <td>[cm] Bisa gk yh tugas UAS ini ngerjain dirinya...</td>\n",
       "    </tr>\n",
       "    <tr>\n",
       "      <th>3</th>\n",
       "      <td>[CM] Dosen praktikum aku ngasih ini waktu pert...</td>\n",
       "      <td>[CM] Dosen praktikum aku ngasih ini waktu pert...</td>\n",
       "    </tr>\n",
       "    <tr>\n",
       "      <th>4</th>\n",
       "      <td>[cm] Alhamdulilah masih bisa hidup walaupun di...</td>\n",
       "      <td>[cm] Alhamdulilah masih bisa hidup walaupun di...</td>\n",
       "    </tr>\n",
       "  </tbody>\n",
       "</table>\n",
       "</div>"
      ],
      "text/plain": [
       "                                               tweet  \\\n",
       "0  [cm] smt 5 mending ikut studi independen dulu ...   \n",
       "1  [cm] di kampus kalian mahasiswa s1 wajib publi...   \n",
       "2  [cm] Bisa gk yh tugas UAS ini ngerjain dirinya...   \n",
       "3  [CM] Dosen praktikum aku ngasih ini waktu pert...   \n",
       "4  [cm] Alhamdulilah masih bisa hidup walaupun di...   \n",
       "\n",
       "                                          real_tweet  \n",
       "0  [cm] smt 5 mending ikut studi independen dulu ...  \n",
       "1  [cm] di kampus kalian mahasiswa s1 wajib publi...  \n",
       "2  [cm] Bisa gk yh tugas UAS ini ngerjain dirinya...  \n",
       "3  [CM] Dosen praktikum aku ngasih ini waktu pert...  \n",
       "4  [cm] Alhamdulilah masih bisa hidup walaupun di...  "
      ]
     },
     "execution_count": 208,
     "metadata": {},
     "output_type": "execute_result"
    }
   ],
   "source": [
    "# remove other column except tweet\n",
    "\n",
    "df = df[['tweet']]\n",
    "df['real_tweet'] = df['tweet']\n",
    "\n",
    "df.head()"
   ]
  },
  {
   "cell_type": "code",
   "execution_count": 209,
   "metadata": {},
   "outputs": [],
   "source": [
    "import re\n",
    "def cleanTxt(text):\n",
    "    text = re.sub(r'\\[cm\\]|\\[CM\\]|\\[Cm\\]|\\[cM\\]', '', text)\n",
    "    text = re.sub(r'@\\w+|#\\w+', '', text) #Removing @mentions\n",
    "    text = re.sub('#', '', text) # Removing '#' hash tag\n",
    "    text = re.sub('RT[\\s]+', '', text) # Removing RT\n",
    "    text = re.sub('\\w+:\\/\\/\\S+', '', text) # Removing hyperlink\n",
    "    text = re.sub('[^a-zA-Z]', ' ', text)\n",
    "    # lower case\n",
    "    text = text.lower()\n",
    "    # delete unicode\n",
    "    text = text.encode('ascii', 'ignore').decode('ascii')\n",
    "    return text"
   ]
  },
  {
   "cell_type": "code",
   "execution_count": 210,
   "metadata": {},
   "outputs": [],
   "source": [
    "# combine tweets that not have [CM] or [cm] or [Cm] or [cM] to one tweet above\n",
    "# and remove [CM] or [cm] or [Cm] or [cM] from tweet\n",
    "\n",
    "def combineTweet(text):\n",
    "    if text.startswith('[cm]') or text.startswith('[CM]') or text.startswith('[Cm]') or text.startswith('[cM]'):\n",
    "        return text\n",
    "    else:\n",
    "        i = df[df['tweet'] == text].index[0]\n",
    "        text = text + ' ' + df['tweet'][i-1]\n",
    "        df['tweet'][i-1] = ''\n",
    "        return text\n",
    "\n",
    "\n"
   ]
  },
  {
   "cell_type": "code",
   "execution_count": 211,
   "metadata": {},
   "outputs": [],
   "source": [
    "\n",
    "\n",
    "\n",
    "df['real_tweet'] = df['real_tweet'].apply(cleanTxt)\n",
    "# df['real_tweet'] = df['real_tweet'].apply(combineTweet)"
   ]
  },
  {
   "cell_type": "code",
   "execution_count": 212,
   "metadata": {},
   "outputs": [
    {
     "data": {
      "text/plain": [
       "(9860, 2)"
      ]
     },
     "execution_count": 212,
     "metadata": {},
     "output_type": "execute_result"
    }
   ],
   "source": [
    "df.shape"
   ]
  },
  {
   "cell_type": "code",
   "execution_count": 213,
   "metadata": {},
   "outputs": [
    {
     "data": {
      "text/html": [
       "<div>\n",
       "<style scoped>\n",
       "    .dataframe tbody tr th:only-of-type {\n",
       "        vertical-align: middle;\n",
       "    }\n",
       "\n",
       "    .dataframe tbody tr th {\n",
       "        vertical-align: top;\n",
       "    }\n",
       "\n",
       "    .dataframe thead th {\n",
       "        text-align: right;\n",
       "    }\n",
       "</style>\n",
       "<table border=\"1\" class=\"dataframe\">\n",
       "  <thead>\n",
       "    <tr style=\"text-align: right;\">\n",
       "      <th></th>\n",
       "      <th>tweet</th>\n",
       "      <th>real_tweet</th>\n",
       "    </tr>\n",
       "  </thead>\n",
       "  <tbody>\n",
       "    <tr>\n",
       "      <th>0</th>\n",
       "      <td>smt   mending ikut studi independen dulu apa ...</td>\n",
       "      <td>smt   mending ikut studi independen dulu apa ...</td>\n",
       "    </tr>\n",
       "    <tr>\n",
       "      <th>1</th>\n",
       "      <td>di kampus kalian mahasiswa s  wajib publish j...</td>\n",
       "      <td>di kampus kalian mahasiswa s  wajib publish j...</td>\n",
       "    </tr>\n",
       "    <tr>\n",
       "      <th>2</th>\n",
       "      <td>bisa gk yh tugas uas ini ngerjain dirinya sen...</td>\n",
       "      <td>bisa gk yh tugas uas ini ngerjain dirinya sen...</td>\n",
       "    </tr>\n",
       "    <tr>\n",
       "      <th>3</th>\n",
       "      <td>dosen praktikum aku ngasih ini waktu pertemua...</td>\n",
       "      <td>dosen praktikum aku ngasih ini waktu pertemua...</td>\n",
       "    </tr>\n",
       "    <tr>\n",
       "      <th>4</th>\n",
       "      <td>alhamdulilah masih bisa hidup walaupun dikasi...</td>\n",
       "      <td>alhamdulilah masih bisa hidup walaupun dikasi...</td>\n",
       "    </tr>\n",
       "  </tbody>\n",
       "</table>\n",
       "</div>"
      ],
      "text/plain": [
       "                                               tweet  \\\n",
       "0   smt   mending ikut studi independen dulu apa ...   \n",
       "1   di kampus kalian mahasiswa s  wajib publish j...   \n",
       "2   bisa gk yh tugas uas ini ngerjain dirinya sen...   \n",
       "3   dosen praktikum aku ngasih ini waktu pertemua...   \n",
       "4   alhamdulilah masih bisa hidup walaupun dikasi...   \n",
       "\n",
       "                                          real_tweet  \n",
       "0   smt   mending ikut studi independen dulu apa ...  \n",
       "1   di kampus kalian mahasiswa s  wajib publish j...  \n",
       "2   bisa gk yh tugas uas ini ngerjain dirinya sen...  \n",
       "3   dosen praktikum aku ngasih ini waktu pertemua...  \n",
       "4   alhamdulilah masih bisa hidup walaupun dikasi...  "
      ]
     },
     "execution_count": 213,
     "metadata": {},
     "output_type": "execute_result"
    }
   ],
   "source": [
    "# Clean the tweets\n",
    "df['tweet'] = df['tweet'].apply(cleanTxt)\n",
    "\n",
    "df.head()"
   ]
  },
  {
   "cell_type": "code",
   "execution_count": 214,
   "metadata": {},
   "outputs": [
    {
     "data": {
      "text/html": [
       "<div>\n",
       "<style scoped>\n",
       "    .dataframe tbody tr th:only-of-type {\n",
       "        vertical-align: middle;\n",
       "    }\n",
       "\n",
       "    .dataframe tbody tr th {\n",
       "        vertical-align: top;\n",
       "    }\n",
       "\n",
       "    .dataframe thead th {\n",
       "        text-align: right;\n",
       "    }\n",
       "</style>\n",
       "<table border=\"1\" class=\"dataframe\">\n",
       "  <thead>\n",
       "    <tr style=\"text-align: right;\">\n",
       "      <th></th>\n",
       "      <th>tweet</th>\n",
       "      <th>real_tweet</th>\n",
       "    </tr>\n",
       "  </thead>\n",
       "  <tbody>\n",
       "    <tr>\n",
       "      <th>0</th>\n",
       "      <td>[smt, mending, ikut, studi, independen, dulu, ...</td>\n",
       "      <td>smt   mending ikut studi independen dulu apa ...</td>\n",
       "    </tr>\n",
       "    <tr>\n",
       "      <th>1</th>\n",
       "      <td>[di, kampus, kalian, mahasiswa, s, wajib, publ...</td>\n",
       "      <td>di kampus kalian mahasiswa s  wajib publish j...</td>\n",
       "    </tr>\n",
       "    <tr>\n",
       "      <th>2</th>\n",
       "      <td>[bisa, gk, yh, tugas, uas, ini, ngerjain, diri...</td>\n",
       "      <td>bisa gk yh tugas uas ini ngerjain dirinya sen...</td>\n",
       "    </tr>\n",
       "    <tr>\n",
       "      <th>3</th>\n",
       "      <td>[dosen, praktikum, aku, ngasih, ini, waktu, pe...</td>\n",
       "      <td>dosen praktikum aku ngasih ini waktu pertemua...</td>\n",
       "    </tr>\n",
       "    <tr>\n",
       "      <th>4</th>\n",
       "      <td>[alhamdulilah, masih, bisa, hidup, walaupun, d...</td>\n",
       "      <td>alhamdulilah masih bisa hidup walaupun dikasi...</td>\n",
       "    </tr>\n",
       "  </tbody>\n",
       "</table>\n",
       "</div>"
      ],
      "text/plain": [
       "                                               tweet  \\\n",
       "0  [smt, mending, ikut, studi, independen, dulu, ...   \n",
       "1  [di, kampus, kalian, mahasiswa, s, wajib, publ...   \n",
       "2  [bisa, gk, yh, tugas, uas, ini, ngerjain, diri...   \n",
       "3  [dosen, praktikum, aku, ngasih, ini, waktu, pe...   \n",
       "4  [alhamdulilah, masih, bisa, hidup, walaupun, d...   \n",
       "\n",
       "                                          real_tweet  \n",
       "0   smt   mending ikut studi independen dulu apa ...  \n",
       "1   di kampus kalian mahasiswa s  wajib publish j...  \n",
       "2   bisa gk yh tugas uas ini ngerjain dirinya sen...  \n",
       "3   dosen praktikum aku ngasih ini waktu pertemua...  \n",
       "4   alhamdulilah masih bisa hidup walaupun dikasi...  "
      ]
     },
     "execution_count": 214,
     "metadata": {},
     "output_type": "execute_result"
    }
   ],
   "source": [
    "# tokenization\n",
    "import nltk\n",
    "from nltk.tokenize import word_tokenize\n",
    "df['tweet'] = df['tweet'].apply(word_tokenize)\n",
    "\n",
    "df.head()"
   ]
  },
  {
   "cell_type": "code",
   "execution_count": 215,
   "metadata": {},
   "outputs": [
    {
     "data": {
      "text/html": [
       "<div>\n",
       "<style scoped>\n",
       "    .dataframe tbody tr th:only-of-type {\n",
       "        vertical-align: middle;\n",
       "    }\n",
       "\n",
       "    .dataframe tbody tr th {\n",
       "        vertical-align: top;\n",
       "    }\n",
       "\n",
       "    .dataframe thead th {\n",
       "        text-align: right;\n",
       "    }\n",
       "</style>\n",
       "<table border=\"1\" class=\"dataframe\">\n",
       "  <thead>\n",
       "    <tr style=\"text-align: right;\">\n",
       "      <th></th>\n",
       "      <th>tweet</th>\n",
       "      <th>real_tweet</th>\n",
       "    </tr>\n",
       "  </thead>\n",
       "  <tbody>\n",
       "    <tr>\n",
       "      <th>0</th>\n",
       "      <td>[smt, mending, ikut, studi, independen, dulu, ...</td>\n",
       "      <td>smt   mending ikut studi independen dulu apa ...</td>\n",
       "    </tr>\n",
       "    <tr>\n",
       "      <th>1</th>\n",
       "      <td>[di, kampus, kalian, mahasiswa, s, wajib, publ...</td>\n",
       "      <td>di kampus kalian mahasiswa s  wajib publish j...</td>\n",
       "    </tr>\n",
       "    <tr>\n",
       "      <th>2</th>\n",
       "      <td>[bisa, gk, yh, tugas, uas, ini, ngerjain, diri...</td>\n",
       "      <td>bisa gk yh tugas uas ini ngerjain dirinya sen...</td>\n",
       "    </tr>\n",
       "    <tr>\n",
       "      <th>3</th>\n",
       "      <td>[dosen, praktikum, aku, ngasih, ini, waktu, te...</td>\n",
       "      <td>dosen praktikum aku ngasih ini waktu pertemua...</td>\n",
       "    </tr>\n",
       "    <tr>\n",
       "      <th>4</th>\n",
       "      <td>[alhamdulilah, masih, bisa, hidup, walaupun, k...</td>\n",
       "      <td>alhamdulilah masih bisa hidup walaupun dikasi...</td>\n",
       "    </tr>\n",
       "  </tbody>\n",
       "</table>\n",
       "</div>"
      ],
      "text/plain": [
       "                                               tweet  \\\n",
       "0  [smt, mending, ikut, studi, independen, dulu, ...   \n",
       "1  [di, kampus, kalian, mahasiswa, s, wajib, publ...   \n",
       "2  [bisa, gk, yh, tugas, uas, ini, ngerjain, diri...   \n",
       "3  [dosen, praktikum, aku, ngasih, ini, waktu, te...   \n",
       "4  [alhamdulilah, masih, bisa, hidup, walaupun, k...   \n",
       "\n",
       "                                          real_tweet  \n",
       "0   smt   mending ikut studi independen dulu apa ...  \n",
       "1   di kampus kalian mahasiswa s  wajib publish j...  \n",
       "2   bisa gk yh tugas uas ini ngerjain dirinya sen...  \n",
       "3   dosen praktikum aku ngasih ini waktu pertemua...  \n",
       "4   alhamdulilah masih bisa hidup walaupun dikasi...  "
      ]
     },
     "execution_count": 215,
     "metadata": {},
     "output_type": "execute_result"
    }
   ],
   "source": [
    "# stemming using sastrawi\n",
    "from Sastrawi.Stemmer.StemmerFactory import StemmerFactory\n",
    "factory = StemmerFactory()\n",
    "stemmer = factory.create_stemmer()\n",
    "df['tweet'] = df['tweet'].apply(lambda x: [stemmer.stem(y) for y in x])\n",
    "df.head()"
   ]
  },
  {
   "cell_type": "code",
   "execution_count": 216,
   "metadata": {},
   "outputs": [
    {
     "data": {
      "text/html": [
       "<div>\n",
       "<style scoped>\n",
       "    .dataframe tbody tr th:only-of-type {\n",
       "        vertical-align: middle;\n",
       "    }\n",
       "\n",
       "    .dataframe tbody tr th {\n",
       "        vertical-align: top;\n",
       "    }\n",
       "\n",
       "    .dataframe thead th {\n",
       "        text-align: right;\n",
       "    }\n",
       "</style>\n",
       "<table border=\"1\" class=\"dataframe\">\n",
       "  <thead>\n",
       "    <tr style=\"text-align: right;\">\n",
       "      <th></th>\n",
       "      <th>tweet</th>\n",
       "      <th>real_tweet</th>\n",
       "    </tr>\n",
       "  </thead>\n",
       "  <tbody>\n",
       "    <tr>\n",
       "      <th>0</th>\n",
       "      <td>[smt, mending, , studi, independen, , , magang...</td>\n",
       "      <td>smt   mending ikut studi independen dulu apa ...</td>\n",
       "    </tr>\n",
       "    <tr>\n",
       "      <th>1</th>\n",
       "      <td>[, kampus, , mahasiswa, , wajib, publish, jurn...</td>\n",
       "      <td>di kampus kalian mahasiswa s  wajib publish j...</td>\n",
       "    </tr>\n",
       "    <tr>\n",
       "      <th>2</th>\n",
       "      <td>[, gk, yh, tugas, uas, , ngerjain, , , gausah,...</td>\n",
       "      <td>bisa gk yh tugas uas ini ngerjain dirinya sen...</td>\n",
       "    </tr>\n",
       "    <tr>\n",
       "      <th>3</th>\n",
       "      <td>[dosen, praktikum, , ngasih, , waktu, temu, ke...</td>\n",
       "      <td>dosen praktikum aku ngasih ini waktu pertemua...</td>\n",
       "    </tr>\n",
       "    <tr>\n",
       "      <th>4</th>\n",
       "      <td>[alhamdulilah, , , hidup, , kasi, , include, k...</td>\n",
       "      <td>alhamdulilah masih bisa hidup walaupun dikasi...</td>\n",
       "    </tr>\n",
       "  </tbody>\n",
       "</table>\n",
       "</div>"
      ],
      "text/plain": [
       "                                               tweet  \\\n",
       "0  [smt, mending, , studi, independen, , , magang...   \n",
       "1  [, kampus, , mahasiswa, , wajib, publish, jurn...   \n",
       "2  [, gk, yh, tugas, uas, , ngerjain, , , gausah,...   \n",
       "3  [dosen, praktikum, , ngasih, , waktu, temu, ke...   \n",
       "4  [alhamdulilah, , , hidup, , kasi, , include, k...   \n",
       "\n",
       "                                          real_tweet  \n",
       "0   smt   mending ikut studi independen dulu apa ...  \n",
       "1   di kampus kalian mahasiswa s  wajib publish j...  \n",
       "2   bisa gk yh tugas uas ini ngerjain dirinya sen...  \n",
       "3   dosen praktikum aku ngasih ini waktu pertemua...  \n",
       "4   alhamdulilah masih bisa hidup walaupun dikasi...  "
      ]
     },
     "execution_count": 216,
     "metadata": {},
     "output_type": "execute_result"
    }
   ],
   "source": [
    "# remove stopword\n",
    "from Sastrawi.StopWordRemover.StopWordRemoverFactory import StopWordRemoverFactory\n",
    "factory = StopWordRemoverFactory()\n",
    "stopword = factory.create_stop_word_remover()\n",
    "df['tweet'] = df['tweet'].apply(lambda x: [stopword.remove(y) for y in x])\n",
    "df.head()\n"
   ]
  },
  {
   "cell_type": "code",
   "execution_count": 278,
   "metadata": {},
   "outputs": [
    {
     "name": "stdout",
     "output_type": "stream",
     "text": [
      "Collecting vaderSentiment\n",
      "  Downloading vaderSentiment-3.3.2-py2.py3-none-any.whl (125 kB)\n",
      "\u001b[2K     \u001b[90m━━━━━━━━━━━━━━━━━━━━━━━━━━━━━━━━━━━━━━━\u001b[0m \u001b[32m126.0/126.0 kB\u001b[0m \u001b[31m1.7 MB/s\u001b[0m eta \u001b[36m0:00:00\u001b[0ma \u001b[36m0:00:01\u001b[0m\n",
      "\u001b[?25hRequirement already satisfied: requests in /Users/akhmadramadani/Documents/TF/miniconda3/lib/python3.9/site-packages (from vaderSentiment) (2.28.1)\n",
      "Requirement already satisfied: certifi>=2017.4.17 in /Users/akhmadramadani/Documents/TF/miniconda3/lib/python3.9/site-packages (from requests->vaderSentiment) (2022.12.7)\n",
      "Requirement already satisfied: charset-normalizer<3,>=2 in /Users/akhmadramadani/Documents/TF/miniconda3/lib/python3.9/site-packages (from requests->vaderSentiment) (2.0.4)\n",
      "Requirement already satisfied: idna<4,>=2.5 in /Users/akhmadramadani/Documents/TF/miniconda3/lib/python3.9/site-packages (from requests->vaderSentiment) (2.10)\n",
      "Requirement already satisfied: urllib3<1.27,>=1.21.1 in /Users/akhmadramadani/Documents/TF/miniconda3/lib/python3.9/site-packages (from requests->vaderSentiment) (1.26.12)\n",
      "Installing collected packages: vaderSentiment\n",
      "Successfully installed vaderSentiment-3.3.2\n"
     ]
    }
   ],
   "source": [
    "!pip install vaderSentiment"
   ]
  },
  {
   "cell_type": "code",
   "execution_count": null,
   "metadata": {},
   "outputs": [],
   "source": []
  },
  {
   "cell_type": "code",
   "execution_count": 279,
   "metadata": {},
   "outputs": [
    {
     "data": {
      "text/html": [
       "<div>\n",
       "<style scoped>\n",
       "    .dataframe tbody tr th:only-of-type {\n",
       "        vertical-align: middle;\n",
       "    }\n",
       "\n",
       "    .dataframe tbody tr th {\n",
       "        vertical-align: top;\n",
       "    }\n",
       "\n",
       "    .dataframe thead th {\n",
       "        text-align: right;\n",
       "    }\n",
       "</style>\n",
       "<table border=\"1\" class=\"dataframe\">\n",
       "  <thead>\n",
       "    <tr style=\"text-align: right;\">\n",
       "      <th></th>\n",
       "      <th>tweet</th>\n",
       "      <th>real_tweet</th>\n",
       "      <th>token</th>\n",
       "      <th>label</th>\n",
       "      <th>vector</th>\n",
       "      <th>new_label</th>\n",
       "      <th>sentiment</th>\n",
       "    </tr>\n",
       "  </thead>\n",
       "  <tbody>\n",
       "    <tr>\n",
       "      <th>0</th>\n",
       "      <td>smt mending studi independen magang yaa semest...</td>\n",
       "      <td>smt   mending ikut studi independen dulu apa ...</td>\n",
       "      <td>[smt, mending, studi, independen, magang, yaa,...</td>\n",
       "      <td>neutral</td>\n",
       "      <td>[-0.273067685465018, 0.7634588248199887, 0.174...</td>\n",
       "      <td>2</td>\n",
       "      <td>0.0</td>\n",
       "    </tr>\n",
       "    <tr>\n",
       "      <th>1</th>\n",
       "      <td>kampus mahasiswa wajib publish jurnal indeks s...</td>\n",
       "      <td>di kampus kalian mahasiswa s  wajib publish j...</td>\n",
       "      <td>[kampus, mahasiswa, wajib, publish, jurnal, in...</td>\n",
       "      <td>neutral</td>\n",
       "      <td>[-0.2455397993326187, 0.7762674403687319, 0.16...</td>\n",
       "      <td>2</td>\n",
       "      <td>0.0</td>\n",
       "    </tr>\n",
       "    <tr>\n",
       "      <th>2</th>\n",
       "      <td>gk yh tugas uas ngerjain gausah manja utk bant...</td>\n",
       "      <td>bisa gk yh tugas uas ini ngerjain dirinya sen...</td>\n",
       "      <td>[gk, yh, tugas, uas, ngerjain, gausah, manja, ...</td>\n",
       "      <td>negative</td>\n",
       "      <td>[-0.2046788539737463, 0.5637678589671851, 0.02...</td>\n",
       "      <td>2</td>\n",
       "      <td>0.0</td>\n",
       "    </tr>\n",
       "    <tr>\n",
       "      <th>3</th>\n",
       "      <td>dosen praktikum ngasih waktu temu kelas haru b...</td>\n",
       "      <td>dosen praktikum aku ngasih ini waktu pertemua...</td>\n",
       "      <td>[dosen, praktikum, ngasih, waktu, temu, kelas,...</td>\n",
       "      <td>negative</td>\n",
       "      <td>[-0.18299508940738937, 0.7705543590709567, 0.1...</td>\n",
       "      <td>2</td>\n",
       "      <td>0.0</td>\n",
       "    </tr>\n",
       "    <tr>\n",
       "      <th>4</th>\n",
       "      <td>alhamdulilah hidup kasi include kos kuliah jkt</td>\n",
       "      <td>alhamdulilah masih bisa hidup walaupun dikasi...</td>\n",
       "      <td>[alhamdulilah, hidup, kasi, include, kos, kuli...</td>\n",
       "      <td>negative</td>\n",
       "      <td>[-0.1342602487919586, 0.4469682683369943, 0.08...</td>\n",
       "      <td>1</td>\n",
       "      <td>0.0</td>\n",
       "    </tr>\n",
       "  </tbody>\n",
       "</table>\n",
       "</div>"
      ],
      "text/plain": [
       "                                               tweet  \\\n",
       "0  smt mending studi independen magang yaa semest...   \n",
       "1  kampus mahasiswa wajib publish jurnal indeks s...   \n",
       "2  gk yh tugas uas ngerjain gausah manja utk bant...   \n",
       "3  dosen praktikum ngasih waktu temu kelas haru b...   \n",
       "4     alhamdulilah hidup kasi include kos kuliah jkt   \n",
       "\n",
       "                                          real_tweet  \\\n",
       "0   smt   mending ikut studi independen dulu apa ...   \n",
       "1   di kampus kalian mahasiswa s  wajib publish j...   \n",
       "2   bisa gk yh tugas uas ini ngerjain dirinya sen...   \n",
       "3   dosen praktikum aku ngasih ini waktu pertemua...   \n",
       "4   alhamdulilah masih bisa hidup walaupun dikasi...   \n",
       "\n",
       "                                               token     label  \\\n",
       "0  [smt, mending, studi, independen, magang, yaa,...   neutral   \n",
       "1  [kampus, mahasiswa, wajib, publish, jurnal, in...   neutral   \n",
       "2  [gk, yh, tugas, uas, ngerjain, gausah, manja, ...  negative   \n",
       "3  [dosen, praktikum, ngasih, waktu, temu, kelas,...  negative   \n",
       "4  [alhamdulilah, hidup, kasi, include, kos, kuli...  negative   \n",
       "\n",
       "                                              vector  new_label  sentiment  \n",
       "0  [-0.273067685465018, 0.7634588248199887, 0.174...          2        0.0  \n",
       "1  [-0.2455397993326187, 0.7762674403687319, 0.16...          2        0.0  \n",
       "2  [-0.2046788539737463, 0.5637678589671851, 0.02...          2        0.0  \n",
       "3  [-0.18299508940738937, 0.7705543590709567, 0.1...          2        0.0  \n",
       "4  [-0.1342602487919586, 0.4469682683369943, 0.08...          1        0.0  "
      ]
     },
     "execution_count": 279,
     "metadata": {},
     "output_type": "execute_result"
    }
   ],
   "source": [
    "# get the sentiment of each tweet\n",
    "from vaderSentiment.vaderSentiment import SentimentIntensityAnalyzer\n",
    "analyzer = SentimentIntensityAnalyzer()\n",
    "df['sentiment'] = df['tweet'].apply(lambda x: analyzer.polarity_scores(x)['compound'])\n",
    "df.head()\n"
   ]
  },
  {
   "cell_type": "code",
   "execution_count": 281,
   "metadata": {},
   "outputs": [
    {
     "data": {
      "text/html": [
       "<div>\n",
       "<style scoped>\n",
       "    .dataframe tbody tr th:only-of-type {\n",
       "        vertical-align: middle;\n",
       "    }\n",
       "\n",
       "    .dataframe tbody tr th {\n",
       "        vertical-align: top;\n",
       "    }\n",
       "\n",
       "    .dataframe thead th {\n",
       "        text-align: right;\n",
       "    }\n",
       "</style>\n",
       "<table border=\"1\" class=\"dataframe\">\n",
       "  <thead>\n",
       "    <tr style=\"text-align: right;\">\n",
       "      <th></th>\n",
       "      <th>tweet</th>\n",
       "      <th>real_tweet</th>\n",
       "      <th>token</th>\n",
       "      <th>label</th>\n",
       "      <th>vector</th>\n",
       "      <th>new_label</th>\n",
       "      <th>sentiment</th>\n",
       "    </tr>\n",
       "  </thead>\n",
       "  <tbody>\n",
       "    <tr>\n",
       "      <th>0</th>\n",
       "      <td>smt mending studi independen magang yaa semest...</td>\n",
       "      <td>smt   mending ikut studi independen dulu apa ...</td>\n",
       "      <td>[smt, mending, studi, independen, magang, yaa,...</td>\n",
       "      <td>neutral</td>\n",
       "      <td>[-0.273067685465018, 0.7634588248199887, 0.174...</td>\n",
       "      <td>2</td>\n",
       "      <td>neutral</td>\n",
       "    </tr>\n",
       "    <tr>\n",
       "      <th>1</th>\n",
       "      <td>kampus mahasiswa wajib publish jurnal indeks s...</td>\n",
       "      <td>di kampus kalian mahasiswa s  wajib publish j...</td>\n",
       "      <td>[kampus, mahasiswa, wajib, publish, jurnal, in...</td>\n",
       "      <td>neutral</td>\n",
       "      <td>[-0.2455397993326187, 0.7762674403687319, 0.16...</td>\n",
       "      <td>2</td>\n",
       "      <td>neutral</td>\n",
       "    </tr>\n",
       "    <tr>\n",
       "      <th>2</th>\n",
       "      <td>gk yh tugas uas ngerjain gausah manja utk bant...</td>\n",
       "      <td>bisa gk yh tugas uas ini ngerjain dirinya sen...</td>\n",
       "      <td>[gk, yh, tugas, uas, ngerjain, gausah, manja, ...</td>\n",
       "      <td>negative</td>\n",
       "      <td>[-0.2046788539737463, 0.5637678589671851, 0.02...</td>\n",
       "      <td>2</td>\n",
       "      <td>neutral</td>\n",
       "    </tr>\n",
       "    <tr>\n",
       "      <th>3</th>\n",
       "      <td>dosen praktikum ngasih waktu temu kelas haru b...</td>\n",
       "      <td>dosen praktikum aku ngasih ini waktu pertemua...</td>\n",
       "      <td>[dosen, praktikum, ngasih, waktu, temu, kelas,...</td>\n",
       "      <td>negative</td>\n",
       "      <td>[-0.18299508940738937, 0.7705543590709567, 0.1...</td>\n",
       "      <td>2</td>\n",
       "      <td>neutral</td>\n",
       "    </tr>\n",
       "    <tr>\n",
       "      <th>4</th>\n",
       "      <td>alhamdulilah hidup kasi include kos kuliah jkt</td>\n",
       "      <td>alhamdulilah masih bisa hidup walaupun dikasi...</td>\n",
       "      <td>[alhamdulilah, hidup, kasi, include, kos, kuli...</td>\n",
       "      <td>negative</td>\n",
       "      <td>[-0.1342602487919586, 0.4469682683369943, 0.08...</td>\n",
       "      <td>1</td>\n",
       "      <td>neutral</td>\n",
       "    </tr>\n",
       "  </tbody>\n",
       "</table>\n",
       "</div>"
      ],
      "text/plain": [
       "                                               tweet  \\\n",
       "0  smt mending studi independen magang yaa semest...   \n",
       "1  kampus mahasiswa wajib publish jurnal indeks s...   \n",
       "2  gk yh tugas uas ngerjain gausah manja utk bant...   \n",
       "3  dosen praktikum ngasih waktu temu kelas haru b...   \n",
       "4     alhamdulilah hidup kasi include kos kuliah jkt   \n",
       "\n",
       "                                          real_tweet  \\\n",
       "0   smt   mending ikut studi independen dulu apa ...   \n",
       "1   di kampus kalian mahasiswa s  wajib publish j...   \n",
       "2   bisa gk yh tugas uas ini ngerjain dirinya sen...   \n",
       "3   dosen praktikum aku ngasih ini waktu pertemua...   \n",
       "4   alhamdulilah masih bisa hidup walaupun dikasi...   \n",
       "\n",
       "                                               token     label  \\\n",
       "0  [smt, mending, studi, independen, magang, yaa,...   neutral   \n",
       "1  [kampus, mahasiswa, wajib, publish, jurnal, in...   neutral   \n",
       "2  [gk, yh, tugas, uas, ngerjain, gausah, manja, ...  negative   \n",
       "3  [dosen, praktikum, ngasih, waktu, temu, kelas,...  negative   \n",
       "4  [alhamdulilah, hidup, kasi, include, kos, kuli...  negative   \n",
       "\n",
       "                                              vector  new_label sentiment  \n",
       "0  [-0.273067685465018, 0.7634588248199887, 0.174...          2   neutral  \n",
       "1  [-0.2455397993326187, 0.7762674403687319, 0.16...          2   neutral  \n",
       "2  [-0.2046788539737463, 0.5637678589671851, 0.02...          2   neutral  \n",
       "3  [-0.18299508940738937, 0.7705543590709567, 0.1...          2   neutral  \n",
       "4  [-0.1342602487919586, 0.4469682683369943, 0.08...          1   neutral  "
      ]
     },
     "execution_count": 281,
     "metadata": {},
     "output_type": "execute_result"
    }
   ],
   "source": [
    "# count the sentiment of each tweet \n",
    "# if sentiment > 0.05 then positive\n",
    "# if sentiment < -0.05 then negative\n",
    "# if sentiment between -0.05 and 0.05 then neutral\n",
    "\n",
    "def sentiment(x):\n",
    "    if x > 0.05:\n",
    "        return 'positive'\n",
    "    elif x < -0.05:\n",
    "        return 'negative'\n",
    "    else:\n",
    "        return 'neutral'\n",
    "\n",
    "df['sentiment'] = df['sentiment'].apply(sentiment)\n",
    "df.head()"
   ]
  },
  {
   "cell_type": "code",
   "execution_count": 282,
   "metadata": {},
   "outputs": [
    {
     "data": {
      "text/plain": [
       "neutral     7415\n",
       "positive    1744\n",
       "negative     688\n",
       "Name: sentiment, dtype: int64"
      ]
     },
     "execution_count": 282,
     "metadata": {},
     "output_type": "execute_result"
    }
   ],
   "source": [
    "# count the sentiment of each tweet\n",
    "df['sentiment'].value_counts()"
   ]
  },
  {
   "cell_type": "code",
   "execution_count": 283,
   "metadata": {},
   "outputs": [
    {
     "data": {
      "text/plain": [
       "negative    5591\n",
       "neutral     3428\n",
       "positive     828\n",
       "Name: label, dtype: int64"
      ]
     },
     "execution_count": 283,
     "metadata": {},
     "output_type": "execute_result"
    }
   ],
   "source": [
    "# count the label\n",
    "df['label'].value_counts()"
   ]
  },
  {
   "cell_type": "code",
   "execution_count": 284,
   "metadata": {},
   "outputs": [
    {
     "data": {
      "text/plain": [
       "2    4805\n",
       "1    3869\n",
       "0    1173\n",
       "Name: new_label, dtype: int64"
      ]
     },
     "execution_count": 284,
     "metadata": {},
     "output_type": "execute_result"
    }
   ],
   "source": [
    "# count new label\n",
    "df['new_label'].value_counts()"
   ]
  },
  {
   "cell_type": "code",
   "execution_count": 217,
   "metadata": {},
   "outputs": [
    {
     "data": {
      "text/html": [
       "<div>\n",
       "<style scoped>\n",
       "    .dataframe tbody tr th:only-of-type {\n",
       "        vertical-align: middle;\n",
       "    }\n",
       "\n",
       "    .dataframe tbody tr th {\n",
       "        vertical-align: top;\n",
       "    }\n",
       "\n",
       "    .dataframe thead th {\n",
       "        text-align: right;\n",
       "    }\n",
       "</style>\n",
       "<table border=\"1\" class=\"dataframe\">\n",
       "  <thead>\n",
       "    <tr style=\"text-align: right;\">\n",
       "      <th></th>\n",
       "      <th>tweet</th>\n",
       "      <th>real_tweet</th>\n",
       "    </tr>\n",
       "  </thead>\n",
       "  <tbody>\n",
       "    <tr>\n",
       "      <th>0</th>\n",
       "      <td>[smt, mending, studi, independen, magang, yaa,...</td>\n",
       "      <td>smt   mending ikut studi independen dulu apa ...</td>\n",
       "    </tr>\n",
       "    <tr>\n",
       "      <th>1</th>\n",
       "      <td>[kampus, mahasiswa, wajib, publish, jurnal, in...</td>\n",
       "      <td>di kampus kalian mahasiswa s  wajib publish j...</td>\n",
       "    </tr>\n",
       "    <tr>\n",
       "      <th>2</th>\n",
       "      <td>[gk, yh, tugas, uas, ngerjain, gausah, manja, ...</td>\n",
       "      <td>bisa gk yh tugas uas ini ngerjain dirinya sen...</td>\n",
       "    </tr>\n",
       "    <tr>\n",
       "      <th>3</th>\n",
       "      <td>[dosen, praktikum, ngasih, waktu, temu, kelas,...</td>\n",
       "      <td>dosen praktikum aku ngasih ini waktu pertemua...</td>\n",
       "    </tr>\n",
       "    <tr>\n",
       "      <th>4</th>\n",
       "      <td>[alhamdulilah, hidup, kasi, include, kos, kuli...</td>\n",
       "      <td>alhamdulilah masih bisa hidup walaupun dikasi...</td>\n",
       "    </tr>\n",
       "  </tbody>\n",
       "</table>\n",
       "</div>"
      ],
      "text/plain": [
       "                                               tweet  \\\n",
       "0  [smt, mending, studi, independen, magang, yaa,...   \n",
       "1  [kampus, mahasiswa, wajib, publish, jurnal, in...   \n",
       "2  [gk, yh, tugas, uas, ngerjain, gausah, manja, ...   \n",
       "3  [dosen, praktikum, ngasih, waktu, temu, kelas,...   \n",
       "4  [alhamdulilah, hidup, kasi, include, kos, kuli...   \n",
       "\n",
       "                                          real_tweet  \n",
       "0   smt   mending ikut studi independen dulu apa ...  \n",
       "1   di kampus kalian mahasiswa s  wajib publish j...  \n",
       "2   bisa gk yh tugas uas ini ngerjain dirinya sen...  \n",
       "3   dosen praktikum aku ngasih ini waktu pertemua...  \n",
       "4   alhamdulilah masih bisa hidup walaupun dikasi...  "
      ]
     },
     "execution_count": 217,
     "metadata": {},
     "output_type": "execute_result"
    }
   ],
   "source": [
    "# remove empty list\n",
    "df['tweet'] = df['tweet'].apply(lambda x: [y for y in x if y != ''])\n",
    "df.head()\n"
   ]
  },
  {
   "cell_type": "code",
   "execution_count": 218,
   "metadata": {},
   "outputs": [
    {
     "data": {
      "text/html": [
       "<div>\n",
       "<style scoped>\n",
       "    .dataframe tbody tr th:only-of-type {\n",
       "        vertical-align: middle;\n",
       "    }\n",
       "\n",
       "    .dataframe tbody tr th {\n",
       "        vertical-align: top;\n",
       "    }\n",
       "\n",
       "    .dataframe thead th {\n",
       "        text-align: right;\n",
       "    }\n",
       "</style>\n",
       "<table border=\"1\" class=\"dataframe\">\n",
       "  <thead>\n",
       "    <tr style=\"text-align: right;\">\n",
       "      <th></th>\n",
       "      <th>tweet</th>\n",
       "      <th>real_tweet</th>\n",
       "      <th>token</th>\n",
       "    </tr>\n",
       "  </thead>\n",
       "  <tbody>\n",
       "    <tr>\n",
       "      <th>0</th>\n",
       "      <td>smt mending studi independen magang yaa semest...</td>\n",
       "      <td>smt   mending ikut studi independen dulu apa ...</td>\n",
       "      <td>[smt, mending, studi, independen, magang, yaa,...</td>\n",
       "    </tr>\n",
       "    <tr>\n",
       "      <th>1</th>\n",
       "      <td>kampus mahasiswa wajib publish jurnal indeks s...</td>\n",
       "      <td>di kampus kalian mahasiswa s  wajib publish j...</td>\n",
       "      <td>[kampus, mahasiswa, wajib, publish, jurnal, in...</td>\n",
       "    </tr>\n",
       "    <tr>\n",
       "      <th>2</th>\n",
       "      <td>gk yh tugas uas ngerjain gausah manja utk bant...</td>\n",
       "      <td>bisa gk yh tugas uas ini ngerjain dirinya sen...</td>\n",
       "      <td>[gk, yh, tugas, uas, ngerjain, gausah, manja, ...</td>\n",
       "    </tr>\n",
       "    <tr>\n",
       "      <th>3</th>\n",
       "      <td>dosen praktikum ngasih waktu temu kelas haru b...</td>\n",
       "      <td>dosen praktikum aku ngasih ini waktu pertemua...</td>\n",
       "      <td>[dosen, praktikum, ngasih, waktu, temu, kelas,...</td>\n",
       "    </tr>\n",
       "    <tr>\n",
       "      <th>4</th>\n",
       "      <td>alhamdulilah hidup kasi include kos kuliah jkt</td>\n",
       "      <td>alhamdulilah masih bisa hidup walaupun dikasi...</td>\n",
       "      <td>[alhamdulilah, hidup, kasi, include, kos, kuli...</td>\n",
       "    </tr>\n",
       "  </tbody>\n",
       "</table>\n",
       "</div>"
      ],
      "text/plain": [
       "                                               tweet  \\\n",
       "0  smt mending studi independen magang yaa semest...   \n",
       "1  kampus mahasiswa wajib publish jurnal indeks s...   \n",
       "2  gk yh tugas uas ngerjain gausah manja utk bant...   \n",
       "3  dosen praktikum ngasih waktu temu kelas haru b...   \n",
       "4     alhamdulilah hidup kasi include kos kuliah jkt   \n",
       "\n",
       "                                          real_tweet  \\\n",
       "0   smt   mending ikut studi independen dulu apa ...   \n",
       "1   di kampus kalian mahasiswa s  wajib publish j...   \n",
       "2   bisa gk yh tugas uas ini ngerjain dirinya sen...   \n",
       "3   dosen praktikum aku ngasih ini waktu pertemua...   \n",
       "4   alhamdulilah masih bisa hidup walaupun dikasi...   \n",
       "\n",
       "                                               token  \n",
       "0  [smt, mending, studi, independen, magang, yaa,...  \n",
       "1  [kampus, mahasiswa, wajib, publish, jurnal, in...  \n",
       "2  [gk, yh, tugas, uas, ngerjain, gausah, manja, ...  \n",
       "3  [dosen, praktikum, ngasih, waktu, temu, kelas,...  \n",
       "4  [alhamdulilah, hidup, kasi, include, kos, kuli...  "
      ]
     },
     "execution_count": 218,
     "metadata": {},
     "output_type": "execute_result"
    }
   ],
   "source": [
    "# rejoin tweet into new column \n",
    "df['token'] = df['tweet']\n",
    "df['tweet'] = df['tweet'].apply(lambda x: ' '.join(x))\n",
    "df.head()"
   ]
  },
  {
   "cell_type": "code",
   "execution_count": 219,
   "metadata": {},
   "outputs": [
    {
     "data": {
      "text/html": [
       "<div>\n",
       "<style scoped>\n",
       "    .dataframe tbody tr th:only-of-type {\n",
       "        vertical-align: middle;\n",
       "    }\n",
       "\n",
       "    .dataframe tbody tr th {\n",
       "        vertical-align: top;\n",
       "    }\n",
       "\n",
       "    .dataframe thead th {\n",
       "        text-align: right;\n",
       "    }\n",
       "</style>\n",
       "<table border=\"1\" class=\"dataframe\">\n",
       "  <thead>\n",
       "    <tr style=\"text-align: right;\">\n",
       "      <th></th>\n",
       "      <th>tweet</th>\n",
       "      <th>real_tweet</th>\n",
       "      <th>token</th>\n",
       "    </tr>\n",
       "  </thead>\n",
       "  <tbody>\n",
       "    <tr>\n",
       "      <th>0</th>\n",
       "      <td>smt mending studi independen magang yaa semest...</td>\n",
       "      <td>smt   mending ikut studi independen dulu apa ...</td>\n",
       "      <td>[smt, mending, studi, independen, magang, yaa,...</td>\n",
       "    </tr>\n",
       "    <tr>\n",
       "      <th>1</th>\n",
       "      <td>kampus mahasiswa wajib publish jurnal indeks s...</td>\n",
       "      <td>di kampus kalian mahasiswa s  wajib publish j...</td>\n",
       "      <td>[kampus, mahasiswa, wajib, publish, jurnal, in...</td>\n",
       "    </tr>\n",
       "    <tr>\n",
       "      <th>2</th>\n",
       "      <td>gk yh tugas uas ngerjain gausah manja utk bant...</td>\n",
       "      <td>bisa gk yh tugas uas ini ngerjain dirinya sen...</td>\n",
       "      <td>[gk, yh, tugas, uas, ngerjain, gausah, manja, ...</td>\n",
       "    </tr>\n",
       "    <tr>\n",
       "      <th>3</th>\n",
       "      <td>dosen praktikum ngasih waktu temu kelas haru b...</td>\n",
       "      <td>dosen praktikum aku ngasih ini waktu pertemua...</td>\n",
       "      <td>[dosen, praktikum, ngasih, waktu, temu, kelas,...</td>\n",
       "    </tr>\n",
       "    <tr>\n",
       "      <th>4</th>\n",
       "      <td>alhamdulilah hidup kasi include kos kuliah jkt</td>\n",
       "      <td>alhamdulilah masih bisa hidup walaupun dikasi...</td>\n",
       "      <td>[alhamdulilah, hidup, kasi, include, kos, kuli...</td>\n",
       "    </tr>\n",
       "  </tbody>\n",
       "</table>\n",
       "</div>"
      ],
      "text/plain": [
       "                                               tweet  \\\n",
       "0  smt mending studi independen magang yaa semest...   \n",
       "1  kampus mahasiswa wajib publish jurnal indeks s...   \n",
       "2  gk yh tugas uas ngerjain gausah manja utk bant...   \n",
       "3  dosen praktikum ngasih waktu temu kelas haru b...   \n",
       "4     alhamdulilah hidup kasi include kos kuliah jkt   \n",
       "\n",
       "                                          real_tweet  \\\n",
       "0   smt   mending ikut studi independen dulu apa ...   \n",
       "1   di kampus kalian mahasiswa s  wajib publish j...   \n",
       "2   bisa gk yh tugas uas ini ngerjain dirinya sen...   \n",
       "3   dosen praktikum aku ngasih ini waktu pertemua...   \n",
       "4   alhamdulilah masih bisa hidup walaupun dikasi...   \n",
       "\n",
       "                                               token  \n",
       "0  [smt, mending, studi, independen, magang, yaa,...  \n",
       "1  [kampus, mahasiswa, wajib, publish, jurnal, in...  \n",
       "2  [gk, yh, tugas, uas, ngerjain, gausah, manja, ...  \n",
       "3  [dosen, praktikum, ngasih, waktu, temu, kelas,...  \n",
       "4  [alhamdulilah, hidup, kasi, include, kos, kuli...  "
      ]
     },
     "execution_count": 219,
     "metadata": {},
     "output_type": "execute_result"
    }
   ],
   "source": [
    "# remove empty tweet\n",
    "df = df[df['tweet'] != '']\n",
    "df.head()"
   ]
  },
  {
   "cell_type": "code",
   "execution_count": 220,
   "metadata": {},
   "outputs": [
    {
     "data": {
      "text/plain": [
       "(9847, 11543)"
      ]
     },
     "execution_count": 220,
     "metadata": {},
     "output_type": "execute_result"
    }
   ],
   "source": [
    "# Vectorization\n",
    "from sklearn.feature_extraction.text import TfidfVectorizer\n",
    "tfidf = TfidfVectorizer()\n",
    "tfidf.fit(df['tweet'])\n",
    "tfidf_matrix = tfidf.transform(df['tweet'])\n",
    "tfidf_matrix.shape\n"
   ]
  },
  {
   "cell_type": "code",
   "execution_count": 221,
   "metadata": {},
   "outputs": [
    {
     "name": "stdout",
     "output_type": "stream",
     "text": [
      "[[1.         0.10734858 0.         ... 0.         0.         0.02599238]\n",
      " [0.10734858 1.         0.         ... 0.01430253 0.         0.03313756]\n",
      " [0.         0.         1.         ... 0.         0.06082396 0.        ]\n",
      " ...\n",
      " [0.         0.01430253 0.         ... 1.         0.05280617 0.        ]\n",
      " [0.         0.         0.06082396 ... 0.05280617 1.         0.        ]\n",
      " [0.02599238 0.03313756 0.         ... 0.         0.         1.        ]]\n"
     ]
    }
   ],
   "source": [
    "# Cosine Similarity\n",
    "from sklearn.metrics.pairwise import cosine_similarity\n",
    "cosine_sim = cosine_similarity(tfidf_matrix, tfidf_matrix)\n",
    "cosine_sim.shape\n",
    "\n",
    "print(cosine_sim)"
   ]
  },
  {
   "cell_type": "code",
   "execution_count": 222,
   "metadata": {},
   "outputs": [
    {
     "data": {
      "image/png": "[encoded data removed]",
      "text/plain": [
       "<Figure size 640x480 with 1 Axes>"
      ]
     },
     "metadata": {},
     "output_type": "display_data"
    },
    {
     "data": {
      "image/png": "[encoded data removed]",
      "text/plain": [
       "<Figure size 640x480 with 1 Axes>"
      ]
     },
     "metadata": {},
     "output_type": "display_data"
    }
   ],
   "source": [
    "# plot scatter plot\n",
    "import matplotlib.pyplot as plt\n",
    "plt.scatter(cosine_sim[:,0], cosine_sim[:,1])\n",
    "plt.show()\n",
    "\n",
    "# plot histogram\n",
    "plt.hist(cosine_sim[:,0])\n",
    "plt.show()\n"
   ]
  },
  {
   "cell_type": "code",
   "execution_count": 223,
   "metadata": {},
   "outputs": [],
   "source": [
    "# k means clustering\n",
    "from sklearn.cluster import KMeans "
   ]
  },
  {
   "cell_type": "code",
   "execution_count": 224,
   "metadata": {},
   "outputs": [
    {
     "name": "stderr",
     "output_type": "stream",
     "text": [
      "/Users/akhmadramadani/Documents/TF/miniconda3/lib/python3.9/site-packages/sklearn/cluster/_kmeans.py:870: FutureWarning: The default value of `n_init` will change from 10 to 'auto' in 1.4. Set the value of `n_init` explicitly to suppress the warning\n",
      "  warnings.warn(\n"
     ]
    },
    {
     "data": {
      "text/html": [
       "<div>\n",
       "<style scoped>\n",
       "    .dataframe tbody tr th:only-of-type {\n",
       "        vertical-align: middle;\n",
       "    }\n",
       "\n",
       "    .dataframe tbody tr th {\n",
       "        vertical-align: top;\n",
       "    }\n",
       "\n",
       "    .dataframe thead th {\n",
       "        text-align: right;\n",
       "    }\n",
       "</style>\n",
       "<table border=\"1\" class=\"dataframe\">\n",
       "  <thead>\n",
       "    <tr style=\"text-align: right;\">\n",
       "      <th></th>\n",
       "      <th>tweet</th>\n",
       "      <th>real_tweet</th>\n",
       "      <th>token</th>\n",
       "      <th>label</th>\n",
       "    </tr>\n",
       "  </thead>\n",
       "  <tbody>\n",
       "    <tr>\n",
       "      <th>0</th>\n",
       "      <td>smt mending studi independen magang yaa semest...</td>\n",
       "      <td>smt   mending ikut studi independen dulu apa ...</td>\n",
       "      <td>[smt, mending, studi, independen, magang, yaa,...</td>\n",
       "      <td>1</td>\n",
       "    </tr>\n",
       "    <tr>\n",
       "      <th>1</th>\n",
       "      <td>kampus mahasiswa wajib publish jurnal indeks s...</td>\n",
       "      <td>di kampus kalian mahasiswa s  wajib publish j...</td>\n",
       "      <td>[kampus, mahasiswa, wajib, publish, jurnal, in...</td>\n",
       "      <td>1</td>\n",
       "    </tr>\n",
       "    <tr>\n",
       "      <th>2</th>\n",
       "      <td>gk yh tugas uas ngerjain gausah manja utk bant...</td>\n",
       "      <td>bisa gk yh tugas uas ini ngerjain dirinya sen...</td>\n",
       "      <td>[gk, yh, tugas, uas, ngerjain, gausah, manja, ...</td>\n",
       "      <td>0</td>\n",
       "    </tr>\n",
       "    <tr>\n",
       "      <th>3</th>\n",
       "      <td>dosen praktikum ngasih waktu temu kelas haru b...</td>\n",
       "      <td>dosen praktikum aku ngasih ini waktu pertemua...</td>\n",
       "      <td>[dosen, praktikum, ngasih, waktu, temu, kelas,...</td>\n",
       "      <td>0</td>\n",
       "    </tr>\n",
       "    <tr>\n",
       "      <th>4</th>\n",
       "      <td>alhamdulilah hidup kasi include kos kuliah jkt</td>\n",
       "      <td>alhamdulilah masih bisa hidup walaupun dikasi...</td>\n",
       "      <td>[alhamdulilah, hidup, kasi, include, kos, kuli...</td>\n",
       "      <td>0</td>\n",
       "    </tr>\n",
       "  </tbody>\n",
       "</table>\n",
       "</div>"
      ],
      "text/plain": [
       "                                               tweet  \\\n",
       "0  smt mending studi independen magang yaa semest...   \n",
       "1  kampus mahasiswa wajib publish jurnal indeks s...   \n",
       "2  gk yh tugas uas ngerjain gausah manja utk bant...   \n",
       "3  dosen praktikum ngasih waktu temu kelas haru b...   \n",
       "4     alhamdulilah hidup kasi include kos kuliah jkt   \n",
       "\n",
       "                                          real_tweet  \\\n",
       "0   smt   mending ikut studi independen dulu apa ...   \n",
       "1   di kampus kalian mahasiswa s  wajib publish j...   \n",
       "2   bisa gk yh tugas uas ini ngerjain dirinya sen...   \n",
       "3   dosen praktikum aku ngasih ini waktu pertemua...   \n",
       "4   alhamdulilah masih bisa hidup walaupun dikasi...   \n",
       "\n",
       "                                               token  label  \n",
       "0  [smt, mending, studi, independen, magang, yaa,...      1  \n",
       "1  [kampus, mahasiswa, wajib, publish, jurnal, in...      1  \n",
       "2  [gk, yh, tugas, uas, ngerjain, gausah, manja, ...      0  \n",
       "3  [dosen, praktikum, ngasih, waktu, temu, kelas,...      0  \n",
       "4  [alhamdulilah, hidup, kasi, include, kos, kuli...      0  "
      ]
     },
     "execution_count": 224,
     "metadata": {},
     "output_type": "execute_result"
    }
   ],
   "source": [
    "# kmeans\n",
    "kmeans = KMeans(n_clusters=3, random_state=0).fit(cosine_sim)\n",
    "kmeans.labels_\n",
    "\n",
    "#input label to dataframe\n",
    "df['label'] = kmeans.labels_\n",
    "df.head()\n"
   ]
  },
  {
   "cell_type": "code",
   "execution_count": 225,
   "metadata": {},
   "outputs": [
    {
     "data": {
      "image/png": "[encoded data removed]",
      "text/plain": [
       "<Figure size 640x480 with 1 Axes>"
      ]
     },
     "metadata": {},
     "output_type": "display_data"
    }
   ],
   "source": [
    "# plot scatter plot\n",
    "import matplotlib.pyplot as plt\n",
    "plt.scatter(cosine_sim[:,0], cosine_sim[:,1], c=kmeans.labels_)\n",
    "plt.show()\n"
   ]
  },
  {
   "cell_type": "code",
   "execution_count": 226,
   "metadata": {},
   "outputs": [
    {
     "data": {
      "image/png": "[encoded data removed]",
      "text/plain": [
       "<Figure size 640x480 with 1 Axes>"
      ]
     },
     "metadata": {},
     "output_type": "display_data"
    }
   ],
   "source": [
    "\n",
    "# plot scatter plot to 3d plot\n",
    "from mpl_toolkits.mplot3d import Axes3D\n",
    "fig = plt.figure()\n",
    "ax = fig.add_subplot(111, projection='3d')\n",
    "ax.scatter(cosine_sim[:,0], cosine_sim[:,1], cosine_sim[:,2], c=kmeans.labels_)\n",
    "plt.show()"
   ]
  },
  {
   "cell_type": "code",
   "execution_count": 227,
   "metadata": {},
   "outputs": [
    {
     "data": {
      "text/plain": [
       "0    5591\n",
       "1    3428\n",
       "2     828\n",
       "Name: label, dtype: int64"
      ]
     },
     "execution_count": 227,
     "metadata": {},
     "output_type": "execute_result"
    }
   ],
   "source": [
    "# count label\n",
    "df['label'].value_counts()\n"
   ]
  },
  {
   "cell_type": "code",
   "execution_count": 228,
   "metadata": {},
   "outputs": [
    {
     "data": {
      "text/html": [
       "<div>\n",
       "<style scoped>\n",
       "    .dataframe tbody tr th:only-of-type {\n",
       "        vertical-align: middle;\n",
       "    }\n",
       "\n",
       "    .dataframe tbody tr th {\n",
       "        vertical-align: top;\n",
       "    }\n",
       "\n",
       "    .dataframe thead th {\n",
       "        text-align: right;\n",
       "    }\n",
       "</style>\n",
       "<table border=\"1\" class=\"dataframe\">\n",
       "  <thead>\n",
       "    <tr style=\"text-align: right;\">\n",
       "      <th></th>\n",
       "      <th>tweet</th>\n",
       "      <th>real_tweet</th>\n",
       "      <th>token</th>\n",
       "      <th>label</th>\n",
       "    </tr>\n",
       "  </thead>\n",
       "  <tbody>\n",
       "    <tr>\n",
       "      <th>0</th>\n",
       "      <td>smt mending studi independen magang yaa semest...</td>\n",
       "      <td>smt   mending ikut studi independen dulu apa ...</td>\n",
       "      <td>[smt, mending, studi, independen, magang, yaa,...</td>\n",
       "      <td>neutral</td>\n",
       "    </tr>\n",
       "    <tr>\n",
       "      <th>1</th>\n",
       "      <td>kampus mahasiswa wajib publish jurnal indeks s...</td>\n",
       "      <td>di kampus kalian mahasiswa s  wajib publish j...</td>\n",
       "      <td>[kampus, mahasiswa, wajib, publish, jurnal, in...</td>\n",
       "      <td>neutral</td>\n",
       "    </tr>\n",
       "    <tr>\n",
       "      <th>2</th>\n",
       "      <td>gk yh tugas uas ngerjain gausah manja utk bant...</td>\n",
       "      <td>bisa gk yh tugas uas ini ngerjain dirinya sen...</td>\n",
       "      <td>[gk, yh, tugas, uas, ngerjain, gausah, manja, ...</td>\n",
       "      <td>negative</td>\n",
       "    </tr>\n",
       "    <tr>\n",
       "      <th>3</th>\n",
       "      <td>dosen praktikum ngasih waktu temu kelas haru b...</td>\n",
       "      <td>dosen praktikum aku ngasih ini waktu pertemua...</td>\n",
       "      <td>[dosen, praktikum, ngasih, waktu, temu, kelas,...</td>\n",
       "      <td>negative</td>\n",
       "    </tr>\n",
       "    <tr>\n",
       "      <th>4</th>\n",
       "      <td>alhamdulilah hidup kasi include kos kuliah jkt</td>\n",
       "      <td>alhamdulilah masih bisa hidup walaupun dikasi...</td>\n",
       "      <td>[alhamdulilah, hidup, kasi, include, kos, kuli...</td>\n",
       "      <td>negative</td>\n",
       "    </tr>\n",
       "  </tbody>\n",
       "</table>\n",
       "</div>"
      ],
      "text/plain": [
       "                                               tweet  \\\n",
       "0  smt mending studi independen magang yaa semest...   \n",
       "1  kampus mahasiswa wajib publish jurnal indeks s...   \n",
       "2  gk yh tugas uas ngerjain gausah manja utk bant...   \n",
       "3  dosen praktikum ngasih waktu temu kelas haru b...   \n",
       "4     alhamdulilah hidup kasi include kos kuliah jkt   \n",
       "\n",
       "                                          real_tweet  \\\n",
       "0   smt   mending ikut studi independen dulu apa ...   \n",
       "1   di kampus kalian mahasiswa s  wajib publish j...   \n",
       "2   bisa gk yh tugas uas ini ngerjain dirinya sen...   \n",
       "3   dosen praktikum aku ngasih ini waktu pertemua...   \n",
       "4   alhamdulilah masih bisa hidup walaupun dikasi...   \n",
       "\n",
       "                                               token     label  \n",
       "0  [smt, mending, studi, independen, magang, yaa,...   neutral  \n",
       "1  [kampus, mahasiswa, wajib, publish, jurnal, in...   neutral  \n",
       "2  [gk, yh, tugas, uas, ngerjain, gausah, manja, ...  negative  \n",
       "3  [dosen, praktikum, ngasih, waktu, temu, kelas,...  negative  \n",
       "4  [alhamdulilah, hidup, kasi, include, kos, kuli...  negative  "
      ]
     },
     "execution_count": 228,
     "metadata": {},
     "output_type": "execute_result"
    }
   ],
   "source": [
    "# labelling each cluster with name \n",
    "# 0 = negative\n",
    "# 1 = neutral\n",
    "# 2 = positive\n",
    "\n",
    "df[\"label\"] = df[\"label\"].replace({0: \"negative\", 1: \"neutral\", 2: \"positive\"})\n",
    "df.head()"
   ]
  },
  {
   "cell_type": "code",
   "execution_count": 229,
   "metadata": {},
   "outputs": [
    {
     "name": "stdout",
     "output_type": "stream",
     "text": [
      "negative\n",
      "[' daftar magang buat anak kupukupu itu susah banget ya  rate ketrimanya berapa '\n",
      " ' biasanya orang yang suka bilang  ngikut  pas rapat kerja kelompok tuh ada pengalaman pendapatnya tidak dihargai'\n",
      " ' kakak kakak jurusan sasing  aku mau nanya dong  dalam sastra bandingan apa kita bisa membandingan suatu karya sastra dengan versi terjemahannya    misal novel bahasa indonesia yg udah diterjemahkan ke bahasa inggris'\n",
      " ' ini gmn ya  mau buat laporan malah begini  mohon penjelasannya    '\n",
      " ' how s ur day  gais  yang lagi masih uas  semangat ' 'akun jahat'\n",
      " 'hey hey hey yang sudah tiba waktunya frofozalan dan zkrepzean  adakah yg seperti shaiyyyaaa    bagaimana ini          '\n",
      " 'untuk dipakai    tahun ke depan masih worth it ga ya  atau ada saran laptop buat instal apk tambahan sama ngeskripsi budget under  jt makasi   '\n",
      " ' guys ada yang punya pdf atau ebook metopen sugiyono      yang ada rumus pengambilan sampel cochran ga ya '\n",
      " ' yang skripsian hukum  ada yang pernah wawancara pelaku tindak pidana gak  kalo adaa kalian bersedia aku tanya tanyain buat sharing gakk ']\n",
      "\n",
      "neutral\n",
      "[' kalian belajar for uas berapa jam  sender  '\n",
      " ' aku punya tante yang aku sama sekali ga dekat  beliau punya anak yg hari ini wisuda dan aku diajak ikut  sejujurnya aku aja ga tau anak nya siapa dan ga pernah jumpa bahkan namanya aja aku ga tau  menurut kalian aku perlu beliin bouquet ga  trims'\n",
      " ' gais minta contoh jawaban interview organissasi klo di tnya  skill apa yg km pny   tapi kita nya ga tau punya skill apa makasii yaa'\n",
      " ' kalian ada yang jurusannya ga ada seminar proposal ga  di jurusan ku gaada soalnya  '\n",
      " ' hai gais aku mau nanya  aku pj matkul  dosenku bilang mata kuliahnya direschedule aja hari jumat  tapi aku tanya jamnya pukul brp blm dibales lagi  ini baiknya aku sampein ke temen temen kelas dulu kalo reschedule jumat dan informasi jamnya nyusul  atau tunggu bapak  cont '\n",
      " ' pagi guys  mau cerita  aku mahasiswa semester    bulan desember ini baru mulai ngerjain proposal soalnya baru dapet acc judul karena emang respon dari dosbing lama bgtt  kadang iri ngeliat yang lain dosbingnya satset  dah kelar proposalan  ngerjain revisi   mau  cont '\n",
      " ' ini laptop sender nyala trus hampir setiap hari dari jam   pagi     malem  maks  krn ngerjain tugas kuliah yg lagi banyak nya  hal kaya gini bkal bikin laptop cepet rusak ga yaa  boleh minta sarannya baiknnya gimana  tia '\n",
      " ' guys ada yang tau ga cara liat fullnya gimana makasi banyak sebelumnya  '\n",
      " ' guys magang merdeka emang durasinya full   bulan semua  atau ada yg kurang dari itu '\n",
      " ' jadi hari ini gw ada janjiian ketemu dosen jam    buat bimbingan  chat wa dosenya gimana ya buat ngingetin klo hari ini gw mau bimbingan lagi sesuai kesepakatan kemarin  ada saran kata kata yang sopanya buat chat dosen  terima kasih yg udha respon']\n",
      "\n",
      "positive\n",
      "[' hiii  adakah yg maw bantu like tugasku atau barter  aku butuh bgttt buat nila  akhir   bakal ku drop di rep yaaw  thank you    '\n",
      " ' guyss ada yg mau jdi responden ku gaa   kriteria mahasiswa s  dari univ di malang  klo mau boleh rep nanti aku dm satu   makasihh    '\n",
      " ' tolong rep ya kalo ada yang sesuai kriteria  terima kasih   '\n",
      " ' guys di sini boleh nyari responden nggak sih  misal ngasih tau kriterianya trs link nya via dm gitu  thx beforehand'\n",
      " 'sender butuh bgtt  sender minta waktunya   menit aja kok buat isi gform  terimakasih  '\n",
      " ' haii ada yg mawu bntu isi kvesioner ku ga ya  kriterianya mahasiswa i psikologi usia       tahun   barter jg gpp  '\n",
      " ' halo  aku mau minta tolong isikan kuisioner ku krn aku butuh    responden untuk tugasku  ada yg mau gak  terimakasi yang mau bantu   nanti aku taro di kolom reply'\n",
      " 'haloooo ada yg mau bantu isi kuesioner tugasku  kriteria responden    aktif bermain sosial media   berusia       tahun tolong bantu isi ya klo kalian termasuk kriteria tsb  link form nya ada di qrt menfess ini  klo ada yg mau bantu sebar jg boleh  makasih temen      '\n",
      " ' teman teman adakah yang bisa bantu aku untuk akses skripsi dari repository umm dan bakrie  makasih guys sebelumnya    '\n",
      " ' temen  temen tolong bantu isi kuisioner temen aku dong butuh banyak responden soalnya   temen aku butuh     orang lagi  yang mau nanti aku dm   terimakasih semuaa']\n"
     ]
    }
   ],
   "source": [
    "# pick 5 random tweet from each label\n",
    "\n",
    "print(\"negative\")\n",
    "print(df[df['label'] == 'negative'].sample(10)['real_tweet'].values)\n",
    "\n",
    "print()\n",
    "print(\"neutral\")\n",
    "print(df[df['label'] == 'neutral'].sample(10)['real_tweet'].values)\n",
    "\n",
    "print()\n",
    "print(\"positive\")\n",
    "print(df[df['label'] == 'positive'].sample(10)['real_tweet'].values)\n",
    "\n"
   ]
  },
  {
   "cell_type": "code",
   "execution_count": 230,
   "metadata": {},
   "outputs": [],
   "source": [
    "# using word2vec to get vector representation of each word\n",
    "from gensim.models import Word2Vec\n",
    "model = Word2Vec(df['token'], min_count=1)\n",
    "\n"
   ]
  },
  {
   "cell_type": "code",
   "execution_count": 231,
   "metadata": {},
   "outputs": [
    {
     "data": {
      "text/html": [
       "<div>\n",
       "<style scoped>\n",
       "    .dataframe tbody tr th:only-of-type {\n",
       "        vertical-align: middle;\n",
       "    }\n",
       "\n",
       "    .dataframe tbody tr th {\n",
       "        vertical-align: top;\n",
       "    }\n",
       "\n",
       "    .dataframe thead th {\n",
       "        text-align: right;\n",
       "    }\n",
       "</style>\n",
       "<table border=\"1\" class=\"dataframe\">\n",
       "  <thead>\n",
       "    <tr style=\"text-align: right;\">\n",
       "      <th></th>\n",
       "      <th>tweet</th>\n",
       "      <th>real_tweet</th>\n",
       "      <th>token</th>\n",
       "      <th>label</th>\n",
       "      <th>vector</th>\n",
       "    </tr>\n",
       "  </thead>\n",
       "  <tbody>\n",
       "    <tr>\n",
       "      <th>0</th>\n",
       "      <td>smt mending studi independen magang yaa semest...</td>\n",
       "      <td>smt   mending ikut studi independen dulu apa ...</td>\n",
       "      <td>[smt, mending, studi, independen, magang, yaa,...</td>\n",
       "      <td>neutral</td>\n",
       "      <td>[-0.273067685465018, 0.7634588248199887, 0.174...</td>\n",
       "    </tr>\n",
       "    <tr>\n",
       "      <th>1</th>\n",
       "      <td>kampus mahasiswa wajib publish jurnal indeks s...</td>\n",
       "      <td>di kampus kalian mahasiswa s  wajib publish j...</td>\n",
       "      <td>[kampus, mahasiswa, wajib, publish, jurnal, in...</td>\n",
       "      <td>neutral</td>\n",
       "      <td>[-0.2455397993326187, 0.7762674403687319, 0.16...</td>\n",
       "    </tr>\n",
       "    <tr>\n",
       "      <th>2</th>\n",
       "      <td>gk yh tugas uas ngerjain gausah manja utk bant...</td>\n",
       "      <td>bisa gk yh tugas uas ini ngerjain dirinya sen...</td>\n",
       "      <td>[gk, yh, tugas, uas, ngerjain, gausah, manja, ...</td>\n",
       "      <td>negative</td>\n",
       "      <td>[-0.2046788539737463, 0.5637678589671851, 0.02...</td>\n",
       "    </tr>\n",
       "    <tr>\n",
       "      <th>3</th>\n",
       "      <td>dosen praktikum ngasih waktu temu kelas haru b...</td>\n",
       "      <td>dosen praktikum aku ngasih ini waktu pertemua...</td>\n",
       "      <td>[dosen, praktikum, ngasih, waktu, temu, kelas,...</td>\n",
       "      <td>negative</td>\n",
       "      <td>[-0.18299508940738937, 0.7705543590709567, 0.1...</td>\n",
       "    </tr>\n",
       "    <tr>\n",
       "      <th>4</th>\n",
       "      <td>alhamdulilah hidup kasi include kos kuliah jkt</td>\n",
       "      <td>alhamdulilah masih bisa hidup walaupun dikasi...</td>\n",
       "      <td>[alhamdulilah, hidup, kasi, include, kos, kuli...</td>\n",
       "      <td>negative</td>\n",
       "      <td>[-0.1342602487919586, 0.4469682683369943, 0.08...</td>\n",
       "    </tr>\n",
       "  </tbody>\n",
       "</table>\n",
       "</div>"
      ],
      "text/plain": [
       "                                               tweet  \\\n",
       "0  smt mending studi independen magang yaa semest...   \n",
       "1  kampus mahasiswa wajib publish jurnal indeks s...   \n",
       "2  gk yh tugas uas ngerjain gausah manja utk bant...   \n",
       "3  dosen praktikum ngasih waktu temu kelas haru b...   \n",
       "4     alhamdulilah hidup kasi include kos kuliah jkt   \n",
       "\n",
       "                                          real_tweet  \\\n",
       "0   smt   mending ikut studi independen dulu apa ...   \n",
       "1   di kampus kalian mahasiswa s  wajib publish j...   \n",
       "2   bisa gk yh tugas uas ini ngerjain dirinya sen...   \n",
       "3   dosen praktikum aku ngasih ini waktu pertemua...   \n",
       "4   alhamdulilah masih bisa hidup walaupun dikasi...   \n",
       "\n",
       "                                               token     label  \\\n",
       "0  [smt, mending, studi, independen, magang, yaa,...   neutral   \n",
       "1  [kampus, mahasiswa, wajib, publish, jurnal, in...   neutral   \n",
       "2  [gk, yh, tugas, uas, ngerjain, gausah, manja, ...  negative   \n",
       "3  [dosen, praktikum, ngasih, waktu, temu, kelas,...  negative   \n",
       "4  [alhamdulilah, hidup, kasi, include, kos, kuli...  negative   \n",
       "\n",
       "                                              vector  \n",
       "0  [-0.273067685465018, 0.7634588248199887, 0.174...  \n",
       "1  [-0.2455397993326187, 0.7762674403687319, 0.16...  \n",
       "2  [-0.2046788539737463, 0.5637678589671851, 0.02...  \n",
       "3  [-0.18299508940738937, 0.7705543590709567, 0.1...  \n",
       "4  [-0.1342602487919586, 0.4469682683369943, 0.08...  "
      ]
     },
     "execution_count": 231,
     "metadata": {},
     "output_type": "execute_result"
    }
   ],
   "source": [
    "# represent each tweet with vector\n",
    "def get_vector(text):\n",
    "    vector = np.zeros(100)\n",
    "    for word in text:\n",
    "        vector += model.wv[word]\n",
    "    return vector/len(text)\n",
    "\n",
    "df['vector'] = df['token'].apply(get_vector)\n",
    "df.head()"
   ]
  },
  {
   "cell_type": "code",
   "execution_count": 232,
   "metadata": {},
   "outputs": [
    {
     "data": {
      "text/html": [
       "<div>\n",
       "<style scoped>\n",
       "    .dataframe tbody tr th:only-of-type {\n",
       "        vertical-align: middle;\n",
       "    }\n",
       "\n",
       "    .dataframe tbody tr th {\n",
       "        vertical-align: top;\n",
       "    }\n",
       "\n",
       "    .dataframe thead th {\n",
       "        text-align: right;\n",
       "    }\n",
       "</style>\n",
       "<table border=\"1\" class=\"dataframe\">\n",
       "  <thead>\n",
       "    <tr style=\"text-align: right;\">\n",
       "      <th></th>\n",
       "      <th>tweet</th>\n",
       "      <th>real_tweet</th>\n",
       "      <th>token</th>\n",
       "      <th>label</th>\n",
       "      <th>vector</th>\n",
       "    </tr>\n",
       "  </thead>\n",
       "  <tbody>\n",
       "    <tr>\n",
       "      <th>0</th>\n",
       "      <td>smt mending studi independen magang yaa semest...</td>\n",
       "      <td>smt   mending ikut studi independen dulu apa ...</td>\n",
       "      <td>[smt, mending, studi, independen, magang, yaa,...</td>\n",
       "      <td>neutral</td>\n",
       "      <td>[-0.273067685465018, 0.7634588248199887, 0.174...</td>\n",
       "    </tr>\n",
       "    <tr>\n",
       "      <th>1</th>\n",
       "      <td>kampus mahasiswa wajib publish jurnal indeks s...</td>\n",
       "      <td>di kampus kalian mahasiswa s  wajib publish j...</td>\n",
       "      <td>[kampus, mahasiswa, wajib, publish, jurnal, in...</td>\n",
       "      <td>neutral</td>\n",
       "      <td>[-0.2455397993326187, 0.7762674403687319, 0.16...</td>\n",
       "    </tr>\n",
       "    <tr>\n",
       "      <th>2</th>\n",
       "      <td>gk yh tugas uas ngerjain gausah manja utk bant...</td>\n",
       "      <td>bisa gk yh tugas uas ini ngerjain dirinya sen...</td>\n",
       "      <td>[gk, yh, tugas, uas, ngerjain, gausah, manja, ...</td>\n",
       "      <td>negative</td>\n",
       "      <td>[-0.2046788539737463, 0.5637678589671851, 0.02...</td>\n",
       "    </tr>\n",
       "    <tr>\n",
       "      <th>3</th>\n",
       "      <td>dosen praktikum ngasih waktu temu kelas haru b...</td>\n",
       "      <td>dosen praktikum aku ngasih ini waktu pertemua...</td>\n",
       "      <td>[dosen, praktikum, ngasih, waktu, temu, kelas,...</td>\n",
       "      <td>negative</td>\n",
       "      <td>[-0.18299508940738937, 0.7705543590709567, 0.1...</td>\n",
       "    </tr>\n",
       "    <tr>\n",
       "      <th>4</th>\n",
       "      <td>alhamdulilah hidup kasi include kos kuliah jkt</td>\n",
       "      <td>alhamdulilah masih bisa hidup walaupun dikasi...</td>\n",
       "      <td>[alhamdulilah, hidup, kasi, include, kos, kuli...</td>\n",
       "      <td>negative</td>\n",
       "      <td>[-0.1342602487919586, 0.4469682683369943, 0.08...</td>\n",
       "    </tr>\n",
       "  </tbody>\n",
       "</table>\n",
       "</div>"
      ],
      "text/plain": [
       "                                               tweet  \\\n",
       "0  smt mending studi independen magang yaa semest...   \n",
       "1  kampus mahasiswa wajib publish jurnal indeks s...   \n",
       "2  gk yh tugas uas ngerjain gausah manja utk bant...   \n",
       "3  dosen praktikum ngasih waktu temu kelas haru b...   \n",
       "4     alhamdulilah hidup kasi include kos kuliah jkt   \n",
       "\n",
       "                                          real_tweet  \\\n",
       "0   smt   mending ikut studi independen dulu apa ...   \n",
       "1   di kampus kalian mahasiswa s  wajib publish j...   \n",
       "2   bisa gk yh tugas uas ini ngerjain dirinya sen...   \n",
       "3   dosen praktikum aku ngasih ini waktu pertemua...   \n",
       "4   alhamdulilah masih bisa hidup walaupun dikasi...   \n",
       "\n",
       "                                               token     label  \\\n",
       "0  [smt, mending, studi, independen, magang, yaa,...   neutral   \n",
       "1  [kampus, mahasiswa, wajib, publish, jurnal, in...   neutral   \n",
       "2  [gk, yh, tugas, uas, ngerjain, gausah, manja, ...  negative   \n",
       "3  [dosen, praktikum, ngasih, waktu, temu, kelas,...  negative   \n",
       "4  [alhamdulilah, hidup, kasi, include, kos, kuli...  negative   \n",
       "\n",
       "                                              vector  \n",
       "0  [-0.273067685465018, 0.7634588248199887, 0.174...  \n",
       "1  [-0.2455397993326187, 0.7762674403687319, 0.16...  \n",
       "2  [-0.2046788539737463, 0.5637678589671851, 0.02...  \n",
       "3  [-0.18299508940738937, 0.7705543590709567, 0.1...  \n",
       "4  [-0.1342602487919586, 0.4469682683369943, 0.08...  "
      ]
     },
     "execution_count": 232,
     "metadata": {},
     "output_type": "execute_result"
    }
   ],
   "source": [
    "\n",
    "# remove empty vector\n",
    "# \n",
    "df = df[df['vector'].apply(lambda x: len(x) != 0)]\n",
    "df.head()    \n",
    "\n",
    "\n"
   ]
  },
  {
   "cell_type": "code",
   "execution_count": null,
   "metadata": {},
   "outputs": [],
   "source": [
    "\n",
    "\n"
   ]
  },
  {
   "cell_type": "code",
   "execution_count": 233,
   "metadata": {},
   "outputs": [
    {
     "data": {
      "image/png": "[encoded data removed]",
      "text/plain": [
       "<Figure size 640x480 with 1 Axes>"
      ]
     },
     "metadata": {},
     "output_type": "display_data"
    }
   ],
   "source": [
    "# elbow method\n",
    "wcss = []\n",
    "for i in range(1, 11):\n",
    "    kmeans = KMeans(n_clusters = i, init = 'k-means++',\n",
    "                    max_iter = 300, n_init = 10, random_state = 0)\n",
    "    kmeans.fit(df['vector'].values.tolist())\n",
    "    wcss.append(kmeans.inertia_)\n",
    "plt.plot(range(1, 11), wcss)\n",
    "plt.title('The Elbow Method')\n",
    "plt.xlabel('Number of clusters')\n",
    "plt.ylabel('WCSS')\n",
    "plt.show()\n"
   ]
  },
  {
   "cell_type": "code",
   "execution_count": 234,
   "metadata": {},
   "outputs": [
    {
     "name": "stderr",
     "output_type": "stream",
     "text": [
      "/Users/akhmadramadani/Documents/TF/miniconda3/lib/python3.9/site-packages/sklearn/cluster/_kmeans.py:870: FutureWarning: The default value of `n_init` will change from 10 to 'auto' in 1.4. Set the value of `n_init` explicitly to suppress the warning\n",
      "  warnings.warn(\n"
     ]
    },
    {
     "data": {
      "text/html": [
       "<div>\n",
       "<style scoped>\n",
       "    .dataframe tbody tr th:only-of-type {\n",
       "        vertical-align: middle;\n",
       "    }\n",
       "\n",
       "    .dataframe tbody tr th {\n",
       "        vertical-align: top;\n",
       "    }\n",
       "\n",
       "    .dataframe thead th {\n",
       "        text-align: right;\n",
       "    }\n",
       "</style>\n",
       "<table border=\"1\" class=\"dataframe\">\n",
       "  <thead>\n",
       "    <tr style=\"text-align: right;\">\n",
       "      <th></th>\n",
       "      <th>tweet</th>\n",
       "      <th>real_tweet</th>\n",
       "      <th>token</th>\n",
       "      <th>label</th>\n",
       "      <th>vector</th>\n",
       "      <th>new_label</th>\n",
       "    </tr>\n",
       "  </thead>\n",
       "  <tbody>\n",
       "    <tr>\n",
       "      <th>0</th>\n",
       "      <td>smt mending studi independen magang yaa semest...</td>\n",
       "      <td>smt   mending ikut studi independen dulu apa ...</td>\n",
       "      <td>[smt, mending, studi, independen, magang, yaa,...</td>\n",
       "      <td>neutral</td>\n",
       "      <td>[-0.273067685465018, 0.7634588248199887, 0.174...</td>\n",
       "      <td>2</td>\n",
       "    </tr>\n",
       "    <tr>\n",
       "      <th>1</th>\n",
       "      <td>kampus mahasiswa wajib publish jurnal indeks s...</td>\n",
       "      <td>di kampus kalian mahasiswa s  wajib publish j...</td>\n",
       "      <td>[kampus, mahasiswa, wajib, publish, jurnal, in...</td>\n",
       "      <td>neutral</td>\n",
       "      <td>[-0.2455397993326187, 0.7762674403687319, 0.16...</td>\n",
       "      <td>2</td>\n",
       "    </tr>\n",
       "    <tr>\n",
       "      <th>2</th>\n",
       "      <td>gk yh tugas uas ngerjain gausah manja utk bant...</td>\n",
       "      <td>bisa gk yh tugas uas ini ngerjain dirinya sen...</td>\n",
       "      <td>[gk, yh, tugas, uas, ngerjain, gausah, manja, ...</td>\n",
       "      <td>negative</td>\n",
       "      <td>[-0.2046788539737463, 0.5637678589671851, 0.02...</td>\n",
       "      <td>2</td>\n",
       "    </tr>\n",
       "    <tr>\n",
       "      <th>3</th>\n",
       "      <td>dosen praktikum ngasih waktu temu kelas haru b...</td>\n",
       "      <td>dosen praktikum aku ngasih ini waktu pertemua...</td>\n",
       "      <td>[dosen, praktikum, ngasih, waktu, temu, kelas,...</td>\n",
       "      <td>negative</td>\n",
       "      <td>[-0.18299508940738937, 0.7705543590709567, 0.1...</td>\n",
       "      <td>2</td>\n",
       "    </tr>\n",
       "    <tr>\n",
       "      <th>4</th>\n",
       "      <td>alhamdulilah hidup kasi include kos kuliah jkt</td>\n",
       "      <td>alhamdulilah masih bisa hidup walaupun dikasi...</td>\n",
       "      <td>[alhamdulilah, hidup, kasi, include, kos, kuli...</td>\n",
       "      <td>negative</td>\n",
       "      <td>[-0.1342602487919586, 0.4469682683369943, 0.08...</td>\n",
       "      <td>1</td>\n",
       "    </tr>\n",
       "  </tbody>\n",
       "</table>\n",
       "</div>"
      ],
      "text/plain": [
       "                                               tweet  \\\n",
       "0  smt mending studi independen magang yaa semest...   \n",
       "1  kampus mahasiswa wajib publish jurnal indeks s...   \n",
       "2  gk yh tugas uas ngerjain gausah manja utk bant...   \n",
       "3  dosen praktikum ngasih waktu temu kelas haru b...   \n",
       "4     alhamdulilah hidup kasi include kos kuliah jkt   \n",
       "\n",
       "                                          real_tweet  \\\n",
       "0   smt   mending ikut studi independen dulu apa ...   \n",
       "1   di kampus kalian mahasiswa s  wajib publish j...   \n",
       "2   bisa gk yh tugas uas ini ngerjain dirinya sen...   \n",
       "3   dosen praktikum aku ngasih ini waktu pertemua...   \n",
       "4   alhamdulilah masih bisa hidup walaupun dikasi...   \n",
       "\n",
       "                                               token     label  \\\n",
       "0  [smt, mending, studi, independen, magang, yaa,...   neutral   \n",
       "1  [kampus, mahasiswa, wajib, publish, jurnal, in...   neutral   \n",
       "2  [gk, yh, tugas, uas, ngerjain, gausah, manja, ...  negative   \n",
       "3  [dosen, praktikum, ngasih, waktu, temu, kelas,...  negative   \n",
       "4  [alhamdulilah, hidup, kasi, include, kos, kuli...  negative   \n",
       "\n",
       "                                              vector  new_label  \n",
       "0  [-0.273067685465018, 0.7634588248199887, 0.174...          2  \n",
       "1  [-0.2455397993326187, 0.7762674403687319, 0.16...          2  \n",
       "2  [-0.2046788539737463, 0.5637678589671851, 0.02...          2  \n",
       "3  [-0.18299508940738937, 0.7705543590709567, 0.1...          2  \n",
       "4  [-0.1342602487919586, 0.4469682683369943, 0.08...          1  "
      ]
     },
     "execution_count": 234,
     "metadata": {},
     "output_type": "execute_result"
    }
   ],
   "source": [
    "# kmeans with 3 cluster\n",
    "kmeans = KMeans(n_clusters=3, random_state=0).fit(df['vector'].values.tolist())\n",
    "kmeans.labels_\n",
    "\n",
    "#input label to dataframe\n",
    "df['new_label'] = kmeans.labels_\n",
    "df.head()\n",
    "\n"
   ]
  },
  {
   "cell_type": "code",
   "execution_count": 235,
   "metadata": {},
   "outputs": [
    {
     "data": {
      "image/png": "[encoded data removed]",
      "text/plain": [
       "<Figure size 640x480 with 1 Axes>"
      ]
     },
     "metadata": {},
     "output_type": "display_data"
    }
   ],
   "source": [
    "# plot vector to 2d plot\n",
    "plt.scatter(df['vector'].apply(lambda x: x[0]), df['vector'].apply(lambda x: x[1]), c=kmeans.labels_)\n",
    "plt.show()"
   ]
  },
  {
   "cell_type": "code",
   "execution_count": 236,
   "metadata": {},
   "outputs": [
    {
     "data": {
      "image/png": "[encoded data removed]",
      "text/plain": [
       "<Figure size 640x480 with 1 Axes>"
      ]
     },
     "metadata": {},
     "output_type": "display_data"
    }
   ],
   "source": [
    "# plot vector to 3d plot\n",
    "fig = plt.figure()\n",
    "ax = fig.add_subplot(111, projection='3d')\n",
    "ax.scatter(df['vector'].apply(lambda x: x[0]), df['vector'].apply(lambda x: x[1]), df['vector'].apply(lambda x: x[2]), c=kmeans.labels_)\n",
    "plt.show()"
   ]
  },
  {
   "cell_type": "code",
   "execution_count": 237,
   "metadata": {},
   "outputs": [
    {
     "data": {
      "text/plain": [
       "2    4805\n",
       "1    3869\n",
       "0    1173\n",
       "Name: new_label, dtype: int64"
      ]
     },
     "execution_count": 237,
     "metadata": {},
     "output_type": "execute_result"
    }
   ],
   "source": [
    "# count label\n",
    "df['new_label'].value_counts()\n"
   ]
  },
  {
   "cell_type": "code",
   "execution_count": 238,
   "metadata": {},
   "outputs": [
    {
     "name": "stdout",
     "output_type": "stream",
     "text": [
      "0\n",
      "[' tolong banget pliss inimah udah mentok  mohon dibantu   '\n",
      " ' temen temen boleh minta tolong isi kuisioner ku nggak   butuh dikit lagi  nanti barter juga gapapa   '\n",
      " ' mau nanya dong kak  yg udah penelitian ambil pendidikan terus sampelnya anak sekolahan  kalian butuh waktu buat penelitiannya berapa lama ya  tolong bantu sender  terima kasii  '\n",
      " ' siapa yang lagi nugas juga  semangat yaa      '\n",
      " ' yuk yang lagi butuh responden penelitian drop kuesionernya disiniii biar bisa dibantu isi sama yang lain  jangan lupa kasih kriterianya yaa  yang liat tolong bantu jugaa  kita saling bantu  semangat yang lagi penelitian     '\n",
      " ' guyss ada yg mau jdi responden ku gaa   kriterianya mahasiswa s  dari univ di jawa timur  klo mau boleh rep nanti aku dm satu   makasihh    '\n",
      " 'ada yang jurusan pendidikan  jurusan teknik dan bisa bntu isi kuesioner  '\n",
      " ' halo temen temen  aku lagi butuh banyak responden buat isi kuisioner tugas akhirku  kriterianya     laki laki perempuan berusia       tahun  kalo temen temen berkenan bisa rep di bawah  nanti linknya aku dm  makasiih banyak yaah     boleh barter juga kokk  '\n",
      " ' gaiisss  boleh minta tolong follow acc buat tugas uas ku  amp  likes juga gaa  nanti aku drop di rep ya  kalo mau tukeran boleh yukk sinii '\n",
      " ' tolong bantu sender  sender lagi mau buat tugas  deadline besok        ']\n",
      "\n",
      "1\n",
      "[' hai kak  mau nanya dong  ini tuh atribut eror kenapa ya  maksud dari fcm object mo attribute flt itu apa  ada yang tay ga   anyway ini clustering fuzzy c means dengan python  siapa tau ada yang bisa bantu  tia    '\n",
      " ' gais kalo misalkan judul  optimalisasi aplikasi berbasis web di instansi blabla     itu indikator optimalisasi nya apa yaa  kok aku puyeng ya gais nyari  referensi ga ketemu  apa ganti judul aja ta '\n",
      " 'udah kangen berat  pengen turun ke lahan  berasa jadi anak petani karena   bulan ke lahan terus  aku kangen nyikatin celana bekas lumpur sawah  sekangen itu   '\n",
      " ' aku jadi kominfo ngelola ig kkn  isi konten buat ig apa aja ya  makasih'\n",
      " ' di kampus kalian ada olimpiade olahraga antar jurusan atau fakultas gak  kalau ada boleh kasih tau gak namany  aku lagi coba pengen liat branding ama konsep  thankyou in advance  '\n",
      " ' connect linkedin yukk  terutama yg anak feb atau yg tertarik sama data analystt aku mau bgttt connect sm kalian'\n",
      " ' lega dah selesai uas  kalo remed ak pasrah sj'\n",
      " ' musuh terbesar mahasiswa non reputable univ saat cari job    '\n",
      " 'anak mbkm  nilay konversi aman ga  serius nanya aku     '\n",
      " 'dari sec acc dia  mnrt kalian aku harus apa ya untuk tau kabarnya   selain telepon dia krn jg gak diangkat    aku beneran kangenn sm keaktifan dia huhu']\n",
      "\n",
      "2\n",
      "[' boleh saranin ga  kalo buat latar belakang itu susunannya kayak gimana  aku kek bingung untuk memulainya gitu huhu  makasih kakak    '\n",
      " ' aku rencananya mau daftar ukm kampus  boleh kasih tau ga biasanya pertanyaannya kyk gimana  trimakasih warga colle'\n",
      " 'selama ini mereka liat tugasku    kesel banget '\n",
      " 'saran kegiatan untuk mengisi waktu menganggur selama nunggu wisuda dong  bingung mau daftar kerja tapi skl belum terbit  tia '\n",
      " ' ini pendaftaran kampus merdeka udah dibuka tapi emang masih   kaya gini kah   '\n",
      " ' ngerjain skripsi   kalimat  istirahat nya   hari'\n",
      " ' kalian yg pernah magang  ninggalin apa buat tempat magang kalian ide inovasi strategi atau apa gitu butuh pencerahan biar jadi anak magang yg berkesan tia  '\n",
      " ' ngeliat bentukan temen kelompok yang bomat bomat sama tugas enaknya dikasih rate berapa ya dari     pas penilaian teman sejawat      boleh gak biar gak   doang     '\n",
      " ' ada yang tau gak ya  kenapa laptop sering tiba mati sendiri '\n",
      " ' kan aku udah ngehubungin perusahaan yg mau aku tuju untuk penelitian  kata mereka  nanti ya  tapi udah kelamaan   kalo aku datengin gimana     ']\n"
     ]
    }
   ],
   "source": [
    "# get 10 random tweet from each label\n",
    "print(\"0\")\n",
    "print(df[df['new_label'] == 0].sample(10)['real_tweet'].values)\n",
    "\n",
    "print()\n",
    "print(\"1\")\n",
    "print(df[df['new_label'] == 1].sample(10)['real_tweet'].values)\n",
    "\n",
    "print()\n",
    "print(\"2\")\n",
    "print(df[df['new_label'] == 2].sample(10)['real_tweet'].values)"
   ]
  },
  {
   "cell_type": "code",
   "execution_count": 239,
   "metadata": {},
   "outputs": [
    {
     "data": {
      "text/plain": [
       "0    4840\n",
       "1    3851\n",
       "2    1156\n",
       "Name: new_label, dtype: int64"
      ]
     },
     "execution_count": 239,
     "metadata": {},
     "output_type": "execute_result"
    }
   ],
   "source": [
    "# rebuild sentiment analysis model\n",
    "import pandas as pd\n",
    "import numpy as np\n",
    "import matplotlib.pyplot as plt\n",
    "import seaborn as sns\n",
    "import re\n",
    "import nltk\n",
    "from nltk.corpus import stopwords\n",
    "from nltk.stem.porter import PorterStemmer\n",
    "from sklearn.feature_extraction.text import CountVectorizer\n",
    "from sklearn.model_selection import train_test_split\n",
    "from sklearn.naive_bayes import GaussianNB\n",
    "from sklearn.metrics import confusion_matrix, accuracy_score\n",
    "from sklearn.metrics import classification_report\n",
    "from sklearn.metrics import roc_curve, auc\n",
    "from sklearn.metrics import roc_auc_score\n",
    "from sklearn.metrics import precision_recall_curve\n",
    "from sklearn.metrics import average_precision_score\n",
    "\n",
    "# import dataset\n",
    "dataset = pd.read_csv('datasets_garbage/tweet.csv')\n",
    "dataset.head()\n",
    "\n",
    "# check missing value\n",
    "dataset.isnull().sum()\n",
    "\n",
    "# check label distribution\n",
    "dataset['new_label'].value_counts()\n",
    "\n",
    "# split dataset to train and test"
   ]
  },
  {
   "cell_type": "code",
   "execution_count": 240,
   "metadata": {},
   "outputs": [
    {
     "name": "stdout",
     "output_type": "stream",
     "text": [
      "[[566 167 236]\n",
      " [324 241 196]\n",
      " [ 19  24 197]]\n"
     ]
    }
   ],
   "source": [
    "# split dataset to train and test\n",
    "X = dataset['real_tweet']\n",
    "y = dataset['new_label']\n",
    "X_train, X_test, y_train, y_test = train_test_split(X, y, test_size=0.2, random_state=0)\n",
    "\n",
    "# create bag of word using TF-IDF\n",
    "from sklearn.feature_extraction.text import TfidfVectorizer\n",
    "cv = TfidfVectorizer(max_features=1500)\n",
    "X_train = cv.fit_transform(X_train).toarray()\n",
    "X_test = cv.transform(X_test).toarray()\n",
    "\n",
    "# create model\n",
    "classifier = GaussianNB()\n",
    "classifier.fit(X_train, y_train)\n",
    "\n",
    "# predict\n",
    "y_pred = classifier.predict(X_test)\n",
    "\n",
    "# confusion matrix\n",
    "cm = confusion_matrix(y_test, y_pred)\n",
    "print(cm)"
   ]
  },
  {
   "cell_type": "code",
   "execution_count": 241,
   "metadata": {},
   "outputs": [
    {
     "name": "stdout",
     "output_type": "stream",
     "text": [
      "0.5096446700507614\n",
      "              precision    recall  f1-score   support\n",
      "\n",
      "           0       0.62      0.58      0.60       969\n",
      "           1       0.56      0.32      0.40       761\n",
      "           2       0.31      0.82      0.45       240\n",
      "\n",
      "    accuracy                           0.51      1970\n",
      "   macro avg       0.50      0.57      0.49      1970\n",
      "weighted avg       0.56      0.51      0.51      1970\n",
      "\n"
     ]
    }
   ],
   "source": [
    "# accuracy\n",
    "print(accuracy_score(y_test, y_pred))\n",
    "\n",
    "# classification report\n",
    "print(classification_report(y_test, y_pred))\n"
   ]
  },
  {
   "cell_type": "code",
   "execution_count": 242,
   "metadata": {},
   "outputs": [
    {
     "data": {
      "image/png": "[encoded data removed]",
      "text/plain": [
       "<Figure size 500x500 with 2 Axes>"
      ]
     },
     "metadata": {},
     "output_type": "display_data"
    }
   ],
   "source": [
    "# Matrix plot\n",
    "f, ax = plt.subplots(figsize=(5, 5))\n",
    "sns.heatmap(cm, annot=True, linewidths=0.01, cmap=\"YlGnBu\", linecolor=\"gray\", fmt= '.1f', ax=ax)\n",
    "plt.xlabel(\"Predicted Label\")\n",
    "plt.ylabel(\"True Label\")\n",
    "plt.title(\"Confusion Matrix\")\n",
    "plt.show()\n"
   ]
  },
  {
   "cell_type": "code",
   "execution_count": 243,
   "metadata": {},
   "outputs": [],
   "source": [
    "import pandas as pd\n",
    "dataset = pd.read_csv('datasets_garbage/tweet.csv')\n",
    "# re define split dataset to train and test\n",
    "X = dataset['real_tweet']\n",
    "y = dataset['new_label']\n",
    "X_train, X_test, y_train, y_test = train_test_split(X, y, test_size=0.2, random_state=0)\n",
    "\n",
    "# create bag of word\n",
    "cv = CountVectorizer(max_features=1500)\n",
    "X_train = cv.fit_transform(X_train).toarray()\n",
    "X_test = cv.transform(X_test).toarray()\n",
    "\n"
   ]
  },
  {
   "cell_type": "code",
   "execution_count": 244,
   "metadata": {},
   "outputs": [
    {
     "name": "stdout",
     "output_type": "stream",
     "text": [
      "Epoch 1/100\n",
      "  1/788 [..............................] - ETA: 5:17 - loss: 0.6931 - accuracy: 0.7000"
     ]
    },
    {
     "name": "stderr",
     "output_type": "stream",
     "text": [
      "2022-12-29 16:23:51.549170: I tensorflow/core/grappler/optimizers/custom_graph_optimizer_registry.cc:113] Plugin optimizer for device_type GPU is enabled.\n"
     ]
    },
    {
     "name": "stdout",
     "output_type": "stream",
     "text": [
      "788/788 [==============================] - 5s 6ms/step - loss: -0.6823 - accuracy: 0.5328\n",
      "Epoch 2/100\n",
      "788/788 [==============================] - 4s 5ms/step - loss: -16.1816 - accuracy: 0.5899\n",
      "Epoch 3/100\n",
      "788/788 [==============================] - 4s 5ms/step - loss: -67.8417 - accuracy: 0.5872\n",
      "Epoch 4/100\n",
      "788/788 [==============================] - 4s 5ms/step - loss: -169.2253 - accuracy: 0.5922\n",
      "Epoch 5/100\n",
      "788/788 [==============================] - 4s 5ms/step - loss: -329.5278 - accuracy: 0.5916\n",
      "Epoch 6/100\n",
      "788/788 [==============================] - 4s 5ms/step - loss: -556.2555 - accuracy: 0.5864\n",
      "Epoch 7/100\n",
      "788/788 [==============================] - 4s 5ms/step - loss: -852.9119 - accuracy: 0.5855\n",
      "Epoch 8/100\n",
      "788/788 [==============================] - 4s 5ms/step - loss: -1222.4919 - accuracy: 0.5797\n",
      "Epoch 9/100\n",
      "788/788 [==============================] - 4s 5ms/step - loss: -1668.0648 - accuracy: 0.5756\n",
      "Epoch 10/100\n",
      "788/788 [==============================] - 4s 5ms/step - loss: -2201.2405 - accuracy: 0.5759\n",
      "Epoch 11/100\n",
      "788/788 [==============================] - 4s 5ms/step - loss: -2815.8269 - accuracy: 0.5733\n",
      "Epoch 12/100\n",
      "788/788 [==============================] - 4s 5ms/step - loss: -3521.9756 - accuracy: 0.5731\n",
      "Epoch 13/100\n",
      "788/788 [==============================] - 4s 5ms/step - loss: -4339.1587 - accuracy: 0.5710\n",
      "Epoch 14/100\n",
      "788/788 [==============================] - 4s 5ms/step - loss: -5254.1709 - accuracy: 0.5695\n",
      "Epoch 15/100\n",
      "788/788 [==============================] - 4s 5ms/step - loss: -6268.5396 - accuracy: 0.5671\n",
      "Epoch 16/100\n",
      "788/788 [==============================] - 4s 5ms/step - loss: -7405.0723 - accuracy: 0.5694\n",
      "Epoch 17/100\n",
      "788/788 [==============================] - 4s 5ms/step - loss: -8675.4863 - accuracy: 0.5691\n",
      "Epoch 18/100\n",
      "788/788 [==============================] - 4s 5ms/step - loss: -10070.3809 - accuracy: 0.5663\n",
      "Epoch 19/100\n",
      "788/788 [==============================] - 4s 5ms/step - loss: -11602.8770 - accuracy: 0.5668\n",
      "Epoch 20/100\n",
      "788/788 [==============================] - 4s 5ms/step - loss: -13268.0020 - accuracy: 0.5667\n",
      "Epoch 21/100\n",
      "788/788 [==============================] - 4s 5ms/step - loss: -15074.3809 - accuracy: 0.5690\n",
      "Epoch 22/100\n",
      "788/788 [==============================] - 4s 5ms/step - loss: -17032.2617 - accuracy: 0.5700\n",
      "Epoch 23/100\n",
      "788/788 [==============================] - 4s 5ms/step - loss: -19150.0371 - accuracy: 0.5703\n",
      "Epoch 24/100\n",
      "788/788 [==============================] - 4s 5ms/step - loss: -21440.9570 - accuracy: 0.5685\n",
      "Epoch 25/100\n",
      "788/788 [==============================] - 4s 5ms/step - loss: -23889.7656 - accuracy: 0.5675\n",
      "Epoch 26/100\n",
      "788/788 [==============================] - 4s 5ms/step - loss: -26510.9395 - accuracy: 0.5706\n",
      "Epoch 27/100\n",
      "788/788 [==============================] - 4s 5ms/step - loss: -29321.6094 - accuracy: 0.5728\n",
      "Epoch 28/100\n",
      "788/788 [==============================] - 4s 5ms/step - loss: -32342.8125 - accuracy: 0.5750\n",
      "Epoch 29/100\n",
      "788/788 [==============================] - 4s 5ms/step - loss: -35509.1328 - accuracy: 0.5745\n",
      "Epoch 30/100\n",
      "788/788 [==============================] - 4s 5ms/step - loss: -38862.2031 - accuracy: 0.5769\n",
      "Epoch 31/100\n",
      "788/788 [==============================] - 4s 5ms/step - loss: -42428.2617 - accuracy: 0.5785\n",
      "Epoch 32/100\n",
      "788/788 [==============================] - 4s 5ms/step - loss: -46199.9531 - accuracy: 0.5821\n",
      "Epoch 33/100\n",
      "788/788 [==============================] - 4s 5ms/step - loss: -50163.5859 - accuracy: 0.5833\n",
      "Epoch 34/100\n",
      "788/788 [==============================] - 4s 5ms/step - loss: -54298.5430 - accuracy: 0.5799\n",
      "Epoch 35/100\n",
      "788/788 [==============================] - 4s 5ms/step - loss: -58664.8359 - accuracy: 0.5827\n",
      "Epoch 36/100\n",
      "788/788 [==============================] - 4s 5ms/step - loss: -63293.8750 - accuracy: 0.5821\n",
      "Epoch 37/100\n",
      "788/788 [==============================] - 4s 5ms/step - loss: -68147.7656 - accuracy: 0.5842\n",
      "Epoch 38/100\n",
      "788/788 [==============================] - 4s 5ms/step - loss: -73192.3906 - accuracy: 0.5813\n",
      "Epoch 39/100\n",
      "788/788 [==============================] - 4s 5ms/step - loss: -78473.5781 - accuracy: 0.5859\n",
      "Epoch 40/100\n",
      "788/788 [==============================] - 4s 5ms/step - loss: -84009.3906 - accuracy: 0.5835\n",
      "Epoch 41/100\n",
      "788/788 [==============================] - 4s 5ms/step - loss: -89780.9453 - accuracy: 0.5851\n",
      "Epoch 42/100\n",
      "788/788 [==============================] - 4s 5ms/step - loss: -95788.5625 - accuracy: 0.5846\n",
      "Epoch 43/100\n",
      "788/788 [==============================] - 4s 5ms/step - loss: -102035.1172 - accuracy: 0.5803\n",
      "Epoch 44/100\n",
      "788/788 [==============================] - 4s 5ms/step - loss: -108602.1484 - accuracy: 0.5832\n",
      "Epoch 45/100\n",
      "788/788 [==============================] - 4s 5ms/step - loss: -115453.2266 - accuracy: 0.5819\n",
      "Epoch 46/100\n",
      "788/788 [==============================] - 4s 5ms/step - loss: -122563.5078 - accuracy: 0.5826\n",
      "Epoch 47/100\n",
      "788/788 [==============================] - 4s 5ms/step - loss: -129994.0938 - accuracy: 0.5845\n",
      "Epoch 48/100\n",
      "788/788 [==============================] - 4s 5ms/step - loss: -137768.7812 - accuracy: 0.5826\n",
      "Epoch 49/100\n",
      "788/788 [==============================] - 4s 5ms/step - loss: -145698.6406 - accuracy: 0.5832\n",
      "Epoch 50/100\n",
      "788/788 [==============================] - 4s 5ms/step - loss: -153901.0781 - accuracy: 0.5836\n",
      "Epoch 51/100\n",
      "788/788 [==============================] - 4s 5ms/step - loss: -162544.5781 - accuracy: 0.5784\n",
      "Epoch 52/100\n",
      "788/788 [==============================] - 4s 5ms/step - loss: -171474.6875 - accuracy: 0.5822\n",
      "Epoch 53/100\n",
      "788/788 [==============================] - 4s 5ms/step - loss: -180638.2656 - accuracy: 0.5813\n",
      "Epoch 54/100\n",
      "788/788 [==============================] - 4s 5ms/step - loss: -190074.5312 - accuracy: 0.5795\n",
      "Epoch 55/100\n",
      "788/788 [==============================] - 4s 5ms/step - loss: -199856.7344 - accuracy: 0.5859\n",
      "Epoch 56/100\n",
      "788/788 [==============================] - 4s 5ms/step - loss: -209960.0312 - accuracy: 0.5792\n",
      "Epoch 57/100\n",
      "788/788 [==============================] - 4s 5ms/step - loss: -220366.7969 - accuracy: 0.5800\n",
      "Epoch 58/100\n",
      "788/788 [==============================] - 4s 5ms/step - loss: -231145.2812 - accuracy: 0.5807\n",
      "Epoch 59/100\n",
      "788/788 [==============================] - 4s 5ms/step - loss: -242239.9844 - accuracy: 0.5811\n",
      "Epoch 60/100\n",
      "788/788 [==============================] - 4s 5ms/step - loss: -253813.6562 - accuracy: 0.5844\n",
      "Epoch 61/100\n",
      "788/788 [==============================] - 4s 5ms/step - loss: -265773.4375 - accuracy: 0.5807\n",
      "Epoch 62/100\n",
      "788/788 [==============================] - 4s 5ms/step - loss: -278105.5000 - accuracy: 0.5821\n",
      "Epoch 63/100\n",
      "788/788 [==============================] - 4s 5ms/step - loss: -290771.7500 - accuracy: 0.5807\n",
      "Epoch 64/100\n",
      "788/788 [==============================] - 4s 5ms/step - loss: -303701.0000 - accuracy: 0.5823\n",
      "Epoch 65/100\n",
      "788/788 [==============================] - 4s 5ms/step - loss: -317041.5938 - accuracy: 0.5779\n",
      "Epoch 66/100\n",
      "788/788 [==============================] - 4s 5ms/step - loss: -330643.2500 - accuracy: 0.5809\n",
      "Epoch 67/100\n",
      "788/788 [==============================] - 4s 5ms/step - loss: -344634.8125 - accuracy: 0.5850\n",
      "Epoch 68/100\n",
      "788/788 [==============================] - 4s 5ms/step - loss: -358884.4375 - accuracy: 0.5816\n",
      "Epoch 69/100\n",
      "788/788 [==============================] - 4s 5ms/step - loss: -373597.9375 - accuracy: 0.5802\n",
      "Epoch 70/100\n",
      "788/788 [==============================] - 4s 5ms/step - loss: -388816.0625 - accuracy: 0.5821\n",
      "Epoch 71/100\n",
      "788/788 [==============================] - 4s 5ms/step - loss: -404554.5312 - accuracy: 0.5808\n",
      "Epoch 72/100\n",
      "788/788 [==============================] - 4s 5ms/step - loss: -420861.6250 - accuracy: 0.5785\n",
      "Epoch 73/100\n",
      "788/788 [==============================] - 4s 5ms/step - loss: -437246.9688 - accuracy: 0.5774\n",
      "Epoch 74/100\n",
      "788/788 [==============================] - 4s 5ms/step - loss: -454045.1562 - accuracy: 0.5826\n",
      "Epoch 75/100\n",
      "788/788 [==============================] - 4s 5ms/step - loss: -471202.9688 - accuracy: 0.5789\n",
      "Epoch 76/100\n",
      "788/788 [==============================] - 4s 5ms/step - loss: -488964.0000 - accuracy: 0.5771\n",
      "Epoch 77/100\n",
      "788/788 [==============================] - 4s 5ms/step - loss: -507114.8750 - accuracy: 0.5813\n",
      "Epoch 78/100\n",
      "788/788 [==============================] - 4s 5ms/step - loss: -525702.1250 - accuracy: 0.5816\n",
      "Epoch 79/100\n",
      "788/788 [==============================] - 4s 5ms/step - loss: -544954.5000 - accuracy: 0.5798\n",
      "Epoch 80/100\n",
      "788/788 [==============================] - 4s 5ms/step - loss: -564328.5000 - accuracy: 0.5774\n",
      "Epoch 81/100\n",
      "788/788 [==============================] - 4s 5ms/step - loss: -584164.1250 - accuracy: 0.5798\n",
      "Epoch 82/100\n",
      "788/788 [==============================] - 4s 5ms/step - loss: -604680.6250 - accuracy: 0.5792\n",
      "Epoch 83/100\n",
      "788/788 [==============================] - 4s 5ms/step - loss: -625584.1250 - accuracy: 0.5770\n",
      "Epoch 84/100\n",
      "788/788 [==============================] - 4s 5ms/step - loss: -646824.3750 - accuracy: 0.5786\n",
      "Epoch 85/100\n",
      "788/788 [==============================] - 4s 5ms/step - loss: -668414.2500 - accuracy: 0.5814\n",
      "Epoch 86/100\n",
      "788/788 [==============================] - 4s 5ms/step - loss: -690516.0625 - accuracy: 0.5773\n",
      "Epoch 87/100\n",
      "788/788 [==============================] - 4s 5ms/step - loss: -713215.8750 - accuracy: 0.5792\n",
      "Epoch 88/100\n",
      "788/788 [==============================] - 4s 5ms/step - loss: -736444.3125 - accuracy: 0.5798\n",
      "Epoch 89/100\n",
      "788/788 [==============================] - 4s 5ms/step - loss: -760084.2500 - accuracy: 0.5765\n",
      "Epoch 90/100\n",
      "788/788 [==============================] - 4s 5ms/step - loss: -784092.1875 - accuracy: 0.5724\n",
      "Epoch 91/100\n",
      "788/788 [==============================] - 4s 5ms/step - loss: -808613.9375 - accuracy: 0.5811\n",
      "Epoch 92/100\n",
      "788/788 [==============================] - 4s 5ms/step - loss: -833823.5000 - accuracy: 0.5799\n",
      "Epoch 93/100\n",
      "788/788 [==============================] - 4s 5ms/step - loss: -859303.1250 - accuracy: 0.5745\n",
      "Epoch 94/100\n",
      "788/788 [==============================] - 4s 5ms/step - loss: -884959.3125 - accuracy: 0.5832\n",
      "Epoch 95/100\n",
      "788/788 [==============================] - 4s 5ms/step - loss: -911538.8750 - accuracy: 0.5746\n",
      "Epoch 96/100\n",
      "788/788 [==============================] - 4s 5ms/step - loss: -938676.0625 - accuracy: 0.5776\n",
      "Epoch 97/100\n",
      "788/788 [==============================] - 4s 5ms/step - loss: -966161.0625 - accuracy: 0.5767\n",
      "Epoch 98/100\n",
      "788/788 [==============================] - 4s 5ms/step - loss: -994298.0000 - accuracy: 0.5813\n",
      "Epoch 99/100\n",
      "788/788 [==============================] - 4s 5ms/step - loss: -1022644.5625 - accuracy: 0.5747\n",
      "Epoch 100/100\n",
      "788/788 [==============================] - 4s 5ms/step - loss: -1051822.7500 - accuracy: 0.5783\n",
      "62/62 [==============================] - 0s 2ms/step\n",
      "[[700 269   0]\n",
      " [391 370   0]\n",
      " [  0 240   0]]\n",
      "0.5431472081218274\n"
     ]
    },
    {
     "name": "stderr",
     "output_type": "stream",
     "text": [
      "2022-12-29 16:30:45.746365: I tensorflow/core/grappler/optimizers/custom_graph_optimizer_registry.cc:113] Plugin optimizer for device_type GPU is enabled.\n"
     ]
    }
   ],
   "source": [
    "# keras for deep learning\n",
    "import keras\n",
    "from keras.models import Sequential\n",
    "from keras.layers import Dense\n",
    "from keras.layers import Dropout\n",
    "\n",
    "# create model\n",
    "classifier = Sequential()\n",
    "\n",
    "# add input layer and first hidden layer\n",
    "classifier.add(Dense(units = 6, kernel_initializer = 'uniform', activation = 'relu', input_dim = 1500))\n",
    "\n",
    "# add second hidden layer\n",
    "classifier.add(Dense(units = 6, kernel_initializer = 'uniform', activation = 'relu'))\n",
    "\n",
    "# add output layer\n",
    "classifier.add(Dense(units = 1, kernel_initializer = 'uniform', activation = 'sigmoid'))\n",
    "\n",
    "# compile model\n",
    "classifier.compile(optimizer = 'adam', loss = 'binary_crossentropy', metrics = ['accuracy'])\n",
    "\n",
    "# fit model\n",
    "classifier.fit(X_train, y_train, batch_size = 10, epochs = 100)\n",
    "\n",
    "# predict\n",
    "y_pred = classifier.predict(X_test)\n",
    "\n",
    "# convert probability to 0 or 1\n",
    "y_pred = (y_pred > 0.5)\n",
    "\n",
    "# confusion matrix\n",
    "cm = confusion_matrix(y_test, y_pred)\n",
    "print(cm)\n",
    "\n",
    "# accuracy\n",
    "print(accuracy_score(y_test, y_pred))"
   ]
  },
  {
   "cell_type": "code",
   "execution_count": 245,
   "metadata": {},
   "outputs": [
    {
     "data": {
      "image/png": "[encoded data removed]",
      "text/plain": [
       "<Figure size 500x500 with 2 Axes>"
      ]
     },
     "metadata": {},
     "output_type": "display_data"
    }
   ],
   "source": [
    "# plot confusion matrix\n",
    "f, ax = plt.subplots(figsize=(5, 5))\n",
    "sns.heatmap(cm, annot=True, linewidths=0.01, cmap=\"YlGnBu\", linecolor=\"gray\", fmt= '.1f', ax=ax)\n",
    "plt.xlabel(\"Predicted Label\")\n",
    "plt.ylabel(\"True Label\")\n",
    "plt.title(\"Confusion Matrix\")\n",
    "plt.show()\n"
   ]
  },
  {
   "cell_type": "code",
   "execution_count": 246,
   "metadata": {},
   "outputs": [
    {
     "data": {
      "text/html": [
       "<div>\n",
       "<style scoped>\n",
       "    .dataframe tbody tr th:only-of-type {\n",
       "        vertical-align: middle;\n",
       "    }\n",
       "\n",
       "    .dataframe tbody tr th {\n",
       "        vertical-align: top;\n",
       "    }\n",
       "\n",
       "    .dataframe thead th {\n",
       "        text-align: right;\n",
       "    }\n",
       "</style>\n",
       "<table border=\"1\" class=\"dataframe\">\n",
       "  <thead>\n",
       "    <tr style=\"text-align: right;\">\n",
       "      <th></th>\n",
       "      <th>tweet</th>\n",
       "      <th>label</th>\n",
       "    </tr>\n",
       "  </thead>\n",
       "  <tbody>\n",
       "    <tr>\n",
       "      <th>0</th>\n",
       "      <td>[cm] Bisa gk yh tugas UAS ini ngerjain dirinya...</td>\n",
       "      <td>0</td>\n",
       "    </tr>\n",
       "    <tr>\n",
       "      <th>1</th>\n",
       "      <td>[cm] curhat dong, jadi aku senin kemarin chat ...</td>\n",
       "      <td>0</td>\n",
       "    </tr>\n",
       "    <tr>\n",
       "      <th>2</th>\n",
       "      <td>jujur ya, pertanyaanmu nggak berpengaruh apapu...</td>\n",
       "      <td>0</td>\n",
       "    </tr>\n",
       "    <tr>\n",
       "      <th>3</th>\n",
       "      <td>[cm] Eneg banget nggak sih guys kalau ditanyai...</td>\n",
       "      <td>0</td>\n",
       "    </tr>\n",
       "    <tr>\n",
       "      <th>4</th>\n",
       "      <td>[Cm] mau nangis, aku udh ngebubble chat 8Ã— da...</td>\n",
       "      <td>0</td>\n",
       "    </tr>\n",
       "  </tbody>\n",
       "</table>\n",
       "</div>"
      ],
      "text/plain": [
       "                                               tweet  label\n",
       "0  [cm] Bisa gk yh tugas UAS ini ngerjain dirinya...      0\n",
       "1  [cm] curhat dong, jadi aku senin kemarin chat ...      0\n",
       "2  jujur ya, pertanyaanmu nggak berpengaruh apapu...      0\n",
       "3  [cm] Eneg banget nggak sih guys kalau ditanyai...      0\n",
       "4  [Cm] mau nangis, aku udh ngebubble chat 8Ã— da...      0"
      ]
     },
     "execution_count": 246,
     "metadata": {},
     "output_type": "execute_result"
    }
   ],
   "source": [
    "\n",
    "import pandas as pd\n",
    "tw_fix = pd.read_csv('datasets_garbage/tweet_label_fix.csv')\n",
    "tw_fix.head()\n"
   ]
  },
  {
   "cell_type": "code",
   "execution_count": 247,
   "metadata": {},
   "outputs": [
    {
     "data": {
      "text/plain": [
       "<AxesSubplot:xlabel='label', ylabel='count'>"
      ]
     },
     "execution_count": 247,
     "metadata": {},
     "output_type": "execute_result"
    },
    {
     "data": {
      "image/png": "[encoded data removed]",
      "text/plain": [
       "<Figure size 640x480 with 1 Axes>"
      ]
     },
     "metadata": {},
     "output_type": "display_data"
    }
   ],
   "source": [
    "# plot label distribution\n",
    "sns.countplot(x='label', data=tw_fix)"
   ]
  },
  {
   "cell_type": "code",
   "execution_count": 248,
   "metadata": {},
   "outputs": [
    {
     "data": {
      "text/plain": [
       "1    7719\n",
       "0    1490\n",
       "2     631\n",
       "Name: label, dtype: int64"
      ]
     },
     "execution_count": 248,
     "metadata": {},
     "output_type": "execute_result"
    }
   ],
   "source": [
    "# count label\n",
    "tw_fix['label'].value_counts()\n"
   ]
  },
  {
   "cell_type": "code",
   "execution_count": 285,
   "metadata": {},
   "outputs": [
    {
     "data": {
      "text/plain": [
       "{'tag': 'v',\n",
       " 'sinonim': ['ambruk',\n",
       "  'gering',\n",
       "  'lara',\n",
       "  'a pedih',\n",
       "  'perih',\n",
       "  'linu',\n",
       "  'ngilu',\n",
       "  'nyeri']}"
      ]
     },
     "execution_count": 285,
     "metadata": {},
     "output_type": "execute_result"
    }
   ],
   "source": [
    "# balancing dataset using synonim above"
   ]
  },
  {
   "cell_type": "code",
   "execution_count": 271,
   "metadata": {},
   "outputs": [
    {
     "data": {
      "text/plain": [
       "1    7719\n",
       "0    7719\n",
       "2    7719\n",
       "Name: label, dtype: int64"
      ]
     },
     "execution_count": 271,
     "metadata": {},
     "output_type": "execute_result"
    }
   ],
   "source": [
    "# combine majority class with upsampled minority class\n",
    "df_upsampled = pd.concat([df_majority, df_minority_upsampled, df_minority2_upsampled])\n",
    "\n",
    "# check new class counts\n",
    "df_upsampled.label.value_counts()"
   ]
  },
  {
   "cell_type": "code",
   "execution_count": 272,
   "metadata": {},
   "outputs": [
    {
     "data": {
      "text/plain": [
       "<AxesSubplot:xlabel='label', ylabel='count'>"
      ]
     },
     "execution_count": 272,
     "metadata": {},
     "output_type": "execute_result"
    },
    {
     "data": {
      "image/png": "[encoded data removed]",
      "text/plain": [
       "<Figure size 640x480 with 1 Axes>"
      ]
     },
     "metadata": {},
     "output_type": "display_data"
    }
   ],
   "source": [
    "# plot label distribution\n",
    "sns.countplot(x='label', data=df_upsampled)\n"
   ]
  },
  {
   "cell_type": "code",
   "execution_count": 276,
   "metadata": {},
   "outputs": [
    {
     "data": {
      "text/plain": [
       "13473"
      ]
     },
     "execution_count": 276,
     "metadata": {},
     "output_type": "execute_result"
    }
   ],
   "source": [
    "# count duplicate\n",
    "df_upsampled['tweet'].duplicated().sum()\n"
   ]
  },
  {
   "cell_type": "code",
   "execution_count": 277,
   "metadata": {},
   "outputs": [
    {
     "data": {
      "text/plain": [
       "9684"
      ]
     },
     "execution_count": 277,
     "metadata": {},
     "output_type": "execute_result"
    }
   ],
   "source": [
    "#count unique\n",
    "df_upsampled['tweet'].nunique()"
   ]
  },
  {
   "cell_type": "code",
   "execution_count": 249,
   "metadata": {},
   "outputs": [],
   "source": [
    "# remove empty tweet\n",
    "tw_fix = tw_fix[tw_fix['tweet'] != '']\n"
   ]
  },
  {
   "cell_type": "code",
   "execution_count": 250,
   "metadata": {},
   "outputs": [
    {
     "data": {
      "text/html": [
       "<div>\n",
       "<style scoped>\n",
       "    .dataframe tbody tr th:only-of-type {\n",
       "        vertical-align: middle;\n",
       "    }\n",
       "\n",
       "    .dataframe tbody tr th {\n",
       "        vertical-align: top;\n",
       "    }\n",
       "\n",
       "    .dataframe thead th {\n",
       "        text-align: right;\n",
       "    }\n",
       "</style>\n",
       "<table border=\"1\" class=\"dataframe\">\n",
       "  <thead>\n",
       "    <tr style=\"text-align: right;\">\n",
       "      <th></th>\n",
       "      <th>tweet</th>\n",
       "      <th>label</th>\n",
       "    </tr>\n",
       "  </thead>\n",
       "  <tbody>\n",
       "    <tr>\n",
       "      <th>0</th>\n",
       "      <td>bisa gk yh tugas uas ini ngerjain dirinya sen...</td>\n",
       "      <td>0</td>\n",
       "    </tr>\n",
       "    <tr>\n",
       "      <th>1</th>\n",
       "      <td>curhat dong  jadi aku senin kemarin chat dose...</td>\n",
       "      <td>0</td>\n",
       "    </tr>\n",
       "    <tr>\n",
       "      <th>2</th>\n",
       "      <td>jujur ya  pertanyaanmu nggak berpengaruh apapu...</td>\n",
       "      <td>0</td>\n",
       "    </tr>\n",
       "    <tr>\n",
       "      <th>3</th>\n",
       "      <td>eneg banget nggak sih guys kalau ditanyain te...</td>\n",
       "      <td>0</td>\n",
       "    </tr>\n",
       "    <tr>\n",
       "      <th>4</th>\n",
       "      <td>mau nangis  aku udh ngebubble chat     dari s...</td>\n",
       "      <td>0</td>\n",
       "    </tr>\n",
       "  </tbody>\n",
       "</table>\n",
       "</div>"
      ],
      "text/plain": [
       "                                               tweet  label\n",
       "0   bisa gk yh tugas uas ini ngerjain dirinya sen...      0\n",
       "1   curhat dong  jadi aku senin kemarin chat dose...      0\n",
       "2  jujur ya  pertanyaanmu nggak berpengaruh apapu...      0\n",
       "3   eneg banget nggak sih guys kalau ditanyain te...      0\n",
       "4   mau nangis  aku udh ngebubble chat     dari s...      0"
      ]
     },
     "execution_count": 250,
     "metadata": {},
     "output_type": "execute_result"
    }
   ],
   "source": [
    "\n",
    "# clean tweet\n",
    "tw_fix['tweet'] = tw_fix['tweet'].apply(cleanTxt)\n",
    "tw_fix.head()\n"
   ]
  },
  {
   "cell_type": "code",
   "execution_count": 251,
   "metadata": {},
   "outputs": [
    {
     "data": {
      "text/html": [
       "<div>\n",
       "<style scoped>\n",
       "    .dataframe tbody tr th:only-of-type {\n",
       "        vertical-align: middle;\n",
       "    }\n",
       "\n",
       "    .dataframe tbody tr th {\n",
       "        vertical-align: top;\n",
       "    }\n",
       "\n",
       "    .dataframe thead th {\n",
       "        text-align: right;\n",
       "    }\n",
       "</style>\n",
       "<table border=\"1\" class=\"dataframe\">\n",
       "  <thead>\n",
       "    <tr style=\"text-align: right;\">\n",
       "      <th></th>\n",
       "      <th>tweet</th>\n",
       "      <th>label</th>\n",
       "    </tr>\n",
       "  </thead>\n",
       "  <tbody>\n",
       "    <tr>\n",
       "      <th>0</th>\n",
       "      <td>gk yh tugas uas ngerjain  gausah manja utk ba...</td>\n",
       "      <td>0</td>\n",
       "    </tr>\n",
       "    <tr>\n",
       "      <th>1</th>\n",
       "      <td>curhat  senin kemarin chat dosen diread doang...</td>\n",
       "      <td>0</td>\n",
       "    </tr>\n",
       "    <tr>\n",
       "      <th>2</th>\n",
       "      <td>jujur  pertanyaanmu nggak berpengaruh apapun b...</td>\n",
       "      <td>0</td>\n",
       "    </tr>\n",
       "    <tr>\n",
       "      <th>3</th>\n",
       "      <td>eneg banget nggak sih guys ditanyain skripsi ...</td>\n",
       "      <td>0</td>\n",
       "    </tr>\n",
       "    <tr>\n",
       "      <th>4</th>\n",
       "      <td>nangis  udh ngebubble chat     semalem gc kel...</td>\n",
       "      <td>0</td>\n",
       "    </tr>\n",
       "  </tbody>\n",
       "</table>\n",
       "</div>"
      ],
      "text/plain": [
       "                                               tweet  label\n",
       "0   gk yh tugas uas ngerjain  gausah manja utk ba...      0\n",
       "1   curhat  senin kemarin chat dosen diread doang...      0\n",
       "2  jujur  pertanyaanmu nggak berpengaruh apapun b...      0\n",
       "3   eneg banget nggak sih guys ditanyain skripsi ...      0\n",
       "4   nangis  udh ngebubble chat     semalem gc kel...      0"
      ]
     },
     "execution_count": 251,
     "metadata": {},
     "output_type": "execute_result"
    }
   ],
   "source": [
    "# remove stop word using Sastrawi\n",
    "from Sastrawi.StopWordRemover.StopWordRemoverFactory import StopWordRemoverFactory\n",
    "factory = StopWordRemoverFactory()\n",
    "stopword = factory.create_stop_word_remover()\n",
    "\n",
    "tw_fix['tweet'] = tw_fix['tweet'].apply(lambda x: stopword.remove(x))\n",
    "tw_fix.head()"
   ]
  },
  {
   "cell_type": "code",
   "execution_count": 252,
   "metadata": {},
   "outputs": [
    {
     "data": {
      "text/html": [
       "<div>\n",
       "<style scoped>\n",
       "    .dataframe tbody tr th:only-of-type {\n",
       "        vertical-align: middle;\n",
       "    }\n",
       "\n",
       "    .dataframe tbody tr th {\n",
       "        vertical-align: top;\n",
       "    }\n",
       "\n",
       "    .dataframe thead th {\n",
       "        text-align: right;\n",
       "    }\n",
       "</style>\n",
       "<table border=\"1\" class=\"dataframe\">\n",
       "  <thead>\n",
       "    <tr style=\"text-align: right;\">\n",
       "      <th></th>\n",
       "      <th>tweet</th>\n",
       "      <th>label</th>\n",
       "    </tr>\n",
       "  </thead>\n",
       "  <tbody>\n",
       "    <tr>\n",
       "      <th>0</th>\n",
       "      <td>gk yh tugas uas ngerjain gausah manja utk bant...</td>\n",
       "      <td>0</td>\n",
       "    </tr>\n",
       "    <tr>\n",
       "      <th>1</th>\n",
       "      <td>curhat senin kemarin chat dosen diread doang r...</td>\n",
       "      <td>0</td>\n",
       "    </tr>\n",
       "    <tr>\n",
       "      <th>2</th>\n",
       "      <td>jujur tanya nggak pengaruh apa bikin pusing tauuu</td>\n",
       "      <td>0</td>\n",
       "    </tr>\n",
       "    <tr>\n",
       "      <th>3</th>\n",
       "      <td>eneg banget nggak sih guys ditanyain skripsi k...</td>\n",
       "      <td>0</td>\n",
       "    </tr>\n",
       "    <tr>\n",
       "      <th>4</th>\n",
       "      <td>nang udh ngebubble chat semalem gc kelompok tp...</td>\n",
       "      <td>0</td>\n",
       "    </tr>\n",
       "  </tbody>\n",
       "</table>\n",
       "</div>"
      ],
      "text/plain": [
       "                                               tweet  label\n",
       "0  gk yh tugas uas ngerjain gausah manja utk bant...      0\n",
       "1  curhat senin kemarin chat dosen diread doang r...      0\n",
       "2  jujur tanya nggak pengaruh apa bikin pusing tauuu      0\n",
       "3  eneg banget nggak sih guys ditanyain skripsi k...      0\n",
       "4  nang udh ngebubble chat semalem gc kelompok tp...      0"
      ]
     },
     "execution_count": 252,
     "metadata": {},
     "output_type": "execute_result"
    }
   ],
   "source": [
    "# lemmatization using Sastrawi\n",
    "from Sastrawi.Stemmer.StemmerFactory import StemmerFactory\n",
    "factory = StemmerFactory()\n",
    "stemmer = factory.create_stemmer()\n",
    "\n",
    "tw_fix['tweet'] = tw_fix['tweet'].apply(lambda x: stemmer.stem(x))\n",
    "tw_fix.head()"
   ]
  },
  {
   "cell_type": "code",
   "execution_count": 253,
   "metadata": {},
   "outputs": [
    {
     "data": {
      "text/html": [
       "<div>\n",
       "<style scoped>\n",
       "    .dataframe tbody tr th:only-of-type {\n",
       "        vertical-align: middle;\n",
       "    }\n",
       "\n",
       "    .dataframe tbody tr th {\n",
       "        vertical-align: top;\n",
       "    }\n",
       "\n",
       "    .dataframe thead th {\n",
       "        text-align: right;\n",
       "    }\n",
       "</style>\n",
       "<table border=\"1\" class=\"dataframe\">\n",
       "  <thead>\n",
       "    <tr style=\"text-align: right;\">\n",
       "      <th></th>\n",
       "      <th>tweet</th>\n",
       "      <th>label</th>\n",
       "      <th>token</th>\n",
       "    </tr>\n",
       "  </thead>\n",
       "  <tbody>\n",
       "    <tr>\n",
       "      <th>0</th>\n",
       "      <td>gk yh tugas uas ngerjain gausah manja utk bant...</td>\n",
       "      <td>0</td>\n",
       "      <td>[gk, yh, tugas, uas, ngerjain, gausah, manja, ...</td>\n",
       "    </tr>\n",
       "    <tr>\n",
       "      <th>1</th>\n",
       "      <td>curhat senin kemarin chat dosen diread doang r...</td>\n",
       "      <td>0</td>\n",
       "      <td>[curhat, senin, kemarin, chat, dosen, diread, ...</td>\n",
       "    </tr>\n",
       "    <tr>\n",
       "      <th>2</th>\n",
       "      <td>jujur tanya nggak pengaruh apa bikin pusing tauuu</td>\n",
       "      <td>0</td>\n",
       "      <td>[jujur, tanya, nggak, pengaruh, apa, bikin, pu...</td>\n",
       "    </tr>\n",
       "    <tr>\n",
       "      <th>3</th>\n",
       "      <td>eneg banget nggak sih guys ditanyain skripsi k...</td>\n",
       "      <td>0</td>\n",
       "      <td>[eneg, banget, nggak, sih, guys, ditanyain, sk...</td>\n",
       "    </tr>\n",
       "    <tr>\n",
       "      <th>4</th>\n",
       "      <td>nang udh ngebubble chat semalem gc kelompok tp...</td>\n",
       "      <td>0</td>\n",
       "      <td>[nang, udh, ngebubble, chat, semalem, gc, kelo...</td>\n",
       "    </tr>\n",
       "  </tbody>\n",
       "</table>\n",
       "</div>"
      ],
      "text/plain": [
       "                                               tweet  label  \\\n",
       "0  gk yh tugas uas ngerjain gausah manja utk bant...      0   \n",
       "1  curhat senin kemarin chat dosen diread doang r...      0   \n",
       "2  jujur tanya nggak pengaruh apa bikin pusing tauuu      0   \n",
       "3  eneg banget nggak sih guys ditanyain skripsi k...      0   \n",
       "4  nang udh ngebubble chat semalem gc kelompok tp...      0   \n",
       "\n",
       "                                               token  \n",
       "0  [gk, yh, tugas, uas, ngerjain, gausah, manja, ...  \n",
       "1  [curhat, senin, kemarin, chat, dosen, diread, ...  \n",
       "2  [jujur, tanya, nggak, pengaruh, apa, bikin, pu...  \n",
       "3  [eneg, banget, nggak, sih, guys, ditanyain, sk...  \n",
       "4  [nang, udh, ngebubble, chat, semalem, gc, kelo...  "
      ]
     },
     "execution_count": 253,
     "metadata": {},
     "output_type": "execute_result"
    }
   ],
   "source": [
    "# tokenize tweet\n",
    "tw_fix['token'] = tw_fix['tweet']\n",
    "tw_fix['token'] = tw_fix['token'].apply(word_tokenize)\n",
    "tw_fix.head()"
   ]
  },
  {
   "cell_type": "code",
   "execution_count": 286,
   "metadata": {},
   "outputs": [],
   "source": [
    "# find synonim from tesaurus-master/dict.json\n",
    "import json\n",
    "with open('tesaurus-master/dict.json') as f:\n",
    "    data = json.load(f)\n",
    "\n",
    "# find synonim from tesaurus-master/dict.json\n",
    "def find_synonim(word):\n",
    "    if word in data:\n",
    "        return data[word]\n",
    "    else:\n",
    "        return []\n",
    "\n"
   ]
  },
  {
   "cell_type": "code",
   "execution_count": 288,
   "metadata": {},
   "outputs": [
    {
     "data": {
      "text/html": [
       "<div>\n",
       "<style scoped>\n",
       "    .dataframe tbody tr th:only-of-type {\n",
       "        vertical-align: middle;\n",
       "    }\n",
       "\n",
       "    .dataframe tbody tr th {\n",
       "        vertical-align: top;\n",
       "    }\n",
       "\n",
       "    .dataframe thead th {\n",
       "        text-align: right;\n",
       "    }\n",
       "</style>\n",
       "<table border=\"1\" class=\"dataframe\">\n",
       "  <thead>\n",
       "    <tr style=\"text-align: right;\">\n",
       "      <th></th>\n",
       "      <th>tweet</th>\n",
       "      <th>label</th>\n",
       "      <th>token</th>\n",
       "      <th>synonim</th>\n",
       "    </tr>\n",
       "  </thead>\n",
       "  <tbody>\n",
       "    <tr>\n",
       "      <th>0</th>\n",
       "      <td>gk yh tugas uas ngerjain gausah manja utk bant...</td>\n",
       "      <td>0</td>\n",
       "      <td>[[], [], {'tag': 'n', 'sinonim': ['darma', 'ke...</td>\n",
       "      <td>[[], [], {'tag': 'n', 'sinonim': ['darma', 'ke...</td>\n",
       "    </tr>\n",
       "    <tr>\n",
       "      <th>1</th>\n",
       "      <td>curhat senin kemarin chat dosen diread doang r...</td>\n",
       "      <td>0</td>\n",
       "      <td>[[], [], {'tag': 'n', 'sinonim': ['kemarin dul...</td>\n",
       "      <td>[[], [], {'tag': 'n', 'sinonim': ['kemarin dul...</td>\n",
       "    </tr>\n",
       "    <tr>\n",
       "      <th>2</th>\n",
       "      <td>jujur tanya nggak pengaruh apa bikin pusing tauuu</td>\n",
       "      <td>0</td>\n",
       "      <td>[{'tag': 'a', 'sinonim': ['andal', 'benar', 'b...</td>\n",
       "      <td>[{'tag': 'a', 'sinonim': ['andal', 'benar', 'b...</td>\n",
       "    </tr>\n",
       "    <tr>\n",
       "      <th>3</th>\n",
       "      <td>eneg banget nggak sih guys ditanyain skripsi k...</td>\n",
       "      <td>0</td>\n",
       "      <td>[[], {'tag': 'adv', 'sinonim': ['cak amat sang...</td>\n",
       "      <td>[[], {'tag': 'adv', 'sinonim': ['cak amat sang...</td>\n",
       "    </tr>\n",
       "    <tr>\n",
       "      <th>4</th>\n",
       "      <td>nang udh ngebubble chat semalem gc kelompok tp...</td>\n",
       "      <td>0</td>\n",
       "      <td>[{'tag': 'p', 'sinonim': ['nan', 'yang']}, [],...</td>\n",
       "      <td>[{'tag': 'p', 'sinonim': ['nan', 'yang']}, [],...</td>\n",
       "    </tr>\n",
       "  </tbody>\n",
       "</table>\n",
       "</div>"
      ],
      "text/plain": [
       "                                               tweet  label  \\\n",
       "0  gk yh tugas uas ngerjain gausah manja utk bant...      0   \n",
       "1  curhat senin kemarin chat dosen diread doang r...      0   \n",
       "2  jujur tanya nggak pengaruh apa bikin pusing tauuu      0   \n",
       "3  eneg banget nggak sih guys ditanyain skripsi k...      0   \n",
       "4  nang udh ngebubble chat semalem gc kelompok tp...      0   \n",
       "\n",
       "                                               token  \\\n",
       "0  [[], [], {'tag': 'n', 'sinonim': ['darma', 'ke...   \n",
       "1  [[], [], {'tag': 'n', 'sinonim': ['kemarin dul...   \n",
       "2  [{'tag': 'a', 'sinonim': ['andal', 'benar', 'b...   \n",
       "3  [[], {'tag': 'adv', 'sinonim': ['cak amat sang...   \n",
       "4  [{'tag': 'p', 'sinonim': ['nan', 'yang']}, [],...   \n",
       "\n",
       "                                             synonim  \n",
       "0  [[], [], {'tag': 'n', 'sinonim': ['darma', 'ke...  \n",
       "1  [[], [], {'tag': 'n', 'sinonim': ['kemarin dul...  \n",
       "2  [{'tag': 'a', 'sinonim': ['andal', 'benar', 'b...  \n",
       "3  [[], {'tag': 'adv', 'sinonim': ['cak amat sang...  \n",
       "4  [{'tag': 'p', 'sinonim': ['nan', 'yang']}, [],...  "
      ]
     },
     "execution_count": 288,
     "metadata": {},
     "output_type": "execute_result"
    }
   ],
   "source": [
    "# balance dataset using synonim above\n",
    "tw_fix['token'] = tw_fix['token'].apply(lambda x: [find_synonim(i) for i in x])\n",
    "tw_fix.head()"
   ]
  },
  {
   "cell_type": "code",
   "execution_count": 259,
   "metadata": {},
   "outputs": [],
   "source": [
    "# split dataset to train and test\n",
    "X = tw_fix['tweet']\n",
    "y = tw_fix['label']\n",
    "X_train, X_test, y_train, y_test = train_test_split(X, y, test_size=0.2, random_state=0)\n",
    "\n"
   ]
  },
  {
   "cell_type": "code",
   "execution_count": 260,
   "metadata": {},
   "outputs": [],
   "source": [
    "# create bag of word using CountVectorizer\n",
    "cv = CountVectorizer(max_features=1500)\n",
    "X_train = cv.fit_transform(X_train).toarray()\n",
    "X_test = cv.transform(X_test).toarray()\n",
    "\n"
   ]
  },
  {
   "cell_type": "code",
   "execution_count": 261,
   "metadata": {},
   "outputs": [
    {
     "name": "stdout",
     "output_type": "stream",
     "text": [
      "0.35772357723577236\n",
      "              precision    recall  f1-score   support\n",
      "\n",
      "           0       0.21      0.56      0.30       278\n",
      "           1       0.90      0.31      0.46      1567\n",
      "           2       0.10      0.57      0.17       123\n",
      "\n",
      "    accuracy                           0.36      1968\n",
      "   macro avg       0.40      0.48      0.31      1968\n",
      "weighted avg       0.75      0.36      0.42      1968\n",
      "\n"
     ]
    }
   ],
   "source": [
    "# create model\n",
    "classifier = GaussianNB()\n",
    "classifier.fit(X_train, y_train)\n",
    "\n",
    "# predict\n",
    "y_pred = classifier.predict(X_test)\n",
    "\n",
    "# confusion matrix\n",
    "cm = confusion_matrix(y_test, y_pred)\n",
    "\n",
    "# accuracy\n",
    "print(accuracy_score(y_test, y_pred))\n",
    "\n",
    "# classification report\n",
    "print(classification_report(y_test, y_pred))\n"
   ]
  },
  {
   "cell_type": "code",
   "execution_count": 262,
   "metadata": {},
   "outputs": [
    {
     "data": {
      "image/png": "[encoded data removed]",
      "text/plain": [
       "<Figure size 500x500 with 2 Axes>"
      ]
     },
     "metadata": {},
     "output_type": "display_data"
    }
   ],
   "source": [
    "# plot confusion matrix\n",
    "f, ax = plt.subplots(figsize=(5, 5))\n",
    "sns.heatmap(cm, annot=True, linewidths=0.01, cmap=\"YlGnBu\", linecolor=\"gray\", fmt= '.1f', ax=ax)\n",
    "plt.xlabel(\"Predicted Label\")\n",
    "plt.ylabel(\"True Label\")\n",
    "plt.title(\"Confusion Matrix\")\n",
    "plt.show()"
   ]
  }
 ],
 "metadata": {
  "kernelspec": {
   "display_name": "base",
   "language": "python",
   "name": "python3"
  },
  "language_info": {
   "codemirror_mode": {
    "name": "ipython",
    "version": 3
   },
   "file_extension": ".py",
   "mimetype": "text/x-python",
   "name": "python",
   "nbconvert_exporter": "python",
   "pygments_lexer": "ipython3",
   "version": "3.9.15 | packaged by conda-forge | (main, Nov 22 2022, 08:52:10) \n[Clang 14.0.6 ]"
  },
  "orig_nbformat": 4,
  "vscode": {
   "interpreter": {
    "hash": "01995e28fbcd4b9981789eeef76fb291d0df90a8bbb13c203596c864ac6e02bb"
   }
  }
 },
 "nbformat": 4,
 "nbformat_minor": 2
}
