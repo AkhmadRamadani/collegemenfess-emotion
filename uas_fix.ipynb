{
 "cells": [
  {
   "attachments": {},
   "cell_type": "markdown",
   "metadata": {},
   "source": [
    "## Scrapping the tweets between 5th of December - 11st of December\n",
    "\n",
    "Uncoment below line to re-scrap"
   ]
  },
  {
   "cell_type": "code",
   "execution_count": 1,
   "metadata": {},
   "outputs": [],
   "source": [
    "# import twint\n",
    "# import nest_asyncio\n",
    "\n",
    "# nest_asyncio.apply()\n",
    "\n",
    "# c = twint.Config()\n",
    "# c.Username = \"collegemenfess\"\n",
    "# c.Since = \"2022-12-05\"\n",
    "# c.Until = \"2022-12-11\"\n",
    "# c.Store_csv = True\n",
    "# c.Output = \"collegemenfess.csv\"\n",
    "# c.Limit = 5000\n",
    "# c.Pandas = True\n",
    "\n",
    "# twint.run.Search(c)"
   ]
  },
  {
   "cell_type": "code",
   "execution_count": 2,
   "metadata": {},
   "outputs": [],
   "source": [
    "import pandas as pd\n",
    "import numpy as np\n",
    "import matplotlib.pyplot as plt\n",
    "import seaborn as sns\n",
    "import re\n",
    "import nltk\n",
    "from nltk.corpus import stopwords\n",
    "from nltk.stem import WordNetLemmatizer\n",
    "from nltk.tokenize import word_tokenize\n",
    "from sklearn.feature_extraction.text import CountVectorizer\n",
    "from sklearn.feature_extraction.text import TfidfVectorizer\n",
    "from sklearn.model_selection import train_test_split\n",
    "from sklearn.metrics import confusion_matrix, classification_report\n",
    "# Sastrawi\n",
    "from Sastrawi.Stemmer.StemmerFactory import StemmerFactory\n",
    "from Sastrawi.StopWordRemover.StopWordRemoverFactory import StopWordRemoverFactory\n",
    "from gensim.models import Word2Vec\n",
    "# import MultinomialNB\n",
    "from sklearn.naive_bayes import MultinomialNB\n",
    "# import accuracy_score\n",
    "from sklearn.metrics import accuracy_score\n",
    "# import TfidfTransformer\n",
    "from sklearn.feature_extraction.text import TfidfTransformer\n",
    "# import LogisticRegression\n",
    "from sklearn.linear_model import LogisticRegression\n",
    "\n",
    "# import SVM \n",
    "from sklearn.svm import SVC\n"
   ]
  },
  {
   "cell_type": "code",
   "execution_count": 3,
   "metadata": {},
   "outputs": [],
   "source": [
    "# load negatif and positif words from assets/negatif.txt and assets/positif.txt\n",
    "# and store it in negatif and positif list\n",
    "negatif = []\n",
    "positif = []\n",
    "\n",
    "with open('assets/negatif.txt', 'r') as f:\n",
    "    for line in f:\n",
    "        negatif.append(line.strip())\n",
    "\n",
    "with open('assets/positif.txt', 'r') as f:\n",
    "    for line in f:\n",
    "        positif.append(line.strip())\n",
    "        "
   ]
  },
  {
   "cell_type": "code",
   "execution_count": 4,
   "metadata": {},
   "outputs": [],
   "source": [
    "# remove duplicate words in negatif and positif list\n",
    "negatif = list(set(negatif))\n",
    "positif = list(set(positif))\n"
   ]
  },
  {
   "cell_type": "code",
   "execution_count": 5,
   "metadata": {},
   "outputs": [],
   "source": [
    "# get synonyms of negatif and positif words from assets/dict.json\n",
    "# and add it to negatif and positif list\n",
    "import json\n",
    "\n",
    "with open('assets/dict.json', 'r') as f:\n",
    "    dict = json.load(f)\n",
    "\n",
    "for key, value in dict.items():\n",
    "    if key in negatif:\n",
    "        for v in value:\n",
    "            negatif.append(v)\n",
    "    elif key in positif:\n",
    "        for v in value:\n",
    "            positif.append(v)\n"
   ]
  },
  {
   "cell_type": "code",
   "execution_count": 6,
   "metadata": {},
   "outputs": [],
   "source": [
    "# remove duplicate words in negatif and positif list\n",
    "negatif = list(set(negatif))\n",
    "positif = list(set(positif))"
   ]
  },
  {
   "cell_type": "code",
   "execution_count": 7,
   "metadata": {},
   "outputs": [
    {
     "name": "stdout",
     "output_type": "stream",
     "text": [
      "5140\n",
      "2169\n"
     ]
    }
   ],
   "source": [
    "# size of negatif and positif list\n",
    "print(len(negatif))\n",
    "print(len(positif))\n"
   ]
  },
  {
   "cell_type": "code",
   "execution_count": 8,
   "metadata": {},
   "outputs": [
    {
     "name": "stdout",
     "output_type": "stream",
     "text": [
      "['menggerakkan', 'dipanas-panasi', 'menyenangkan', 'terjal', 'penguntit', 'problematik', 'berselisih', 'penghindaran', 'kungkung', 'tersuntuk']\n",
      "['pemberian Tuhan', 'keridaan', 'kemegahan', 'dimaafkan', 'terbebani', 'cita', 'menyenangkan', 'kekhidmatan', 'seimbang', 'diperbaiki']\n"
     ]
    }
   ],
   "source": [
    "# print first 10 words in negatif and positif list\n",
    "print(negatif[:10])\n",
    "print(positif[:10])\n",
    "\n"
   ]
  },
  {
   "cell_type": "code",
   "execution_count": 9,
   "metadata": {},
   "outputs": [],
   "source": [
    "# load data from csv file\n",
    "df = pd.read_csv('data/collegemenfess.csv')\n"
   ]
  },
  {
   "cell_type": "code",
   "execution_count": 10,
   "metadata": {},
   "outputs": [
    {
     "data": {
      "text/html": [
       "<div>\n",
       "<style scoped>\n",
       "    .dataframe tbody tr th:only-of-type {\n",
       "        vertical-align: middle;\n",
       "    }\n",
       "\n",
       "    .dataframe tbody tr th {\n",
       "        vertical-align: top;\n",
       "    }\n",
       "\n",
       "    .dataframe thead th {\n",
       "        text-align: right;\n",
       "    }\n",
       "</style>\n",
       "<table border=\"1\" class=\"dataframe\">\n",
       "  <thead>\n",
       "    <tr style=\"text-align: right;\">\n",
       "      <th></th>\n",
       "      <th>tweet</th>\n",
       "      <th>real_tweet</th>\n",
       "    </tr>\n",
       "  </thead>\n",
       "  <tbody>\n",
       "    <tr>\n",
       "      <th>0</th>\n",
       "      <td>[cm] smt 5 mending ikut studi independen dulu ...</td>\n",
       "      <td>[cm] smt 5 mending ikut studi independen dulu ...</td>\n",
       "    </tr>\n",
       "    <tr>\n",
       "      <th>1</th>\n",
       "      <td>[cm] di kampus kalian mahasiswa s1 wajib publi...</td>\n",
       "      <td>[cm] di kampus kalian mahasiswa s1 wajib publi...</td>\n",
       "    </tr>\n",
       "    <tr>\n",
       "      <th>2</th>\n",
       "      <td>[cm] Bisa gk yh tugas UAS ini ngerjain dirinya...</td>\n",
       "      <td>[cm] Bisa gk yh tugas UAS ini ngerjain dirinya...</td>\n",
       "    </tr>\n",
       "    <tr>\n",
       "      <th>3</th>\n",
       "      <td>[CM] Dosen praktikum aku ngasih ini waktu pert...</td>\n",
       "      <td>[CM] Dosen praktikum aku ngasih ini waktu pert...</td>\n",
       "    </tr>\n",
       "    <tr>\n",
       "      <th>4</th>\n",
       "      <td>[cm] Alhamdulilah masih bisa hidup walaupun di...</td>\n",
       "      <td>[cm] Alhamdulilah masih bisa hidup walaupun di...</td>\n",
       "    </tr>\n",
       "  </tbody>\n",
       "</table>\n",
       "</div>"
      ],
      "text/plain": [
       "                                               tweet  \\\n",
       "0  [cm] smt 5 mending ikut studi independen dulu ...   \n",
       "1  [cm] di kampus kalian mahasiswa s1 wajib publi...   \n",
       "2  [cm] Bisa gk yh tugas UAS ini ngerjain dirinya...   \n",
       "3  [CM] Dosen praktikum aku ngasih ini waktu pert...   \n",
       "4  [cm] Alhamdulilah masih bisa hidup walaupun di...   \n",
       "\n",
       "                                          real_tweet  \n",
       "0  [cm] smt 5 mending ikut studi independen dulu ...  \n",
       "1  [cm] di kampus kalian mahasiswa s1 wajib publi...  \n",
       "2  [cm] Bisa gk yh tugas UAS ini ngerjain dirinya...  \n",
       "3  [CM] Dosen praktikum aku ngasih ini waktu pert...  \n",
       "4  [cm] Alhamdulilah masih bisa hidup walaupun di...  "
      ]
     },
     "execution_count": 10,
     "metadata": {},
     "output_type": "execute_result"
    }
   ],
   "source": [
    "# pick only tweet column\n",
    "df = df[['tweet']]\n",
    "df['real_tweet'] = df['tweet']\n",
    "df.head()"
   ]
  },
  {
   "cell_type": "code",
   "execution_count": 11,
   "metadata": {},
   "outputs": [],
   "source": [
    "# import slang word from assets/slang.json\n",
    "slang = pd.read_json('assets/slang.json', typ='series')\n",
    "slang = slang.to_dict()\n"
   ]
  },
  {
   "cell_type": "code",
   "execution_count": 12,
   "metadata": {},
   "outputs": [],
   "source": [
    "# add slang2.txt to slang\n",
    "with open('assets/slang2.txt', 'r') as f:\n",
    "    for line in f:\n",
    "        line = line.strip().split(';')\n",
    "        slang[line[0]] = line[1]\n"
   ]
  },
  {
   "cell_type": "code",
   "execution_count": 13,
   "metadata": {},
   "outputs": [],
   "source": [
    "# function to convert slang word to formal word\n",
    "def slang_to_formal(text):\n",
    "    text = text.split()\n",
    "    new_text = []\n",
    "    for word in text:\n",
    "        if word in slang:\n",
    "            new_text.append(slang[word])\n",
    "        else:\n",
    "            new_text.append(word)\n",
    "    return \" \".join(new_text)\n",
    "\n"
   ]
  },
  {
   "cell_type": "code",
   "execution_count": 14,
   "metadata": {},
   "outputs": [],
   "source": [
    "# convert slang word to formal word\n",
    "df['tweet'] = df['tweet'].apply(lambda x: slang_to_formal(x))"
   ]
  },
  {
   "cell_type": "code",
   "execution_count": 15,
   "metadata": {},
   "outputs": [
    {
     "data": {
      "text/html": [
       "<div>\n",
       "<style scoped>\n",
       "    .dataframe tbody tr th:only-of-type {\n",
       "        vertical-align: middle;\n",
       "    }\n",
       "\n",
       "    .dataframe tbody tr th {\n",
       "        vertical-align: top;\n",
       "    }\n",
       "\n",
       "    .dataframe thead th {\n",
       "        text-align: right;\n",
       "    }\n",
       "</style>\n",
       "<table border=\"1\" class=\"dataframe\">\n",
       "  <thead>\n",
       "    <tr style=\"text-align: right;\">\n",
       "      <th></th>\n",
       "      <th>tweet</th>\n",
       "      <th>real_tweet</th>\n",
       "    </tr>\n",
       "  </thead>\n",
       "  <tbody>\n",
       "    <tr>\n",
       "      <th>0</th>\n",
       "      <td>[cm] semester 5 lebih baik ikut studi independ...</td>\n",
       "      <td>[cm] smt 5 mending ikut studi independen dulu ...</td>\n",
       "    </tr>\n",
       "    <tr>\n",
       "      <th>1</th>\n",
       "      <td>[cm] di kampus kalian mahasiswa s1 wajib publi...</td>\n",
       "      <td>[cm] di kampus kalian mahasiswa s1 wajib publi...</td>\n",
       "    </tr>\n",
       "    <tr>\n",
       "      <th>2</th>\n",
       "      <td>[cm] Bisa tidak iya tugas UAS ini mengerjakan ...</td>\n",
       "      <td>[cm] Bisa gk yh tugas UAS ini ngerjain dirinya...</td>\n",
       "    </tr>\n",
       "    <tr>\n",
       "      <th>3</th>\n",
       "      <td>[CM] Dosen praktikum saya kasih ini waktu pert...</td>\n",
       "      <td>[CM] Dosen praktikum aku ngasih ini waktu pert...</td>\n",
       "    </tr>\n",
       "    <tr>\n",
       "      <th>4</th>\n",
       "      <td>[cm] Alhamdulilah masih bisa hidup walaupun di...</td>\n",
       "      <td>[cm] Alhamdulilah masih bisa hidup walaupun di...</td>\n",
       "    </tr>\n",
       "  </tbody>\n",
       "</table>\n",
       "</div>"
      ],
      "text/plain": [
       "                                               tweet  \\\n",
       "0  [cm] semester 5 lebih baik ikut studi independ...   \n",
       "1  [cm] di kampus kalian mahasiswa s1 wajib publi...   \n",
       "2  [cm] Bisa tidak iya tugas UAS ini mengerjakan ...   \n",
       "3  [CM] Dosen praktikum saya kasih ini waktu pert...   \n",
       "4  [cm] Alhamdulilah masih bisa hidup walaupun di...   \n",
       "\n",
       "                                          real_tweet  \n",
       "0  [cm] smt 5 mending ikut studi independen dulu ...  \n",
       "1  [cm] di kampus kalian mahasiswa s1 wajib publi...  \n",
       "2  [cm] Bisa gk yh tugas UAS ini ngerjain dirinya...  \n",
       "3  [CM] Dosen praktikum aku ngasih ini waktu pert...  \n",
       "4  [cm] Alhamdulilah masih bisa hidup walaupun di...  "
      ]
     },
     "execution_count": 15,
     "metadata": {},
     "output_type": "execute_result"
    }
   ],
   "source": [
    "df.head()"
   ]
  },
  {
   "cell_type": "code",
   "execution_count": 16,
   "metadata": {},
   "outputs": [],
   "source": [
    "# acronym word from assets/acronym.txt to dictionary\n",
    "acronym = {}\n",
    "with open('assets/acronym.txt', 'r') as f:\n",
    "    for line in f:\n",
    "        key, value = line.strip().split('=')\n",
    "        acronym[key] = value\n",
    "\n"
   ]
  },
  {
   "cell_type": "code",
   "execution_count": 17,
   "metadata": {},
   "outputs": [],
   "source": [
    "# function to convert acronym word to formal word\n",
    "def acronym_to_formal(text):\n",
    "    text = text.split()\n",
    "    new_text = []\n",
    "    for word in text:\n",
    "        if word in acronym:\n",
    "            new_text.append(acronym[word])\n",
    "        else:\n",
    "            new_text.append(word)\n",
    "    return \" \".join(new_text)\n",
    "\n"
   ]
  },
  {
   "cell_type": "code",
   "execution_count": 18,
   "metadata": {},
   "outputs": [
    {
     "data": {
      "text/html": [
       "<div>\n",
       "<style scoped>\n",
       "    .dataframe tbody tr th:only-of-type {\n",
       "        vertical-align: middle;\n",
       "    }\n",
       "\n",
       "    .dataframe tbody tr th {\n",
       "        vertical-align: top;\n",
       "    }\n",
       "\n",
       "    .dataframe thead th {\n",
       "        text-align: right;\n",
       "    }\n",
       "</style>\n",
       "<table border=\"1\" class=\"dataframe\">\n",
       "  <thead>\n",
       "    <tr style=\"text-align: right;\">\n",
       "      <th></th>\n",
       "      <th>tweet</th>\n",
       "      <th>real_tweet</th>\n",
       "    </tr>\n",
       "  </thead>\n",
       "  <tbody>\n",
       "    <tr>\n",
       "      <th>0</th>\n",
       "      <td>[cm] semester 5 lebih baik ikut studi independ...</td>\n",
       "      <td>[cm] smt 5 mending ikut studi independen dulu ...</td>\n",
       "    </tr>\n",
       "    <tr>\n",
       "      <th>1</th>\n",
       "      <td>[cm] di kampus kalian mahasiswa s1 wajib publi...</td>\n",
       "      <td>[cm] di kampus kalian mahasiswa s1 wajib publi...</td>\n",
       "    </tr>\n",
       "    <tr>\n",
       "      <th>2</th>\n",
       "      <td>[cm] Bisa tidak iya tugas UAS ini mengerjakan ...</td>\n",
       "      <td>[cm] Bisa gk yh tugas UAS ini ngerjain dirinya...</td>\n",
       "    </tr>\n",
       "    <tr>\n",
       "      <th>3</th>\n",
       "      <td>[CM] Dosen praktikum saya kasih ini waktu pert...</td>\n",
       "      <td>[CM] Dosen praktikum aku ngasih ini waktu pert...</td>\n",
       "    </tr>\n",
       "    <tr>\n",
       "      <th>4</th>\n",
       "      <td>[cm] Alhamdulilah masih bisa hidup walaupun di...</td>\n",
       "      <td>[cm] Alhamdulilah masih bisa hidup walaupun di...</td>\n",
       "    </tr>\n",
       "  </tbody>\n",
       "</table>\n",
       "</div>"
      ],
      "text/plain": [
       "                                               tweet  \\\n",
       "0  [cm] semester 5 lebih baik ikut studi independ...   \n",
       "1  [cm] di kampus kalian mahasiswa s1 wajib publi...   \n",
       "2  [cm] Bisa tidak iya tugas UAS ini mengerjakan ...   \n",
       "3  [CM] Dosen praktikum saya kasih ini waktu pert...   \n",
       "4  [cm] Alhamdulilah masih bisa hidup walaupun di...   \n",
       "\n",
       "                                          real_tweet  \n",
       "0  [cm] smt 5 mending ikut studi independen dulu ...  \n",
       "1  [cm] di kampus kalian mahasiswa s1 wajib publi...  \n",
       "2  [cm] Bisa gk yh tugas UAS ini ngerjain dirinya...  \n",
       "3  [CM] Dosen praktikum aku ngasih ini waktu pert...  \n",
       "4  [cm] Alhamdulilah masih bisa hidup walaupun di...  "
      ]
     },
     "execution_count": 18,
     "metadata": {},
     "output_type": "execute_result"
    }
   ],
   "source": [
    "# convert acronym word to formal word\n",
    "df['tweet'] = df['tweet'].apply(lambda x: acronym_to_formal(x))\n",
    "\n",
    "df.head()"
   ]
  },
  {
   "cell_type": "code",
   "execution_count": 19,
   "metadata": {},
   "outputs": [],
   "source": [
    "import re\n",
    "def cleanTxt(text):\n",
    "    text = re.sub(r'\\[cm\\]|\\[CM\\]|\\[Cm\\]|\\[cM\\]', '', text)\n",
    "    text = re.sub(r'@\\w+|#\\w+', '', text) #Removing @mentions\n",
    "    text = re.sub('#', '', text) # Removing '#' hash tag\n",
    "    text = re.sub('RT[\\s]+', '', text) # Removing RT\n",
    "    text = re.sub('\\w+:\\/\\/\\S+', '', text) # Removing hyperlink\n",
    "    text = re.sub('[^a-zA-Z]', ' ', text)\n",
    "    # lower case\n",
    "    text = text.lower()\n",
    "    return text"
   ]
  },
  {
   "cell_type": "code",
   "execution_count": 20,
   "metadata": {},
   "outputs": [
    {
     "data": {
      "text/html": [
       "<div>\n",
       "<style scoped>\n",
       "    .dataframe tbody tr th:only-of-type {\n",
       "        vertical-align: middle;\n",
       "    }\n",
       "\n",
       "    .dataframe tbody tr th {\n",
       "        vertical-align: top;\n",
       "    }\n",
       "\n",
       "    .dataframe thead th {\n",
       "        text-align: right;\n",
       "    }\n",
       "</style>\n",
       "<table border=\"1\" class=\"dataframe\">\n",
       "  <thead>\n",
       "    <tr style=\"text-align: right;\">\n",
       "      <th></th>\n",
       "      <th>tweet</th>\n",
       "      <th>real_tweet</th>\n",
       "    </tr>\n",
       "  </thead>\n",
       "  <tbody>\n",
       "    <tr>\n",
       "      <th>0</th>\n",
       "      <td>semester   lebih baik ikut studi independen d...</td>\n",
       "      <td>[cm] smt 5 mending ikut studi independen dulu ...</td>\n",
       "    </tr>\n",
       "    <tr>\n",
       "      <th>1</th>\n",
       "      <td>di kampus kalian mahasiswa s  wajib publish j...</td>\n",
       "      <td>[cm] di kampus kalian mahasiswa s1 wajib publi...</td>\n",
       "    </tr>\n",
       "    <tr>\n",
       "      <th>2</th>\n",
       "      <td>bisa tidak iya tugas uas ini mengerjakan diri...</td>\n",
       "      <td>[cm] Bisa gk yh tugas UAS ini ngerjain dirinya...</td>\n",
       "    </tr>\n",
       "    <tr>\n",
       "      <th>3</th>\n",
       "      <td>dosen praktikum saya kasih ini waktu pertemua...</td>\n",
       "      <td>[CM] Dosen praktikum aku ngasih ini waktu pert...</td>\n",
       "    </tr>\n",
       "    <tr>\n",
       "      <th>4</th>\n",
       "      <td>alhamdulilah masih bisa hidup walaupun dikasi...</td>\n",
       "      <td>[cm] Alhamdulilah masih bisa hidup walaupun di...</td>\n",
       "    </tr>\n",
       "  </tbody>\n",
       "</table>\n",
       "</div>"
      ],
      "text/plain": [
       "                                               tweet  \\\n",
       "0   semester   lebih baik ikut studi independen d...   \n",
       "1   di kampus kalian mahasiswa s  wajib publish j...   \n",
       "2   bisa tidak iya tugas uas ini mengerjakan diri...   \n",
       "3   dosen praktikum saya kasih ini waktu pertemua...   \n",
       "4   alhamdulilah masih bisa hidup walaupun dikasi...   \n",
       "\n",
       "                                          real_tweet  \n",
       "0  [cm] smt 5 mending ikut studi independen dulu ...  \n",
       "1  [cm] di kampus kalian mahasiswa s1 wajib publi...  \n",
       "2  [cm] Bisa gk yh tugas UAS ini ngerjain dirinya...  \n",
       "3  [CM] Dosen praktikum aku ngasih ini waktu pert...  \n",
       "4  [cm] Alhamdulilah masih bisa hidup walaupun di...  "
      ]
     },
     "execution_count": 20,
     "metadata": {},
     "output_type": "execute_result"
    }
   ],
   "source": [
    "# clean the tweet column\n",
    "df['tweet'] = df['tweet'].apply(cleanTxt)\n",
    "df.head()"
   ]
  },
  {
   "cell_type": "code",
   "execution_count": 21,
   "metadata": {},
   "outputs": [],
   "source": [
    "# stemming the tweet using Sastrawi \n",
    "def stemSentence(sentence):\n",
    "    factory = StemmerFactory()\n",
    "    stemmer = factory.create_stemmer()\n",
    "    output   = stemmer.stem(sentence)\n",
    "    return output\n",
    "\n",
    "df['tweet'] = df['tweet'].apply(stemSentence)\n"
   ]
  },
  {
   "cell_type": "code",
   "execution_count": 22,
   "metadata": {},
   "outputs": [],
   "source": [
    "# remove stopword using Sastrawi\n",
    "def removeStopWords(sentence):\n",
    "    factory = StopWordRemoverFactory()\n",
    "    stopword = factory.create_stop_word_remover()\n",
    "    output = stopword.remove(sentence)\n",
    "    return output\n",
    "\n",
    "df['tweet'] = df['tweet'].apply(removeStopWords)"
   ]
  },
  {
   "cell_type": "code",
   "execution_count": 23,
   "metadata": {},
   "outputs": [
    {
     "data": {
      "text/html": [
       "<div>\n",
       "<style scoped>\n",
       "    .dataframe tbody tr th:only-of-type {\n",
       "        vertical-align: middle;\n",
       "    }\n",
       "\n",
       "    .dataframe tbody tr th {\n",
       "        vertical-align: top;\n",
       "    }\n",
       "\n",
       "    .dataframe thead th {\n",
       "        text-align: right;\n",
       "    }\n",
       "</style>\n",
       "<table border=\"1\" class=\"dataframe\">\n",
       "  <thead>\n",
       "    <tr style=\"text-align: right;\">\n",
       "      <th></th>\n",
       "      <th>tweet</th>\n",
       "      <th>real_tweet</th>\n",
       "    </tr>\n",
       "  </thead>\n",
       "  <tbody>\n",
       "    <tr>\n",
       "      <th>0</th>\n",
       "      <td>semester studi independen magang yaa semester ...</td>\n",
       "      <td>[cm] smt 5 mending ikut studi independen dulu ...</td>\n",
       "    </tr>\n",
       "    <tr>\n",
       "      <th>1</th>\n",
       "      <td>kampus mahasiswa wajib publish jurnal indeks s...</td>\n",
       "      <td>[cm] di kampus kalian mahasiswa s1 wajib publi...</td>\n",
       "    </tr>\n",
       "    <tr>\n",
       "      <th>2</th>\n",
       "      <td>iya tugas uas manja bantu kerjain</td>\n",
       "      <td>[cm] Bisa gk yh tugas UAS ini ngerjain dirinya...</td>\n",
       "    </tr>\n",
       "    <tr>\n",
       "      <th>3</th>\n",
       "      <td>dosen praktikum kasih waktu temu kelas haru bg...</td>\n",
       "      <td>[CM] Dosen praktikum aku ngasih ini waktu pert...</td>\n",
       "    </tr>\n",
       "    <tr>\n",
       "      <th>4</th>\n",
       "      <td>alhamdulilah hidup kasi include kos kuliah jak...</td>\n",
       "      <td>[cm] Alhamdulilah masih bisa hidup walaupun di...</td>\n",
       "    </tr>\n",
       "  </tbody>\n",
       "</table>\n",
       "</div>"
      ],
      "text/plain": [
       "                                               tweet  \\\n",
       "0  semester studi independen magang yaa semester ...   \n",
       "1  kampus mahasiswa wajib publish jurnal indeks s...   \n",
       "2                  iya tugas uas manja bantu kerjain   \n",
       "3  dosen praktikum kasih waktu temu kelas haru bg...   \n",
       "4  alhamdulilah hidup kasi include kos kuliah jak...   \n",
       "\n",
       "                                          real_tweet  \n",
       "0  [cm] smt 5 mending ikut studi independen dulu ...  \n",
       "1  [cm] di kampus kalian mahasiswa s1 wajib publi...  \n",
       "2  [cm] Bisa gk yh tugas UAS ini ngerjain dirinya...  \n",
       "3  [CM] Dosen praktikum aku ngasih ini waktu pert...  \n",
       "4  [cm] Alhamdulilah masih bisa hidup walaupun di...  "
      ]
     },
     "execution_count": 23,
     "metadata": {},
     "output_type": "execute_result"
    }
   ],
   "source": [
    "df.head()"
   ]
  },
  {
   "cell_type": "code",
   "execution_count": 24,
   "metadata": {},
   "outputs": [],
   "source": [
    "# tokenize the tweet column and store it in unigram column\n",
    "df['unigram'] = df['tweet'].apply(word_tokenize)\n"
   ]
  },
  {
   "cell_type": "code",
   "execution_count": 25,
   "metadata": {},
   "outputs": [
    {
     "data": {
      "text/html": [
       "<div>\n",
       "<style scoped>\n",
       "    .dataframe tbody tr th:only-of-type {\n",
       "        vertical-align: middle;\n",
       "    }\n",
       "\n",
       "    .dataframe tbody tr th {\n",
       "        vertical-align: top;\n",
       "    }\n",
       "\n",
       "    .dataframe thead th {\n",
       "        text-align: right;\n",
       "    }\n",
       "</style>\n",
       "<table border=\"1\" class=\"dataframe\">\n",
       "  <thead>\n",
       "    <tr style=\"text-align: right;\">\n",
       "      <th></th>\n",
       "      <th>tweet</th>\n",
       "      <th>real_tweet</th>\n",
       "      <th>unigram</th>\n",
       "      <th>score</th>\n",
       "    </tr>\n",
       "  </thead>\n",
       "  <tbody>\n",
       "    <tr>\n",
       "      <th>0</th>\n",
       "      <td>semester studi independen magang yaa semester ...</td>\n",
       "      <td>[cm] smt 5 mending ikut studi independen dulu ...</td>\n",
       "      <td>[semester, studi, independen, magang, yaa, sem...</td>\n",
       "      <td>0</td>\n",
       "    </tr>\n",
       "    <tr>\n",
       "      <th>1</th>\n",
       "      <td>kampus mahasiswa wajib publish jurnal indeks s...</td>\n",
       "      <td>[cm] di kampus kalian mahasiswa s1 wajib publi...</td>\n",
       "      <td>[kampus, mahasiswa, wajib, publish, jurnal, in...</td>\n",
       "      <td>0</td>\n",
       "    </tr>\n",
       "    <tr>\n",
       "      <th>2</th>\n",
       "      <td>iya tugas uas manja bantu kerjain</td>\n",
       "      <td>[cm] Bisa gk yh tugas UAS ini ngerjain dirinya...</td>\n",
       "      <td>[iya, tugas, uas, manja, bantu, kerjain]</td>\n",
       "      <td>2</td>\n",
       "    </tr>\n",
       "    <tr>\n",
       "      <th>3</th>\n",
       "      <td>dosen praktikum kasih waktu temu kelas haru bg...</td>\n",
       "      <td>[CM] Dosen praktikum aku ngasih ini waktu pert...</td>\n",
       "      <td>[dosen, praktikum, kasih, waktu, temu, kelas, ...</td>\n",
       "      <td>2</td>\n",
       "    </tr>\n",
       "    <tr>\n",
       "      <th>4</th>\n",
       "      <td>alhamdulilah hidup kasi include kos kuliah jak...</td>\n",
       "      <td>[cm] Alhamdulilah masih bisa hidup walaupun di...</td>\n",
       "      <td>[alhamdulilah, hidup, kasi, include, kos, kuli...</td>\n",
       "      <td>1</td>\n",
       "    </tr>\n",
       "  </tbody>\n",
       "</table>\n",
       "</div>"
      ],
      "text/plain": [
       "                                               tweet  \\\n",
       "0  semester studi independen magang yaa semester ...   \n",
       "1  kampus mahasiswa wajib publish jurnal indeks s...   \n",
       "2                  iya tugas uas manja bantu kerjain   \n",
       "3  dosen praktikum kasih waktu temu kelas haru bg...   \n",
       "4  alhamdulilah hidup kasi include kos kuliah jak...   \n",
       "\n",
       "                                          real_tweet  \\\n",
       "0  [cm] smt 5 mending ikut studi independen dulu ...   \n",
       "1  [cm] di kampus kalian mahasiswa s1 wajib publi...   \n",
       "2  [cm] Bisa gk yh tugas UAS ini ngerjain dirinya...   \n",
       "3  [CM] Dosen praktikum aku ngasih ini waktu pert...   \n",
       "4  [cm] Alhamdulilah masih bisa hidup walaupun di...   \n",
       "\n",
       "                                             unigram  score  \n",
       "0  [semester, studi, independen, magang, yaa, sem...      0  \n",
       "1  [kampus, mahasiswa, wajib, publish, jurnal, in...      0  \n",
       "2           [iya, tugas, uas, manja, bantu, kerjain]      2  \n",
       "3  [dosen, praktikum, kasih, waktu, temu, kelas, ...      2  \n",
       "4  [alhamdulilah, hidup, kasi, include, kos, kuli...      1  "
      ]
     },
     "execution_count": 25,
     "metadata": {},
     "output_type": "execute_result"
    }
   ],
   "source": [
    "# classify the tweet using negatif and positif words\n",
    "def classify(text):\n",
    "    score = 0\n",
    "    for word in text:\n",
    "        if word in positif:\n",
    "            score += 1\n",
    "        elif word in negatif:\n",
    "            score -= 1\n",
    "    return score\n",
    "\n",
    "df['score'] = df['unigram'].apply(classify)\n",
    "df.head()"
   ]
  },
  {
   "cell_type": "code",
   "execution_count": 26,
   "metadata": {},
   "outputs": [
    {
     "data": {
      "text/html": [
       "<div>\n",
       "<style scoped>\n",
       "    .dataframe tbody tr th:only-of-type {\n",
       "        vertical-align: middle;\n",
       "    }\n",
       "\n",
       "    .dataframe tbody tr th {\n",
       "        vertical-align: top;\n",
       "    }\n",
       "\n",
       "    .dataframe thead th {\n",
       "        text-align: right;\n",
       "    }\n",
       "</style>\n",
       "<table border=\"1\" class=\"dataframe\">\n",
       "  <thead>\n",
       "    <tr style=\"text-align: right;\">\n",
       "      <th></th>\n",
       "      <th>tweet</th>\n",
       "      <th>real_tweet</th>\n",
       "      <th>unigram</th>\n",
       "      <th>score</th>\n",
       "      <th>label</th>\n",
       "    </tr>\n",
       "  </thead>\n",
       "  <tbody>\n",
       "    <tr>\n",
       "      <th>0</th>\n",
       "      <td>semester studi independen magang yaa semester ...</td>\n",
       "      <td>[cm] smt 5 mending ikut studi independen dulu ...</td>\n",
       "      <td>[semester, studi, independen, magang, yaa, sem...</td>\n",
       "      <td>0</td>\n",
       "      <td>netral</td>\n",
       "    </tr>\n",
       "    <tr>\n",
       "      <th>1</th>\n",
       "      <td>kampus mahasiswa wajib publish jurnal indeks s...</td>\n",
       "      <td>[cm] di kampus kalian mahasiswa s1 wajib publi...</td>\n",
       "      <td>[kampus, mahasiswa, wajib, publish, jurnal, in...</td>\n",
       "      <td>0</td>\n",
       "      <td>netral</td>\n",
       "    </tr>\n",
       "    <tr>\n",
       "      <th>2</th>\n",
       "      <td>iya tugas uas manja bantu kerjain</td>\n",
       "      <td>[cm] Bisa gk yh tugas UAS ini ngerjain dirinya...</td>\n",
       "      <td>[iya, tugas, uas, manja, bantu, kerjain]</td>\n",
       "      <td>2</td>\n",
       "      <td>positif</td>\n",
       "    </tr>\n",
       "    <tr>\n",
       "      <th>3</th>\n",
       "      <td>dosen praktikum kasih waktu temu kelas haru bg...</td>\n",
       "      <td>[CM] Dosen praktikum aku ngasih ini waktu pert...</td>\n",
       "      <td>[dosen, praktikum, kasih, waktu, temu, kelas, ...</td>\n",
       "      <td>2</td>\n",
       "      <td>positif</td>\n",
       "    </tr>\n",
       "    <tr>\n",
       "      <th>4</th>\n",
       "      <td>alhamdulilah hidup kasi include kos kuliah jak...</td>\n",
       "      <td>[cm] Alhamdulilah masih bisa hidup walaupun di...</td>\n",
       "      <td>[alhamdulilah, hidup, kasi, include, kos, kuli...</td>\n",
       "      <td>1</td>\n",
       "      <td>positif</td>\n",
       "    </tr>\n",
       "  </tbody>\n",
       "</table>\n",
       "</div>"
      ],
      "text/plain": [
       "                                               tweet  \\\n",
       "0  semester studi independen magang yaa semester ...   \n",
       "1  kampus mahasiswa wajib publish jurnal indeks s...   \n",
       "2                  iya tugas uas manja bantu kerjain   \n",
       "3  dosen praktikum kasih waktu temu kelas haru bg...   \n",
       "4  alhamdulilah hidup kasi include kos kuliah jak...   \n",
       "\n",
       "                                          real_tweet  \\\n",
       "0  [cm] smt 5 mending ikut studi independen dulu ...   \n",
       "1  [cm] di kampus kalian mahasiswa s1 wajib publi...   \n",
       "2  [cm] Bisa gk yh tugas UAS ini ngerjain dirinya...   \n",
       "3  [CM] Dosen praktikum aku ngasih ini waktu pert...   \n",
       "4  [cm] Alhamdulilah masih bisa hidup walaupun di...   \n",
       "\n",
       "                                             unigram  score    label  \n",
       "0  [semester, studi, independen, magang, yaa, sem...      0   netral  \n",
       "1  [kampus, mahasiswa, wajib, publish, jurnal, in...      0   netral  \n",
       "2           [iya, tugas, uas, manja, bantu, kerjain]      2  positif  \n",
       "3  [dosen, praktikum, kasih, waktu, temu, kelas, ...      2  positif  \n",
       "4  [alhamdulilah, hidup, kasi, include, kos, kuli...      1  positif  "
      ]
     },
     "execution_count": 26,
     "metadata": {},
     "output_type": "execute_result"
    }
   ],
   "source": [
    "# label the tweet based on actual_score\n",
    "def labelTweet(score):\n",
    "    if score > 0:\n",
    "        return 'positif'\n",
    "    elif score < 0:\n",
    "        return 'negatif'\n",
    "    else:\n",
    "        return 'netral'\n",
    "\n",
    "df['label'] = df['score'].apply(labelTweet)\n",
    "df.head()"
   ]
  },
  {
   "cell_type": "code",
   "execution_count": 27,
   "metadata": {},
   "outputs": [
    {
     "data": {
      "text/plain": [
       "positif    4168\n",
       "netral     4114\n",
       "negatif    1578\n",
       "Name: label, dtype: int64"
      ]
     },
     "execution_count": 27,
     "metadata": {},
     "output_type": "execute_result"
    }
   ],
   "source": [
    "# count the label\n",
    "df['label'].value_counts()"
   ]
  },
  {
   "cell_type": "code",
   "execution_count": 28,
   "metadata": {},
   "outputs": [],
   "source": [
    "# save the result to csv\n",
    "df.to_csv('result.csv', index=False)\n"
   ]
  },
  {
   "cell_type": "code",
   "execution_count": 29,
   "metadata": {},
   "outputs": [
    {
     "data": {
      "text/html": [
       "<div>\n",
       "<style scoped>\n",
       "    .dataframe tbody tr th:only-of-type {\n",
       "        vertical-align: middle;\n",
       "    }\n",
       "\n",
       "    .dataframe tbody tr th {\n",
       "        vertical-align: top;\n",
       "    }\n",
       "\n",
       "    .dataframe thead th {\n",
       "        text-align: right;\n",
       "    }\n",
       "</style>\n",
       "<table border=\"1\" class=\"dataframe\">\n",
       "  <thead>\n",
       "    <tr style=\"text-align: right;\">\n",
       "      <th></th>\n",
       "      <th>tweet</th>\n",
       "      <th>real_tweet</th>\n",
       "      <th>unigram</th>\n",
       "      <th>score</th>\n",
       "      <th>label</th>\n",
       "    </tr>\n",
       "  </thead>\n",
       "  <tbody>\n",
       "    <tr>\n",
       "      <th>0</th>\n",
       "      <td>semester studi independen magang yaa semester ...</td>\n",
       "      <td>[cm] smt 5 mending ikut studi independen dulu ...</td>\n",
       "      <td>['semester', 'studi', 'independen', 'magang', ...</td>\n",
       "      <td>0</td>\n",
       "      <td>netral</td>\n",
       "    </tr>\n",
       "    <tr>\n",
       "      <th>1</th>\n",
       "      <td>kampus mahasiswa wajib publish jurnal indeks s...</td>\n",
       "      <td>[cm] di kampus kalian mahasiswa s1 wajib publi...</td>\n",
       "      <td>['kampus', 'mahasiswa', 'wajib', 'publish', 'j...</td>\n",
       "      <td>0</td>\n",
       "      <td>netral</td>\n",
       "    </tr>\n",
       "    <tr>\n",
       "      <th>2</th>\n",
       "      <td>iya tugas uas manja bantu kerjain</td>\n",
       "      <td>[cm] Bisa gk yh tugas UAS ini ngerjain dirinya...</td>\n",
       "      <td>['iya', 'tugas', 'uas', 'manja', 'bantu', 'ker...</td>\n",
       "      <td>2</td>\n",
       "      <td>positif</td>\n",
       "    </tr>\n",
       "    <tr>\n",
       "      <th>3</th>\n",
       "      <td>dosen praktikum kasih waktu temu kelas haru bg...</td>\n",
       "      <td>[CM] Dosen praktikum aku ngasih ini waktu pert...</td>\n",
       "      <td>['dosen', 'praktikum', 'kasih', 'waktu', 'temu...</td>\n",
       "      <td>2</td>\n",
       "      <td>positif</td>\n",
       "    </tr>\n",
       "    <tr>\n",
       "      <th>4</th>\n",
       "      <td>alhamdulilah hidup kasi include kos kuliah jak...</td>\n",
       "      <td>[cm] Alhamdulilah masih bisa hidup walaupun di...</td>\n",
       "      <td>['alhamdulilah', 'hidup', 'kasi', 'include', '...</td>\n",
       "      <td>1</td>\n",
       "      <td>positif</td>\n",
       "    </tr>\n",
       "  </tbody>\n",
       "</table>\n",
       "</div>"
      ],
      "text/plain": [
       "                                               tweet  \\\n",
       "0  semester studi independen magang yaa semester ...   \n",
       "1  kampus mahasiswa wajib publish jurnal indeks s...   \n",
       "2                  iya tugas uas manja bantu kerjain   \n",
       "3  dosen praktikum kasih waktu temu kelas haru bg...   \n",
       "4  alhamdulilah hidup kasi include kos kuliah jak...   \n",
       "\n",
       "                                          real_tweet  \\\n",
       "0  [cm] smt 5 mending ikut studi independen dulu ...   \n",
       "1  [cm] di kampus kalian mahasiswa s1 wajib publi...   \n",
       "2  [cm] Bisa gk yh tugas UAS ini ngerjain dirinya...   \n",
       "3  [CM] Dosen praktikum aku ngasih ini waktu pert...   \n",
       "4  [cm] Alhamdulilah masih bisa hidup walaupun di...   \n",
       "\n",
       "                                             unigram  score    label  \n",
       "0  ['semester', 'studi', 'independen', 'magang', ...      0   netral  \n",
       "1  ['kampus', 'mahasiswa', 'wajib', 'publish', 'j...      0   netral  \n",
       "2  ['iya', 'tugas', 'uas', 'manja', 'bantu', 'ker...      2  positif  \n",
       "3  ['dosen', 'praktikum', 'kasih', 'waktu', 'temu...      2  positif  \n",
       "4  ['alhamdulilah', 'hidup', 'kasi', 'include', '...      1  positif  "
      ]
     },
     "execution_count": 29,
     "metadata": {},
     "output_type": "execute_result"
    }
   ],
   "source": [
    "# read the result\n",
    "df = pd.read_csv('result.csv')\n",
    "df.head()"
   ]
  },
  {
   "cell_type": "code",
   "execution_count": 30,
   "metadata": {},
   "outputs": [
    {
     "data": {
      "text/html": [
       "<div>\n",
       "<style scoped>\n",
       "    .dataframe tbody tr th:only-of-type {\n",
       "        vertical-align: middle;\n",
       "    }\n",
       "\n",
       "    .dataframe tbody tr th {\n",
       "        vertical-align: top;\n",
       "    }\n",
       "\n",
       "    .dataframe thead th {\n",
       "        text-align: right;\n",
       "    }\n",
       "</style>\n",
       "<table border=\"1\" class=\"dataframe\">\n",
       "  <thead>\n",
       "    <tr style=\"text-align: right;\">\n",
       "      <th></th>\n",
       "      <th>tweet</th>\n",
       "      <th>real_tweet</th>\n",
       "      <th>unigram</th>\n",
       "      <th>score</th>\n",
       "      <th>label</th>\n",
       "    </tr>\n",
       "  </thead>\n",
       "  <tbody>\n",
       "    <tr>\n",
       "      <th>0</th>\n",
       "      <td>semester studi independen magang yaa semester ...</td>\n",
       "      <td>[cm] smt 5 mending ikut studi independen dulu ...</td>\n",
       "      <td>['semester', 'studi', 'independen', 'magang', ...</td>\n",
       "      <td>0</td>\n",
       "      <td>2</td>\n",
       "    </tr>\n",
       "    <tr>\n",
       "      <th>1</th>\n",
       "      <td>kampus mahasiswa wajib publish jurnal indeks s...</td>\n",
       "      <td>[cm] di kampus kalian mahasiswa s1 wajib publi...</td>\n",
       "      <td>['kampus', 'mahasiswa', 'wajib', 'publish', 'j...</td>\n",
       "      <td>0</td>\n",
       "      <td>2</td>\n",
       "    </tr>\n",
       "    <tr>\n",
       "      <th>2</th>\n",
       "      <td>iya tugas uas manja bantu kerjain</td>\n",
       "      <td>[cm] Bisa gk yh tugas UAS ini ngerjain dirinya...</td>\n",
       "      <td>['iya', 'tugas', 'uas', 'manja', 'bantu', 'ker...</td>\n",
       "      <td>2</td>\n",
       "      <td>1</td>\n",
       "    </tr>\n",
       "    <tr>\n",
       "      <th>3</th>\n",
       "      <td>dosen praktikum kasih waktu temu kelas haru bg...</td>\n",
       "      <td>[CM] Dosen praktikum aku ngasih ini waktu pert...</td>\n",
       "      <td>['dosen', 'praktikum', 'kasih', 'waktu', 'temu...</td>\n",
       "      <td>2</td>\n",
       "      <td>1</td>\n",
       "    </tr>\n",
       "    <tr>\n",
       "      <th>4</th>\n",
       "      <td>alhamdulilah hidup kasi include kos kuliah jak...</td>\n",
       "      <td>[cm] Alhamdulilah masih bisa hidup walaupun di...</td>\n",
       "      <td>['alhamdulilah', 'hidup', 'kasi', 'include', '...</td>\n",
       "      <td>1</td>\n",
       "      <td>1</td>\n",
       "    </tr>\n",
       "  </tbody>\n",
       "</table>\n",
       "</div>"
      ],
      "text/plain": [
       "                                               tweet  \\\n",
       "0  semester studi independen magang yaa semester ...   \n",
       "1  kampus mahasiswa wajib publish jurnal indeks s...   \n",
       "2                  iya tugas uas manja bantu kerjain   \n",
       "3  dosen praktikum kasih waktu temu kelas haru bg...   \n",
       "4  alhamdulilah hidup kasi include kos kuliah jak...   \n",
       "\n",
       "                                          real_tweet  \\\n",
       "0  [cm] smt 5 mending ikut studi independen dulu ...   \n",
       "1  [cm] di kampus kalian mahasiswa s1 wajib publi...   \n",
       "2  [cm] Bisa gk yh tugas UAS ini ngerjain dirinya...   \n",
       "3  [CM] Dosen praktikum aku ngasih ini waktu pert...   \n",
       "4  [cm] Alhamdulilah masih bisa hidup walaupun di...   \n",
       "\n",
       "                                             unigram  score  label  \n",
       "0  ['semester', 'studi', 'independen', 'magang', ...      0      2  \n",
       "1  ['kampus', 'mahasiswa', 'wajib', 'publish', 'j...      0      2  \n",
       "2  ['iya', 'tugas', 'uas', 'manja', 'bantu', 'ker...      2      1  \n",
       "3  ['dosen', 'praktikum', 'kasih', 'waktu', 'temu...      2      1  \n",
       "4  ['alhamdulilah', 'hidup', 'kasi', 'include', '...      1      1  "
      ]
     },
     "execution_count": 30,
     "metadata": {},
     "output_type": "execute_result"
    }
   ],
   "source": [
    "# label to number\n",
    "df['label'] = df['label'].map({'positif': 1, 'negatif': 0, 'netral': 2})\n",
    "df.head()"
   ]
  },
  {
   "cell_type": "code",
   "execution_count": 31,
   "metadata": {},
   "outputs": [],
   "source": [
    "# select score, score_bigram, score_trigram and actual_score as feature\n",
    "X = df[['score']]\n",
    "y = df['label']"
   ]
  },
  {
   "cell_type": "code",
   "execution_count": 32,
   "metadata": {},
   "outputs": [
    {
     "name": "stdout",
     "output_type": "stream",
     "text": [
      "Accuracy:  1.0\n",
      "Confusion Matrix:  [[324   0   0]\n",
      " [  0 841   0]\n",
      " [  0   0 807]]\n"
     ]
    }
   ],
   "source": [
    "# split the data to train and test\n",
    "X_train, X_test, y_train, y_test = train_test_split(X, y, test_size=0.2, random_state=42)\n",
    "\n",
    "# train the model\n",
    "model = LogisticRegression()\n",
    "model.fit(X_train, y_train)\n",
    "\n",
    "# predict the test data\n",
    "y_pred = model.predict(X_test)\n",
    "\n",
    "# get the accuracy\n",
    "print('Accuracy: ', accuracy_score(y_test, y_pred))\n",
    "\n",
    "# get the confusion matrix\n",
    "print('Confusion Matrix: ', confusion_matrix(y_test, y_pred))"
   ]
  },
  {
   "cell_type": "code",
   "execution_count": 33,
   "metadata": {},
   "outputs": [
    {
     "data": {
      "image/png": "[encoded data removed]",
      "text/plain": [
       "<Figure size 1000x1000 with 2 Axes>"
      ]
     },
     "metadata": {},
     "output_type": "display_data"
    }
   ],
   "source": [
    "# plot the confusion matrix\n",
    "cm = confusion_matrix(y_test, y_pred)\n",
    "plt.figure(figsize=(10, 10))\n",
    "sns.heatmap(cm, annot=True, fmt='d')\n",
    "plt.title('Confusion matrix')\n",
    "plt.ylabel('Actual label')\n",
    "plt.xlabel('Predicted label')\n",
    "plt.show()\n"
   ]
  },
  {
   "cell_type": "code",
   "execution_count": 34,
   "metadata": {},
   "outputs": [],
   "source": [
    "# import twint\n",
    "# import nest_asyncio\n",
    "\n",
    "# nest_asyncio.apply()\n",
    "\n",
    "# # from collegemenfess get 500 latest tweet\n",
    "# c = twint.Config()\n",
    "# c.Username = \"collegemenfess\"\n",
    "# c.Limit = 500\n",
    "# c.Store_csv = True\n",
    "# c.Output = \"test.csv\"\n",
    "# twint.run.Search(c)\n"
   ]
  },
  {
   "cell_type": "code",
   "execution_count": 35,
   "metadata": {},
   "outputs": [],
   "source": [
    "# func to preprocess the tweet\n",
    "def preprocessing(df):\n",
    "    df = df[['tweet']]\n",
    "    df = df.dropna()\n",
    "    df['tweet'] = df['tweet'].apply(cleanTxt)\n",
    "    df['tweet'] = df['tweet'].apply(lambda x: slang_to_formal(x))\n",
    "    df['tweet'] = df['tweet'].apply(lambda x: acronym_to_formal(x))\n",
    "    df['tweet'] = df['tweet'].apply(stemSentence)\n",
    "    df['tweet'] = df['tweet'].apply(removeStopWords)\n",
    "    df['unigram'] = df['tweet'].apply(word_tokenize)\n",
    "    df['score'] = df['unigram'].apply(classify)\n",
    "    df['label'] = df['score'].apply(labelTweet)\n",
    "    df['label'] = df['label'].map({'positif': 1, 'negatif': 0, 'netral': 2})\n",
    "    return df"
   ]
  },
  {
   "cell_type": "code",
   "execution_count": 36,
   "metadata": {},
   "outputs": [
    {
     "data": {
      "text/plain": [
       "(500, 36)"
      ]
     },
     "execution_count": 36,
     "metadata": {},
     "output_type": "execute_result"
    }
   ],
   "source": [
    "# predict the tweet from test.csv\n",
    "test = pd.read_csv('test.csv')\n",
    "test.head()\n",
    "test.shape\n"
   ]
  },
  {
   "cell_type": "code",
   "execution_count": 37,
   "metadata": {},
   "outputs": [],
   "source": [
    "# preprocess the test data\n",
    "test = preprocessing(test)"
   ]
  },
  {
   "cell_type": "code",
   "execution_count": 38,
   "metadata": {},
   "outputs": [
    {
     "name": "stdout",
     "output_type": "stream",
     "text": [
      "Accuracy:  1.0\n",
      "Confusion Matrix:  [[ 65   0   0]\n",
      " [  0 238   0]\n",
      " [  0   0 197]]\n"
     ]
    },
    {
     "name": "stderr",
     "output_type": "stream",
     "text": [
      "/Users/akhmadramadani/Documents/TF/miniconda3/lib/python3.9/site-packages/sklearn/base.py:409: UserWarning: X does not have valid feature names, but LogisticRegression was fitted with feature names\n",
      "  warnings.warn(\n"
     ]
    }
   ],
   "source": [
    "# test data to get precision, recall, f1-score, and support and accuracy and confusion matrix\n",
    "X_test = test['score']\n",
    "\n",
    "y_test = test['label']\n",
    "\n",
    "# reshape the data\n",
    "X_test = X_test.values.reshape(-1, 1)\n",
    "\n",
    "\n",
    "# predict the test data\n",
    "y_pred = model.predict(X_test)\n",
    "\n",
    "# get the accuracy\n",
    "print('Accuracy: ', accuracy_score(y_test, y_pred))\n",
    "\n",
    "# get the confusion matrix\n",
    "print('Confusion Matrix: ', confusion_matrix(y_test, y_pred))\n",
    "\n"
   ]
  },
  {
   "cell_type": "code",
   "execution_count": 39,
   "metadata": {},
   "outputs": [
    {
     "data": {
      "image/png": "[encoded data removed]",
      "text/plain": [
       "<Figure size 1000x1000 with 2 Axes>"
      ]
     },
     "metadata": {},
     "output_type": "display_data"
    }
   ],
   "source": [
    "# plot the confusion matrix\n",
    "cm = confusion_matrix(y_test, y_pred)\n",
    "plt.figure(figsize=(10, 10))\n",
    "sns.heatmap(cm, annot=True, fmt='d')\n",
    "plt.title('Confusion matrix')\n",
    "plt.ylabel('Actual label')\n",
    "plt.xlabel('Predicted label')\n",
    "plt.show()\n"
   ]
  },
  {
   "cell_type": "code",
   "execution_count": 40,
   "metadata": {},
   "outputs": [],
   "source": [
    "# save the model\n",
    "import pickle\n",
    "pickle.dump(model, open('model.pkl', 'wb'))\n"
   ]
  },
  {
   "cell_type": "code",
   "execution_count": 41,
   "metadata": {},
   "outputs": [],
   "source": [
    "# load the model\n",
    "model = pickle.load(open('model.pkl', 'rb'))\n"
   ]
  },
  {
   "cell_type": "code",
   "execution_count": 42,
   "metadata": {},
   "outputs": [],
   "source": [
    "\n",
    "# predict the tweet\n",
    "def predictTweet(tweet):\n",
    "    tweet = cleanTxt(tweet)\n",
    "    tweet = slang_to_formal(tweet)\n",
    "    tweet = acronym_to_formal(tweet)\n",
    "    print('Tweet Baku: ', tweet)\n",
    "    tweet = stemSentence(tweet)\n",
    "    tweet = removeStopWords(tweet)\n",
    "    unigram = word_tokenize(tweet)\n",
    "    score = classify(unigram)\n",
    "    label = labelTweet(score)\n",
    "    print('Preprocessed Tweet: ', tweet)\n",
    "    print('Label: ', label)\n",
    "    print('Unigram: ', unigram)\n",
    "    print('Score Unigram: ', score)\n",
    "    \n",
    "    return label\n"
   ]
  }
 ],
 "metadata": {
  "kernelspec": {
   "display_name": "base",
   "language": "python",
   "name": "python3"
  },
  "language_info": {
   "codemirror_mode": {
    "name": "ipython",
    "version": 3
   },
   "file_extension": ".py",
   "mimetype": "text/x-python",
   "name": "python",
   "nbconvert_exporter": "python",
   "pygments_lexer": "ipython3",
   "version": "3.9.15"
  },
  "orig_nbformat": 4,
  "vscode": {
   "interpreter": {
    "hash": "01995e28fbcd4b9981789eeef76fb291d0df90a8bbb13c203596c864ac6e02bb"
   }
  }
 },
 "nbformat": 4,
 "nbformat_minor": 2
}
